{
 "cells": [
  {
   "cell_type": "markdown",
   "metadata": {},
   "source": [
    "# 데이터셋 다운로드(1.5GB)\n",
    "https://www.microsoft.com/en-us/download/details.aspx?id=54765"
   ]
  },
  {
   "cell_type": "markdown",
   "metadata": {},
   "source": [
    "## 이미지 증강(Image augmentation)"
   ]
  },
  {
   "cell_type": "code",
   "execution_count": null,
   "metadata": {},
   "outputs": [],
   "source": [
    "import matplotlib\n",
    "matplotlib.use(\"TkAgg\")\n",
    "from tensorflow.keras.preprocessing.image import ImageDataGenerator\n",
    "from matplotlib import pyplot as plt\n",
    "import numpy as np\n",
    "import random\n",
    "import os\n",
    "\n",
    "src = 'Dataset/PetImages/'\n",
    "\n",
    "# 데이터셋이 있는지 먼저 확인한다. 없다면 내려 받아야 한다\n",
    "if not os.path.isdir(src):\n",
    "    print(\"src path error\")\n",
    "    quit()\n",
    "\n",
    "image_generator = ImageDataGenerator(rotation_range = 30,\n",
    "                                     width_shift_range = 0.2,\n",
    "                                     height_shift_range = 0.2,\n",
    "                                     zoom_range = 0.2,\n",
    "                                     horizontal_flip=True,\n",
    "                                     fill_mode='nearest')\n",
    "\n",
    "fig, ax = plt.subplots(2,3, figsize=(20,10))\n",
    "all_images = []\n",
    "\n",
    "_, _, dog_images = next(os.walk(src+'/Train/Dog/'))\n",
    "random_img = random.sample(dog_images, 1)[0]\n",
    "print(random_img)\n",
    "random_img = plt.imread(src+'/Train/Dog/'+random_img)\n",
    "all_images.append(random_img)\n",
    "\n",
    "random_img = random_img.reshape((1,) + random_img.shape)\n",
    "sample_augmented_images = image_generator.flow(random_img)\n",
    "\n",
    "# 이미지 증강을 통해 5개의 새로운 이미지를 생성\n",
    "for _ in range(5):  # 5번 반복해서 5개의 증강 이미지를 생성\n",
    "    augmented_imgs = sample_augmented_images.__next__()  # 증강된 이미지 배치를 생성 (배치 크기만큼 이미지 반환)\n",
    "    for img in augmented_imgs:  # 배치 내의 각 이미지를 순회\n",
    "        all_images.append(img.astype('uint8'))  # 이미지를 uint8 형식으로 변환한 후 리스트에 추가\n",
    "\n",
    "# 이미지를 서브플롯에 출력\n",
    "for idx, img in enumerate(all_images):  # 원본 이미지와 증강된 이미지를 순서대로 열거\n",
    "    # 2x3 서브플롯에서 각 이미지를 출력하기 위한 위치 계산\n",
    "    # idx를 3으로 나눈 몫이 서브플롯의 행(row), 나머지가 열(column)을 결정\n",
    "    ax[int(idx / 3), idx % 3].imshow(img)  # 계산된 위치에 이미지를 출력\n",
    "    ax[int(idx / 3), idx % 3].axis('off')  # 축을 숨겨서 이미지만 표시\n",
    "\n",
    "    # 첫 번째 이미지는 원본 이미지이므로 \"Original Image\" 제목을 붙임\n",
    "    if idx == 0:\n",
    "        ax[int(idx / 3), idx % 3].set_title('Original Image')\n",
    "    else:\n",
    "        # 그 외의 이미지는 증강된 이미지이므로 \"Augmented Image X\" 제목을 붙임\n",
    "        ax[int(idx / 3), idx % 3].set_title('Augmented Image {}'.format(idx))\n",
    "\n",
    "plt.show()  # 모든 이미지를 화면에 표시"
   ]
  }
 ],
 "metadata": {
  "language_info": {
   "name": "python"
  }
 },
 "nbformat": 4,
 "nbformat_minor": 2
}

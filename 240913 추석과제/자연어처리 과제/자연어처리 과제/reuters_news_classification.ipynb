{
  "cells": [
    {
      "cell_type": "markdown",
      "metadata": {
        "id": "6wZ0T1E6bKGC"
      },
      "source": [
        "# 로이터 뉴스 데이터 분류"
      ]
    },
    {
      "cell_type": "code",
      "execution_count": 26,
      "metadata": {
        "id": "US5FdxUgOMKe"
      },
      "outputs": [],
      "source": [
        "import numpy as np\n",
        "import seaborn as sns\n",
        "import matplotlib.pyplot as plt\n"
      ]
    },
    {
      "cell_type": "code",
      "execution_count": 27,
      "metadata": {
        "colab": {
          "base_uri": "https://localhost:8080/"
        },
        "id": "l7NVOeX6OMZp",
        "outputId": "35f3f3c5-e3af-4d12-eb2c-f05bacbff876"
      },
      "outputs": [],
      "source": [
        "# 데이터 불러오기\n",
        "from tensorflow.keras.datasets import reuters\n",
        "# num_words로 사용할 단어 수 지정 가능, None일 경우 데이터셋에 존재하는 모든 단어 사용(데이터 확인용)\n",
        "(X_train, y_train), (X_test, y_test) = reuters.load_data(num_words=None, test_split=0.2)"
      ]
    },
    {
      "cell_type": "code",
      "execution_count": null,
      "metadata": {
        "colab": {
          "base_uri": "https://localhost:8080/"
        },
        "id": "2hbheqCB1d0E",
        "outputId": "4dc72902-053c-4f96-94df-b98c68098af6"
      },
      "outputs": [],
      "source": [
        "# 데이터셋 구조 확인(훈련용 데이터 개수, 테스트용 데이터 개수, 카테고리 수 등)\n",
        "train_numbers = len(X_train)\n",
        "test_numbers = len(X_test)\n",
        "categories = len(np.unique(y_train))\n",
        "\n",
        "print('훈련용 데이터 개수:', train_numbers)\n",
        "print('테스트용 데이터 개수:', test_numbers)\n",
        "print('카테고리 수:', categories)"
      ]
    },
    {
      "cell_type": "code",
      "execution_count": null,
      "metadata": {
        "colab": {
          "base_uri": "https://localhost:8080/",
          "height": 314
        },
        "id": "n9BZQ6ZJ1uUw",
        "outputId": "d1301d68-6817-4b6b-ef88-cc02d220e747"
      },
      "outputs": [],
      "source": [
        "# 뉴스 기사의 최대 길이 및 평균길이 출력(그래프 시각화하면 더 좋음)\n",
        "import matplotlib.pyplot as plt\n",
        "import numpy as np\n",
        "\n",
        "len_article = [len(s) for s in X_train]\n",
        "\n",
        "print('뉴스 기사 최대 길이 : {}'.format(np.max(len_article)))\n",
        "print('뉴스 기사 평균 길이 : {}'.format(np.mean(len_article)))\n",
        "\n",
        "plt.subplot(1,2,1)\n",
        "plt.boxplot(len_article)\n",
        "plt.subplot(1,2,2)\n",
        "plt.hist(len_article, bins=50)\n",
        "plt.show"
      ]
    },
    {
      "cell_type": "code",
      "execution_count": null,
      "metadata": {
        "colab": {
          "base_uri": "https://localhost:8080/"
        },
        "id": "haVVzGMr2ECX",
        "outputId": "7990e734-9ccd-417a-870b-9926416a5a4e"
      },
      "outputs": [],
      "source": [
        "# 각 단어와 그 단어에 부여된 인덱스 확인\n",
        "word_to_index = reuters.get_word_index()\n",
        "print(word_to_index)"
      ]
    },
    {
      "cell_type": "markdown",
      "metadata": {
        "id": "BQ9lSqa7bMt4"
      },
      "source": [
        "# 로이터 뉴스 분류하기"
      ]
    },
    {
      "cell_type": "code",
      "execution_count": 38,
      "metadata": {
        "id": "EfjzBmbB3HYJ"
      },
      "outputs": [],
      "source": [
        "# num_words, test_split 지정하여 reuters 데이터셋 로드\n",
        "num_words = 10000\n",
        "test_split = 0.2\n",
        "(X_train, y_train), (X_test, y_test) = reuters.load_data(num_words=num_words, test_split=test_split)"
      ]
    },
    {
      "cell_type": "code",
      "execution_count": 39,
      "metadata": {
        "id": "0xzr0lmFONiZ"
      },
      "outputs": [],
      "source": [
        "# 95%의 데이터를 포함하는 길이로 maxlen 지정\n",
        "maxlen = int(np.percentile(lengths, 95))\n",
        "print('95%: ', maxlen)\n",
        "\n",
        "# maxlen길이만큼 뉴스 기사 패딩\n",
        "maxlen = max(lengths)\n",
        "print('maxlen:', maxlen)\n",
        "\n",
        "# 레이블 원-핫 인코딩\n",
        "X_train = sequence.pad_sequences(X_train, maxlen=maxlen)\n",
        "X_test = sequence.pad_sequences(X_test, maxlen=maxlen)"
      ]
    },
    {
      "cell_type": "code",
      "execution_count": 41,
      "metadata": {
        "id": "h-zpcjM3OT-R"
      },
      "outputs": [],
      "source": [
        "# 모델 생성\n",
        "from tensorflow.keras.models import Sequential\n",
        "from tensorflow.keras.layers import Dense, Embedding, Flatten, SimpleRNN\n",
        "\n",
        "model = Sequential()\n",
        "model.add(Embedding(input_dim=num_words, output_dim=128, input_length=maxlen))\n",
        "model.add(SimpleRNN(128))\n",
        "model.add(Flatten())\n",
        "model.add(Dense(1, activation='softmax'))\n",
        "\n",
        "model.summary()"
      ]
    },
    {
      "cell_type": "code",
      "execution_count": 44,
      "metadata": {
        "id": "N42Pc8aWOUnZ"
      },
      "outputs": [],
      "source": [
        "# 체크포인트 설정 및 컴파일\n",
        "from tensorflow.keras.callbacks import EarlyStopping, ModelCheckpoint\n",
        "\n",
        "es = EarlyStopping(monitor='val_loss', mode='min', verbose=1, patience=4)\n",
        "mc = ModelCheckpoint('best_model_news.keras', monitor='val_loss', mode='min', verbose=1, save_best_only=True)\n",
        "\n",
        "model.compile(optimizer='adam', loss='categorical_crossentropy', metrics=['acc'])"
      ]
    },
    {
      "cell_type": "code",
      "execution_count": null,
      "metadata": {
        "colab": {
          "base_uri": "https://localhost:8080/"
        },
        "id": "HM5JjY2jOfTx",
        "outputId": "8a037c24-b106-4bd3-ffe2-c22e3c1ec49d"
      },
      "outputs": [],
      "source": [
        "# 모델 학습(history 변수에 학습 과정 저장)\n",
        "history = model.fit(X_train, y_train, epochs=5, batch_size=128, validation_split=0.2, callbacks=[mc])"
      ]
    },
    {
      "cell_type": "code",
      "execution_count": null,
      "metadata": {},
      "outputs": [],
      "source": [
        "# 정확도 평가(result[0]: 손실, result[1] : 정확도)\n",
        "\n",
        "result = model.evaluate(X_test, y_test)\n",
        "print(\"\\n테스트 손실: %.4f\" % (result[0]))\n",
        "print(\"테스트 정확도: %.4f\" % (result[1]))"
      ]
    },
    {
      "cell_type": "code",
      "execution_count": null,
      "metadata": {},
      "outputs": [],
      "source": [
        "# loss 시각화\n",
        "epochs = range(1, len(history.history['acc']) + 1)\n",
        "plt.plot(epochs, history.history['loss'])\n",
        "plt.plot(epochs, history.history['val_loss'])\n",
        "plt.title('model loss')\n",
        "plt.ylabel('loss')\n",
        "plt.xlabel('epoch')\n",
        "plt.legend(['train', 'test'], loc='upper left')\n",
        "plt.show()"
      ]
    },
    {
      "cell_type": "markdown",
      "metadata": {},
      "source": [
        "# 학습된 가중치 불러와서 평가"
      ]
    },
    {
      "cell_type": "code",
      "execution_count": null,
      "metadata": {
        "colab": {
          "base_uri": "https://localhost:8080/"
        },
        "id": "3ewnLIkjSvfE",
        "outputId": "9c4aa404-8ac8-4d8a-d972-af6fad890c77"
      },
      "outputs": [],
      "source": [
        "# best_model.keras 파일을 불러와서 테스트 데이터 손실과 정확도를 출력해보세요.\n",
        "from tensorflow.keras.models import load_model\n",
        "loaded_model = load_model('best_model_news.keras')\n",
        "\n",
        "result = loaded_model.evaluate(X_test, y_test)\n",
        "print(\"\\n테스트 손실: %.4f\" % (result[0]))\n",
        "print(\"테스트 정확도: %.4f\" % (result[1]))"
      ]
    }
  ],
  "metadata": {
    "accelerator": "GPU",
    "colab": {
      "collapsed_sections": [],
      "name": "Reuters News Classification.ipynb",
      "provenance": []
    },
    "kernelspec": {
      "display_name": "Python 3",
      "name": "python3"
    },
    "language_info": {
      "codemirror_mode": {
        "name": "ipython",
        "version": 3
      },
      "file_extension": ".py",
      "mimetype": "text/x-python",
      "name": "python",
      "nbconvert_exporter": "python",
      "pygments_lexer": "ipython3",
      "version": "3.11.2"
    }
  },
  "nbformat": 4,
  "nbformat_minor": 0
}

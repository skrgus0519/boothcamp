{
  "cells": [
    {
      "cell_type": "markdown",
      "metadata": {},
      "source": [
        "# 테스트 데이터 생성"
      ]
    },
    {
      "cell_type": "code",
      "execution_count": null,
      "metadata": {
        "colab": {
          "base_uri": "https://localhost:8080/",
          "height": 437
        },
        "id": "NSJBKsjYm7Gc",
        "outputId": "843da75c-95ca-401a-f21a-acfaaab0a699"
      },
      "outputs": [],
      "source": [
        "#Step 1. 테스트용 데이터를 생성합니다.\n",
        "import matplotlib.pyplot as plt\n",
        "from matplotlib import style\n",
        "from sklearn.datasets import make_moons\n",
        "\n",
        "X,y = make_moons(n_samples=400 , noise = 0.1 , random_state=10)\n",
        "plt.scatter(X[ :, 0] , X[ : , 1])\n",
        "plt.show()"
      ]
    },
    {
      "cell_type": "markdown",
      "metadata": {},
      "source": [
        "# 테스트 코드"
      ]
    },
    {
      "cell_type": "code",
      "execution_count": null,
      "metadata": {
        "id": "V6m8MiPGx5MK"
      },
      "outputs": [],
      "source": [
        "#Step 2. Clustering 을 진행할 함수를 생성합니다.\n",
        "def cluster_result(X , y , title) :\n",
        "  plt.scatter( X[y==0,0] , X[y==0,1] , c='green' , marker='o' , s=40 ,\n",
        "              label=\"Cluster_1\")\n",
        "  plt.scatter( X[y==1,0] , X[y==1,1] , c='red' , marker='s' , s=40 ,\n",
        "              label=\"Cluster_2\")\n",
        "  plt.title(title)\n",
        "  plt.legend()\n",
        "  plt.show()"
      ]
    },
    {
      "cell_type": "code",
      "execution_count": null,
      "metadata": {
        "colab": {
          "base_uri": "https://localhost:8080/",
          "height": 450
        },
        "id": "AD6Ef9MLzN3Z",
        "outputId": "4a8923c7-291a-440f-be6f-c3c91601bdf7"
      },
      "outputs": [],
      "source": [
        "#Step 3. KMeans 클러스터링을 진행합니다.\n",
        "from sklearn.cluster import KMeans\n",
        "km = KMeans(n_clusters=2 , random_state=10)\n",
        "y_km = km.fit_predict(X)\n",
        "cluster_result( X , y_km , title='K-Means Clustering Result')"
      ]
    },
    {
      "cell_type": "code",
      "execution_count": null,
      "metadata": {
        "colab": {
          "base_uri": "https://localhost:8080/",
          "height": 450
        },
        "id": "J4ivJ5IgzmRu",
        "outputId": "d013e56b-d05b-4775-856c-4ec83f4201ea"
      },
      "outputs": [],
      "source": [
        "#Step 4. DBSCAN 클러스터링을 진행합니다.\n",
        "from sklearn.cluster import DBSCAN\n",
        "db = DBSCAN( eps=0.2 , min_samples=15 , metric='euclidean')\n",
        "y_db = db.fit_predict(X)\n",
        "cluster_result(X, y_db , title=\"DBSCAN Clustering Result\")"
      ]
    },
    {
      "cell_type": "code",
      "execution_count": null,
      "metadata": {
        "colab": {
          "base_uri": "https://localhost:8080/",
          "height": 483
        },
        "id": "DERe3HNVYs-C",
        "outputId": "720f5642-446e-42bb-e091-175cdcac5469"
      },
      "outputs": [],
      "source": [
        "#Step 5. DBSCAN 파라이터를 변경하여 클러스터링을 진행합니다.\n",
        "from sklearn.cluster import DBSCAN\n",
        "db = DBSCAN( eps=1 , min_samples=15 , metric='euclidean')\n",
        "y_db = db.fit_predict(X)\n",
        "cluster_result(X, y_db , title=\"DBSCAN Clustering Result\")"
      ]
    },
    {
      "cell_type": "code",
      "execution_count": null,
      "metadata": {
        "colab": {
          "base_uri": "https://localhost:8080/",
          "height": 450
        },
        "id": "UkEkj4IrZep4",
        "outputId": "72c46a29-efc8-4289-fe29-a5341e9c834c"
      },
      "outputs": [],
      "source": [
        "#Step 6. DBSCAN 파라이터를 변경하여 클러스터링을 진행합니다.\n",
        "from sklearn.cluster import DBSCAN\n",
        "db = DBSCAN( eps=0.2 , min_samples=20 , metric='euclidean')\n",
        "y_db = db.fit_predict(X)\n",
        "cluster_result(X, y_db , title=\"DBSCAN Clustering Result\")"
      ]
    },
    {
      "cell_type": "code",
      "execution_count": null,
      "metadata": {
        "colab": {
          "base_uri": "https://localhost:8080/",
          "height": 463
        },
        "id": "6_D3yYkW0ZgT",
        "outputId": "5af28304-a1b3-4887-8c1d-30a2196b3ce2"
      },
      "outputs": [],
      "source": [
        "plt.scatter( X[y==0,0] , X[y==0,1] , c='green' , marker='o' , s=40 ,\n",
        "            label=\"Cluster_1\")"
      ]
    },
    {
      "cell_type": "code",
      "execution_count": null,
      "metadata": {
        "colab": {
          "base_uri": "https://localhost:8080/",
          "height": 456
        },
        "id": "73x3VQHb03nu",
        "outputId": "f5bc8b0d-f8d6-45e8-bc49-61c6579bcc63"
      },
      "outputs": [],
      "source": [
        "plt.scatter( X[y==1,0] , X[y==1,1] , c='red' , marker='s' , s=40 ,\n",
        "            label=\"Cluster_2\")"
      ]
    },
    {
      "cell_type": "markdown",
      "metadata": {},
      "source": [
        "# 실습 코드"
      ]
    },
    {
      "cell_type": "code",
      "execution_count": null,
      "metadata": {},
      "outputs": [],
      "source": [
        "import numpy as np\n",
        "import matplotlib.pyplot as plt\n",
        "from matplotlib import style\n",
        "\n",
        "### 클러스터 결과를 담은 DataFrame과 사이킷런의 Cluster 객체등을 인자로 받아 클러스터링 결과를 시각화하는 함수  \n",
        "def vis_cluster_plot(clusterobj, dataframe, label_name, iscenter=True):\n",
        "    if iscenter :\n",
        "        centers = clusterobj.cluster_centers_\n",
        "        \n",
        "    unique_labels = np.unique(dataframe[label_name].values)\n",
        "    markers=['o', 's', '^', 'x', '*']\n",
        "    isNoise=False\n",
        "\n",
        "    for label in unique_labels:\n",
        "        label_cluster = dataframe[dataframe[label_name]==label]\n",
        "        if label == -1:\n",
        "            cluster_legend = 'Noise'\n",
        "            isNoise=True\n",
        "        else :\n",
        "            cluster_legend = 'Cluster '+str(label)\n",
        "        \n",
        "        plt.scatter(x=label_cluster['trans1'], y=label_cluster['trans2'], s=70,\\\n",
        "                    edgecolor='k', marker=markers[label], label=cluster_legend)\n",
        "        \n",
        "        if iscenter:\n",
        "            center_x_y = centers[label]\n",
        "            plt.scatter(x=center_x_y[0], y=center_x_y[1], s=250, color='white',\n",
        "                        alpha=0.9, edgecolor='k', marker=markers[label])\n",
        "            plt.scatter(x=center_x_y[0], y=center_x_y[1], s=70, color='k',\\\n",
        "                        edgecolor='k', marker='$%d$' % label)\n",
        "    if isNoise:\n",
        "        legend_loc='upper center'\n",
        "    else: legend_loc='upper right'\n",
        "    \n",
        "    plt.legend(loc=legend_loc)\n",
        "    plt.show()"
      ]
    },
    {
      "cell_type": "code",
      "execution_count": null,
      "metadata": {},
      "outputs": [],
      "source": [
        "import pandas as pd\n",
        "clusterDF = pd.DataFrame(data=X, columns=['trans1', 'trans2'])\n",
        "clusterDF['target'] = y\n",
        "vis_cluster_plot(km, clusterDF, 'target', iscenter=False)"
      ]
    },
    {
      "cell_type": "code",
      "execution_count": null,
      "metadata": {
        "colab": {
          "base_uri": "https://localhost:8080/",
          "height": 265
        },
        "id": "sSMBrvqFQtyt",
        "outputId": "c4b3260c-4dee-4e6a-e21c-0a90921f0676"
      },
      "outputs": [],
      "source": [
        "# k-Means 군집분석이 어려운 경우 \n",
        "from sklearn.datasets import make_circles\n",
        "import pandas as pd\n",
        "\n",
        "# 2개의 원 그리는 코드\n",
        "X, y = make_circles(n_samples=1000, shuffle=True, noise=0.05, random_state=0, factor=0.5)\n",
        "clusterDF = pd.DataFrame(data=X, columns=['trans1', 'trans2'])\n",
        "clusterDF['target'] = y\n",
        "\n",
        "# 그린 원 시각화\n",
        "vis_cluster_plot(None, clusterDF, 'target', iscenter=False)"
      ]
    },
    {
      "cell_type": "code",
      "execution_count": null,
      "metadata": {
        "colab": {
          "base_uri": "https://localhost:8080/",
          "height": 265
        },
        "id": "PPund-BVRI0k",
        "outputId": "498d9b82-b164-4ad0-956e-a82f777d525f"
      },
      "outputs": [],
      "source": [
        "# KMeans로 make_circles( ) 데이터 셋을 클러스터링 수행. \n",
        "from sklearn.cluster import KMeans\n",
        "\n",
        "# Kmeans 군집분석 객체 생성 k=2\n",
        "kmeans = KMeans(n_clusters=2, max_iter=1000, random_state=0)\n",
        "\n",
        "# X에 대해 학습\n",
        "kmeans_labels = kmeans.fit_predict(X)\n",
        "\n",
        "# 학습 결과 저장\n",
        "clusterDF['kmeans_cluster'] = kmeans_labels\n",
        "\n",
        "# 시각화\n",
        "vis_cluster_plot(kmeans, clusterDF, 'kmeans_cluster', iscenter=True)"
      ]
    },
    {
      "cell_type": "code",
      "execution_count": null,
      "metadata": {
        "colab": {
          "base_uri": "https://localhost:8080/",
          "height": 265
        },
        "id": "bqWaW_L4Rc5q",
        "outputId": "e68bfc20-3995-41ad-d27a-75ad288aeb97"
      },
      "outputs": [],
      "source": [
        "# DBSCAN으로 make_circles( ) 데이터 셋을 클러스터링 수행. \n",
        "from sklearn.cluster import DBSCAN\n",
        "\n",
        "# DBSCAN 군집분석 객체 생성()\n",
        "dbscan = DBSCAN(eps=0.2, min_samples=10, metric='euclidean')\n",
        "\n",
        "# X에 대해 학습\n",
        "dbscan_labels = dbscan.fit_predict(X)\n",
        "clusterDF['dbscan_cluster'] = dbscan_labels\n",
        "\n",
        "vis_cluster_plot(dbscan, clusterDF, 'dbscan_cluster', iscenter=False)"
      ]
    }
  ],
  "metadata": {
    "colab": {
      "collapsed_sections": [],
      "name": "9.군집분석_DBSCAN_최종.ipynb",
      "provenance": []
    },
    "kernelspec": {
      "display_name": "Python 3",
      "name": "python3"
    },
    "language_info": {
      "codemirror_mode": {
        "name": "ipython",
        "version": 3
      },
      "file_extension": ".py",
      "mimetype": "text/x-python",
      "name": "python",
      "nbconvert_exporter": "python",
      "pygments_lexer": "ipython3",
      "version": "3.11.2"
    }
  },
  "nbformat": 4,
  "nbformat_minor": 0
}

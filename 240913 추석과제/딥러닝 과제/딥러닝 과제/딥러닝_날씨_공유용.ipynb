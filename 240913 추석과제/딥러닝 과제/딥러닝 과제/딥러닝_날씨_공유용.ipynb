{
  "cells": [
    {
      "cell_type": "markdown",
      "id": "81478508",
      "metadata": {},
      "source": [
        "# 날씨 데이터셋 val_accuratcy 0.9이상 달성"
      ]
    },
    {
      "cell_type": "markdown",
      "id": "e3640ec3",
      "metadata": {
        "id": "e3640ec3"
      },
      "source": [
        "### <b>데이터 세트 다운로드</b>\n",
        "\n",
        "* 딥러닝 모델 학습 과정에서 필요한 데이터 세트를 불러온다."
      ]
    },
    {
      "cell_type": "code",
      "execution_count": null,
      "id": "q-dIUVGqNRQT",
      "metadata": {
        "id": "q-dIUVGqNRQT"
      },
      "outputs": [],
      "source": [
        "!git clone https://github.com/ndb796/weather_dataset\n",
        "%cd weather_dataset"
      ]
    },
    {
      "cell_type": "markdown",
      "id": "8c378426",
      "metadata": {
        "id": "8c378426"
      },
      "source": [
        "### <b>라이브러리 불러오기(Load Libraries)</b>\n",
        "\n",
        "* 딥러닝 모델 학습 과정에서 필요한 라이브러리를 불러온다."
      ]
    },
    {
      "cell_type": "code",
      "execution_count": null,
      "id": "2f9a6f91",
      "metadata": {
        "id": "2f9a6f91"
      },
      "outputs": [],
      "source": [
        "from tensorflow.keras.applications import InceptionV3\n",
        "from tensorflow.keras.models import Sequential\n",
        "from tensorflow.keras.layers import Flatten, Dense\n",
        "from tensorflow.keras.preprocessing.image import Image import ImageDataGenerator\n",
        "from tensorflow.keras import optimizers\n",
        "\n",
        "import numpy as np\n",
        "import matplotlib.pyplot as plt"
      ]
    },
    {
      "cell_type": "markdown",
      "id": "0eff3cda",
      "metadata": {},
      "source": [
        "### 하이퍼 파라미터 정의\n"
      ]
    },
    {
      "cell_type": "code",
      "execution_count": null,
      "id": "82feb821",
      "metadata": {},
      "outputs": [],
      "source": [
        "# 필요한 하이퍼 파라미터 추가 정의\n",
        "INPUT_SIZE = 128\n",
        "BATCH_SIZE = 46\n",
        "EPOCH = 10\n",
        "FILTER_SIZE = 3\n",
        "NUM_FILTERS = 32\n",
        "MAXPOOL_SIZE = 2"
      ]
    },
    {
      "cell_type": "markdown",
      "id": "468d16a7",
      "metadata": {
        "id": "468d16a7"
      },
      "source": [
        "### 데이터 세트 불러오기"
      ]
    },
    {
      "cell_type": "code",
      "execution_count": null,
      "id": "a5bf5e40",
      "metadata": {
        "colab": {
          "base_uri": "https://localhost:8080/"
        },
        "id": "a5bf5e40",
        "outputId": "2be642a3-2bd8-4cd4-fedc-c710dc924dd1"
      },
      "outputs": [],
      "source": [
        "# 폴더 형식으로 구분된 이미지 불러오기\n",
        "train_generator = ImageDataGenerator(\n",
        "    rescale = 1/255.,\n",
        "    validation_split = 0.2,\n",
        "    horizon_flip = True,\n",
        "    vertical_flip = True\n",
        ")\n",
        "test_generator = ImageDataGenerator(rescale=1/255.)\n",
        "\n",
        "train_data = train_generator.flow_from_directory(\n",
        "    directory = 'train/',\n",
        "    shuffle = True,\n",
        "    target_size = (INPUT_SIZE, INPUT_SIZE),\n",
        "    class_mode = 'categorical',\n",
        "    batch_size = BATCH_SIZE,\n",
        "    subset = 'validation'\n",
        ")\n",
        "\n",
        "val_data = train_generator.flow_from_directory(\n",
        "    directory = 'train/',\n",
        "    shuffle = True,\n",
        "    target_size = (INPUT_SIZE, INPUT_SIZE),\n",
        "    class_mode = 'categorical',\n",
        "    batch_size = BATCH_SIZE,\n",
        "    subset = 'validation'\n",
        ")\n",
        "\n",
        "test_data = test_generator.flow_from_directory(\n",
        "    directory = 'test/',\n",
        "    shuffle = True,\n",
        "    target_size = (INPUT_SIZE, INPUT_SIZE),\n",
        "    class_mode = 'categorical',\n",
        "    batch_size = BATCH_SIZE\n",
        ")"
      ]
    },
    {
      "cell_type": "markdown",
      "id": "ed52ad40",
      "metadata": {
        "id": "ed52ad40"
      },
      "source": [
        "### 데이터 시각화"
      ]
    },
    {
      "cell_type": "code",
      "execution_count": null,
      "id": "086c05d7",
      "metadata": {
        "colab": {
          "base_uri": "https://localhost:8080/",
          "height": 217
        },
        "id": "086c05d7",
        "outputId": "e628804b-ae02-4550-f567-2cb7ef73b9ee"
      },
      "outputs": [],
      "source": [
        "plt.rcParams['figure.figsize'] = [12, 8]\n",
        "plt.rcParams['figure.dpi'] = 60\n",
        "plt.rcParams.update({'font.size': 20})\n",
        "\n",
        "class_names = {\n",
        "  0: \"Cloudy\",\n",
        "  1: \"Rain\",\n",
        "  2: \"Shine\",\n",
        "  3: \"Sunrise\"\n",
        "}\n",
        "\n",
        "images, targets = next(training_set)\n",
        "\n",
        "print([class_names[x] for x in np.argmax(targets[:4], axis=1)])\n",
        "plt.imshow(np.concatenate((images[0], images[1], images[2], images[3]), axis=1))\n",
        "plt.show()"
      ]
    },
    {
      "cell_type": "markdown",
      "id": "e642a504",
      "metadata": {
        "id": "e642a504"
      },
      "source": [
        "### <b>딥러닝 모델 학습(Training)</b>\n",
        "\n",
        "* 사전 학습된(pre-trained) 모델(model)을 이용하여 가지고 있는 데이터 세트에 대한 학습이 가능하다.\n",
        "  * <b>include_top</b>: 네트워크 뒤에 FC (fully-connected) 레이어를 포함하는지 여부\n",
        "  * <b>weights</b>: None 혹은 \"imagenet\"\n",
        "  * 네트워크의 마지막에 FC 레이어를 적용하여 클래스 개수를 일치시킨다."
      ]
    },
    {
      "cell_type": "code",
      "execution_count": null,
      "id": "29829099",
      "metadata": {
        "colab": {
          "base_uri": "https://localhost:8080/"
        },
        "id": "29829099",
        "outputId": "a0847b55-1f46-4248-feee-8e9d41a86376"
      },
      "outputs": [],
      "source": [
        "# 모델 구성하기\n",
        "from tensorflow.keras.layers import Conv2D, MaxPooling2D, Dropout, Flatten, Dense\n",
        "\n",
        "model = Sequential([\n",
        "    Conv2D(NUM_FILTERS, (FILTER_SIZE, FILTER_SIZE), activation='relu', input_shape=(INPUT_SIZE, INPUT_SIZE, 3)),\n",
        "    MaxPooling2D((MAXPOOL_SIZE, MAXPOOL_SIZE)),\n",
        "    Dropout(0.2),\n",
        "\n",
        "    Flatten(),\n",
        "    Dense(32, activation='relu'),\n",
        "    Dense(4, activation='softmax')\n",
        "])\n",
        "\n",
        "model.summary()"
      ]
    },
    {
      "cell_type": "code",
      "execution_count": null,
      "id": "732e25ef",
      "metadata": {
        "id": "732e25ef"
      },
      "outputs": [],
      "source": [
        "# 모델 컴파일\n",
        "model.compile(optimizer='adam', loss='binary_crossentropy', metrics=['accuracy'])\n",
        "\n",
        "# 모델 학습(validation_data=validaion_set)\n",
        "history = model.fit(train_data, epochs=EPOCH, validation_data = val_data)"
      ]
    },
    {
      "cell_type": "markdown",
      "id": "03c54f3a",
      "metadata": {},
      "source": [
        "### 분류 보고서 출력"
      ]
    },
    {
      "cell_type": "code",
      "execution_count": null,
      "id": "0da313c7",
      "metadata": {},
      "outputs": [],
      "source": []
    },
    {
      "cell_type": "markdown",
      "id": "4a7f4db5",
      "metadata": {
        "id": "4a7f4db5"
      },
      "source": [
        "### <b>학습 결과 확인하기</b>\n",
        "\n",
        "* 학습 결과를 시각화하여 정상적으로 모델이 학습되었는지 확인한다."
      ]
    },
    {
      "cell_type": "code",
      "execution_count": null,
      "id": "250396b4",
      "metadata": {
        "id": "250396b4",
        "outputId": "75c21037-cf5e-4375-ea57-43e95f5f7fce"
      },
      "outputs": [],
      "source": [
        "plt.plot(history.history['accuracy'])\n",
        "plt.plot(history.history['val_accuracy'])\n",
        "plt.ylabel('Accuracy')\n",
        "plt.xlabel('Epochs')\n",
        "plt.title('Accuracy')\n",
        "plt.legend(['train', 'valid'])\n",
        "plt.show()"
      ]
    },
    {
      "cell_type": "code",
      "execution_count": null,
      "id": "6438a337",
      "metadata": {
        "id": "6438a337",
        "outputId": "8d417e28-5c6f-419c-a8fa-f53689da5bb9"
      },
      "outputs": [],
      "source": [
        "plt.plot(history.history['loss'])\n",
        "plt.plot(history.history['val_loss'])\n",
        "plt.ylabel('Loss')\n",
        "plt.xlabel('Epochs')\n",
        "plt.title('Loss')\n",
        "plt.legend(['train', 'valid'])\n",
        "plt.show()"
      ]
    },
    {
      "cell_type": "code",
      "execution_count": null,
      "id": "7f4c8207",
      "metadata": {
        "id": "7f4c8207",
        "outputId": "ac8d05d6-7e9b-46fd-b53e-d12344a6e79f"
      },
      "outputs": [],
      "source": [
        "# 학습된 모델 테스트\n",
        "test_history = model.evaluate(test_set)\n",
        "test_loss, test_accuracy = test_history\n",
        "\n",
        "print(f\"Test loss: {test_loss:.8f}\")\n",
        "print(f\"Test accuracy: {test_accuracy * 100.:.2f}%\")"
      ]
    }
  ],
  "metadata": {
    "accelerator": "GPU",
    "colab": {
      "provenance": []
    },
    "gpuClass": "standard",
    "kernelspec": {
      "display_name": "Python 3",
      "language": "python",
      "name": "python3"
    },
    "language_info": {
      "codemirror_mode": {
        "name": "ipython",
        "version": 3
      },
      "file_extension": ".py",
      "mimetype": "text/x-python",
      "name": "python",
      "nbconvert_exporter": "python",
      "pygments_lexer": "ipython3",
      "version": "3.12.4"
    }
  },
  "nbformat": 4,
  "nbformat_minor": 5
}

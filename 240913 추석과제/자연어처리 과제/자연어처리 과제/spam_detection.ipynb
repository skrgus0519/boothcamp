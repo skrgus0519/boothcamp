{
  "cells": [
    {
      "cell_type": "markdown",
      "metadata": {
        "id": "7BYfJNwNa5za"
      },
      "source": [
        "# 스팸 메일 분류"
      ]
    },
    {
      "cell_type": "code",
      "execution_count": 60,
      "metadata": {
        "id": "_Oc-OM9nUzKz"
      },
      "outputs": [],
      "source": [
        "import pandas as pd\n",
        "data = pd.read_csv('spam.csv', encoding='latin1')"
      ]
    },
    {
      "cell_type": "code",
      "execution_count": null,
      "metadata": {
        "colab": {
          "base_uri": "https://localhost:8080/"
        },
        "id": "Ahu_-116U1m6",
        "outputId": "d18ca640-73fe-407a-eb0e-65fc740552c0"
      },
      "outputs": [],
      "source": [
        "# 총 데이터 수 확인\n",
        "print(len(data))\n",
        "\n",
        "# 데이터 5행 출력\n",
        "data.head()"
      ]
    },
    {
      "cell_type": "code",
      "execution_count": null,
      "metadata": {
        "colab": {
          "base_uri": "https://localhost:8080/",
          "height": 203
        },
        "id": "kVTAn0LtO8Sb",
        "outputId": "4fe9e1cd-3347-4c53-a1ec-48c546fe73ae"
      },
      "outputs": [],
      "source": [
        "# 필요없는 컬럼 삭제 및 레이블 매핑\n",
        "data = data.drop(columns=['Unnamed: 2', 'Unnamed: 3', 'Unnamed: 4'])\n",
        "data['v1'] = data['v1'].map({'ham': 0, 'spam': 1})\n",
        "\n",
        "data.head()"
      ]
    },
    {
      "cell_type": "code",
      "execution_count": null,
      "metadata": {
        "colab": {
          "base_uri": "https://localhost:8080/"
        },
        "id": "Z_-dSFZsO-Qj",
        "outputId": "af99dbcd-ac26-4174-e980-e32050464df2"
      },
      "outputs": [],
      "source": [
        "# 결측치 확인\n",
        "print(data.isnull().sum())"
      ]
    },
    {
      "cell_type": "code",
      "execution_count": null,
      "metadata": {
        "colab": {
          "base_uri": "https://localhost:8080/"
        },
        "id": "Ewtq9Az8PBLz",
        "outputId": "54318356-447f-4c72-df39-d533037b912a"
      },
      "outputs": [],
      "source": [
        "# 중복된 데이터가 있는지 확인(고유한 데이터와 전체 데이터 개수 비교)\n",
        "len(data['v2'].unique())"
      ]
    },
    {
      "cell_type": "code",
      "execution_count": 67,
      "metadata": {
        "id": "CaQ5Xtz-PFEK"
      },
      "outputs": [],
      "source": [
        "# v2 열에서 중복인 내용이 있다면 중복 제거\n",
        "data.drop_duplicates(subset=['v2'], inplace=True)\n",
        "\n",
        "# 총 데이터 수 출력\n",
        "print('제거 후 남은 샘플 수: ', len(data))"
      ]
    },
    {
      "cell_type": "code",
      "execution_count": null,
      "metadata": {
        "colab": {
          "base_uri": "https://localhost:8080/",
          "height": 280
        },
        "id": "_qVpGFLIPOqq",
        "outputId": "dd2776e1-b858-474d-ea65-3d1c80a9e4da"
      },
      "outputs": [],
      "source": [
        "# 데이터 분포 확인\n",
        "data['v1'].value_counts()"
      ]
    },
    {
      "cell_type": "code",
      "execution_count": null,
      "metadata": {
        "colab": {
          "base_uri": "https://localhost:8080/"
        },
        "id": "cqznYFhdQ-RX",
        "outputId": "e63a824b-dc17-44ef-fdf3-b57d63d92b4a"
      },
      "outputs": [],
      "source": [
        "# 정상 메일과 스팸 메일의 비율 비교\n",
        "print(f'정상 메일의 비율 = {round(data[\"v1\"].value_counts()[0]/len(data) * 100,3)}%')\n",
        "print(f'스팸 메일의 비율 = {round(data[\"v1\"].value_counts()[1]/len(data) * 100,3)}%')"
      ]
    },
    {
      "cell_type": "markdown",
      "metadata": {
        "id": "QWFJFT9gRd0r"
      },
      "source": [
        "레이블이 굉장히 불균형하기 때문에 훈련 데이터와 테스트 데이터의 레이블 비율을 유지해서 분리"
      ]
    },
    {
      "cell_type": "code",
      "execution_count": null,
      "metadata": {},
      "outputs": [],
      "source": [
        "# X_data, y_data 분리\n",
        "X_data = data['v2']\n",
        "y_data = data['v1']"
      ]
    },
    {
      "cell_type": "code",
      "execution_count": 88,
      "metadata": {
        "id": "m255Vig1PWiC"
      },
      "outputs": [],
      "source": [
        "# X_data와 y_data를 8:2 비율로 분할(stratify=y_data)\n",
        "from sklearn.model_selection import train_test_split\n",
        "X_train, X_test, y_train, y_test = train_test_split(X_data, y_data, test_size=0.2, random_state=0, stratify=y_data)"
      ]
    },
    {
      "cell_type": "code",
      "execution_count": null,
      "metadata": {
        "colab": {
          "base_uri": "https://localhost:8080/"
        },
        "id": "5rHOs0BnRgip",
        "outputId": "f44a7e5c-3fa2-49d3-e321-91d7af6f137a"
      },
      "outputs": [],
      "source": [
        "print('훈련 데이터의 비율')\n",
        "print(f'정상 메일의 비율 = {round(y_train.value_counts()[0]/len(y_train) * 100,3)}%')\n",
        "print(f'스팸 메일의 비율 = {round(y_train.value_counts()[1]/len(y_train) * 100,3)}%')"
      ]
    },
    {
      "cell_type": "code",
      "execution_count": null,
      "metadata": {
        "colab": {
          "base_uri": "https://localhost:8080/"
        },
        "id": "jRaWZS_bRiEE",
        "outputId": "767818ec-ab44-49e7-e4b9-7794a44563ad"
      },
      "outputs": [],
      "source": [
        "print('테스트 데이터의 비율')\n",
        "print(f'정상 메일의 비율 = {round(y_test.value_counts()[0]/len(y_test) * 100,3)}%')\n",
        "print(f'스팸 메일의 비율 = {round(y_test.value_counts()[1]/len(y_test) * 100,3)}%')"
      ]
    },
    {
      "cell_type": "code",
      "execution_count": 76,
      "metadata": {
        "id": "eJGIS5F0Ple6"
      },
      "outputs": [],
      "source": [
        "from tensorflow.keras.preprocessing.text import Tokenizer\n",
        "\n",
        "# Tokenizer 객체 생성\n",
        "tokenizer = Tokenizer()\n",
        "\n",
        "# X_train에 존재하는 단어마다 부여될 숫자 계산\n",
        "tokenizer.fit_on_texts(X_train)\n",
        "\n",
        "# 단어 벡터화\n",
        "X_train_encoded = tokenizer.texts_to_sequences(X_train)\n",
        "X_test_encoded = tokenizer.texts_to_sequences(X_test)"
      ]
    },
    {
      "cell_type": "code",
      "execution_count": null,
      "metadata": {
        "colab": {
          "base_uri": "https://localhost:8080/"
        },
        "id": "KM-5RSVmPt0S",
        "outputId": "97f77b31-42ac-4eab-cba8-c9dd91c4d857"
      },
      "outputs": [],
      "source": [
        "# X_train_encoded 출력\n",
        "X_train_encoded"
      ]
    },
    {
      "cell_type": "code",
      "execution_count": null,
      "metadata": {
        "colab": {
          "base_uri": "https://localhost:8080/"
        },
        "id": "NNklUXcJPxn6",
        "outputId": "285cd145-1d6b-4935-903a-58c55b305f4f"
      },
      "outputs": [],
      "source": [
        "# mapping 된 단어 확인\n",
        "word_to_index = tokenizer.word_index\n",
        "print(word_to_index)"
      ]
    },
    {
      "cell_type": "code",
      "execution_count": null,
      "metadata": {
        "colab": {
          "base_uri": "https://localhost:8080/"
        },
        "id": "AuSu_Gt1P3Oi",
        "outputId": "394d85e7-b069-476f-e4fb-0ad07c19f695"
      },
      "outputs": [],
      "source": [
        "# 단어 집합의 크기를, 전체 단어수+1로 지정\n",
        "vocab_size = len(word_to_index) + 1\n",
        "print('단어 집합의 크기: {}'.format((vocab_size)))"
      ]
    },
    {
      "cell_type": "code",
      "execution_count": null,
      "metadata": {
        "colab": {
          "base_uri": "https://localhost:8080/",
          "height": 314
        },
        "id": "IB3eNhrnP5wS",
        "outputId": "a1ed3fb8-359b-4a3e-a736-6abd1958751d"
      },
      "outputs": [],
      "source": [
        "import matplotlib.pyplot as plt\n",
        "\n",
        "print('메일의 최대 길이 : %d' % max(len(l) for l in X_train_encoded))\n",
        "print('메일의 평균 길이 : %f' % (sum(map(len, X_train_encoded))/len(X_train_encoded)))\n",
        "plt.hist([len(s) for s in X_data], bins=50)\n",
        "plt.xlabel('length of samples')\n",
        "plt.ylabel('number of samples')\n",
        "plt.show()"
      ]
    },
    {
      "cell_type": "code",
      "execution_count": null,
      "metadata": {
        "colab": {
          "base_uri": "https://localhost:8080/"
        },
        "id": "-cu3QT1rQAy6",
        "outputId": "b1e78bd7-bd89-425a-ecea-a1b85b81c197"
      },
      "outputs": [],
      "source": [
        "# 메일의 최대 길이가 그리 크지 않기 때문에, 최대길이 사용하여 padding\n",
        "from tensorflow.keras.preprocessing.sequence import pad_sequences\n",
        "\n",
        "max_len = 189\n",
        "X_train_padded = pad_sequences(X_train_encoded, maxlen=max_len)\n",
        "X_test_padded = pad_sequences(X_test_encoded, maxlen=max_len)\n",
        "X_train_padded"
      ]
    },
    {
      "cell_type": "markdown",
      "metadata": {
        "id": "F0KTcOK3a_IS"
      },
      "source": [
        "# 스팸 메일 분류"
      ]
    },
    {
      "cell_type": "code",
      "execution_count": 83,
      "metadata": {
        "id": "uKiNw8m-QDpi"
      },
      "outputs": [],
      "source": [
        "# 모델 생성 및 컴파일\n",
        "from tensorflow.keras.models import Sequential\n",
        "from tensorflow.keras.layers import Embedding, Flatten, Dense, Conv1D\n",
        "\n",
        "model = Sequential()\n",
        "model.add(Embedding(vocab_size, 32))\n",
        "model.add(Conv1D(32, 3, activation='relu'))\n",
        "model.add(Flatten())\n",
        "model.add(Dense(1, activation='sigmoid'))\n",
        "\n",
        "model.compile(optimizer='adam', loss='binary_crossentropy', metrics=['accuracy'])"
      ]
    },
    {
      "cell_type": "code",
      "execution_count": null,
      "metadata": {
        "colab": {
          "base_uri": "https://localhost:8080/"
        },
        "id": "ht6eKZOTQXQa",
        "outputId": "ae1e54cf-6784-4959-97e0-671b2dacc8f0"
      },
      "outputs": [],
      "source": [
        "# 모델 학습(history 저장)\n",
        "history = model.fit(X_train_padded, y_train, epochs=5, batch_size=64, validation_split=0.2)"
      ]
    },
    {
      "cell_type": "code",
      "execution_count": null,
      "metadata": {
        "colab": {
          "base_uri": "https://localhost:8080/"
        },
        "id": "5vmX4J3yQYsb",
        "outputId": "e88ffe73-00dc-4ffe-e12b-e17a8d38a2b6"
      },
      "outputs": [],
      "source": [
        "# 테스트 정확도 출력\n",
        "print('테스트 정확도:',model.evaluate(X_test_padded, y_test)[1])"
      ]
    },
    {
      "cell_type": "code",
      "execution_count": null,
      "metadata": {
        "colab": {
          "base_uri": "https://localhost:8080/",
          "height": 295
        },
        "id": "ZWKisu-CSBs6",
        "outputId": "7d99a67e-9fda-4be1-8212-b7a5a035e947"
      },
      "outputs": [],
      "source": [
        "epochs = range(1, len(history.history['acc']) + 1)\n",
        "plt.plot(epochs, history.history['loss'])\n",
        "plt.plot(epochs, history.history['val_loss'])\n",
        "plt.title('model loss')\n",
        "plt.ylabel('loss')\n",
        "plt.xlabel('epoch')\n",
        "plt.legend(['train', 'val'], loc='upper left')\n",
        "plt.show()"
      ]
    }
  ],
  "metadata": {
    "accelerator": "GPU",
    "colab": {
      "collapsed_sections": [],
      "machine_shape": "hm",
      "name": "Spam Detection.ipynb",
      "provenance": []
    },
    "kernelspec": {
      "display_name": "Python 3",
      "name": "python3"
    },
    "language_info": {
      "codemirror_mode": {
        "name": "ipython",
        "version": 3
      },
      "file_extension": ".py",
      "mimetype": "text/x-python",
      "name": "python",
      "nbconvert_exporter": "python",
      "pygments_lexer": "ipython3",
      "version": "3.11.2"
    }
  },
  "nbformat": 4,
  "nbformat_minor": 0
}

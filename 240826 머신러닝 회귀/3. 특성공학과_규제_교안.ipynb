{
  "cells": [
    {
      "cell_type": "markdown",
      "metadata": {},
      "source": [
        "# Google Colab 데이터 로드"
      ]
    },
    {
      "cell_type": "code",
      "execution_count": 1,
      "metadata": {
        "colab": {
          "base_uri": "https://localhost:8080/",
          "height": 892,
          "resources": {
            "http://localhost:8080/nbextensions/google.colab/files.js": {
              "data": "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",
              "headers": [
                [
                  "content-type",
                  "application/javascript"
                ]
              ],
              "ok": true,
              "status": 200,
              "status_text": ""
            }
          }
        },
        "id": "TpxbOHCUHNf9",
        "outputId": "3a756437-79e9-4ddf-860a-ef583cddf417"
      },
      "outputs": [
        {
          "data": {
            "text/plain": [
              "\"\\n#Step 1.분석할 데이터가 저장된 파일을 불러와서 변수에 할당합니다.\\nfrom google.colab import files\\nmyfile = files.upload()\\nimport io\\nimport pandas as pd\\n#pd.read_csv로 csv파일 불러오기\\nstudy = pd.read_csv(io.BytesIO(myfile['공부시간과시험점수3.csv']),\\n                       encoding='cp949')\\nstudy\\n\""
            ]
          },
          "execution_count": 1,
          "metadata": {},
          "output_type": "execute_result"
        }
      ],
      "source": [
        "#Step 1.분석할 데이터가 저장된 파일을 불러와서 변수에 할당합니다.\n",
        "from google.colab import files\n",
        "myfile = files.upload()\n",
        "import io\n",
        "import pandas as pd\n",
        "#pd.read_csv로 csv파일 불러오기\n",
        "study = pd.read_csv(io.BytesIO(myfile['공부시간과시험점수3.csv']),\n",
        "                       encoding='cp949')\n",
        "study\n"
      ]
    },
    {
      "cell_type": "markdown",
      "metadata": {},
      "source": [
        "# 로컬 데이터 로드"
      ]
    },
    {
      "cell_type": "code",
      "execution_count": 2,
      "metadata": {},
      "outputs": [
        {
          "data": {
            "text/html": [
              "<div>\n",
              "<style scoped>\n",
              "    .dataframe tbody tr th:only-of-type {\n",
              "        vertical-align: middle;\n",
              "    }\n",
              "\n",
              "    .dataframe tbody tr th {\n",
              "        vertical-align: top;\n",
              "    }\n",
              "\n",
              "    .dataframe thead th {\n",
              "        text-align: right;\n",
              "    }\n",
              "</style>\n",
              "<table border=\"1\" class=\"dataframe\">\n",
              "  <thead>\n",
              "    <tr style=\"text-align: right;\">\n",
              "      <th></th>\n",
              "      <th>이름</th>\n",
              "      <th>공부시간</th>\n",
              "      <th>학원수</th>\n",
              "      <th>시험점수</th>\n",
              "    </tr>\n",
              "  </thead>\n",
              "  <tbody>\n",
              "    <tr>\n",
              "      <th>0</th>\n",
              "      <td>이원재</td>\n",
              "      <td>15.0</td>\n",
              "      <td>5</td>\n",
              "      <td>89.0</td>\n",
              "    </tr>\n",
              "    <tr>\n",
              "      <th>1</th>\n",
              "      <td>맹승주</td>\n",
              "      <td>14.5</td>\n",
              "      <td>5</td>\n",
              "      <td>86.5</td>\n",
              "    </tr>\n",
              "    <tr>\n",
              "      <th>2</th>\n",
              "      <td>안미경</td>\n",
              "      <td>14.0</td>\n",
              "      <td>5</td>\n",
              "      <td>86.0</td>\n",
              "    </tr>\n",
              "    <tr>\n",
              "      <th>3</th>\n",
              "      <td>서진수</td>\n",
              "      <td>13.5</td>\n",
              "      <td>4</td>\n",
              "      <td>85.5</td>\n",
              "    </tr>\n",
              "    <tr>\n",
              "      <th>4</th>\n",
              "      <td>황경인</td>\n",
              "      <td>13.0</td>\n",
              "      <td>4</td>\n",
              "      <td>85.0</td>\n",
              "    </tr>\n",
              "    <tr>\n",
              "      <th>5</th>\n",
              "      <td>신운무</td>\n",
              "      <td>12.0</td>\n",
              "      <td>4</td>\n",
              "      <td>83.0</td>\n",
              "    </tr>\n",
              "    <tr>\n",
              "      <th>6</th>\n",
              "      <td>권율</td>\n",
              "      <td>12.0</td>\n",
              "      <td>3</td>\n",
              "      <td>85.0</td>\n",
              "    </tr>\n",
              "    <tr>\n",
              "      <th>7</th>\n",
              "      <td>강준</td>\n",
              "      <td>11.0</td>\n",
              "      <td>3</td>\n",
              "      <td>82.0</td>\n",
              "    </tr>\n",
              "    <tr>\n",
              "      <th>8</th>\n",
              "      <td>신사임당</td>\n",
              "      <td>11.0</td>\n",
              "      <td>3</td>\n",
              "      <td>83.0</td>\n",
              "    </tr>\n",
              "    <tr>\n",
              "      <th>9</th>\n",
              "      <td>문무왕</td>\n",
              "      <td>10.5</td>\n",
              "      <td>3</td>\n",
              "      <td>82.0</td>\n",
              "    </tr>\n",
              "    <tr>\n",
              "      <th>10</th>\n",
              "      <td>김지희</td>\n",
              "      <td>10.5</td>\n",
              "      <td>2</td>\n",
              "      <td>81.5</td>\n",
              "    </tr>\n",
              "    <tr>\n",
              "      <th>11</th>\n",
              "      <td>임기승</td>\n",
              "      <td>10.0</td>\n",
              "      <td>2</td>\n",
              "      <td>82.0</td>\n",
              "    </tr>\n",
              "    <tr>\n",
              "      <th>12</th>\n",
              "      <td>강감찬</td>\n",
              "      <td>10.0</td>\n",
              "      <td>2</td>\n",
              "      <td>81.0</td>\n",
              "    </tr>\n",
              "    <tr>\n",
              "      <th>13</th>\n",
              "      <td>광개토대왕</td>\n",
              "      <td>9.5</td>\n",
              "      <td>2</td>\n",
              "      <td>78.0</td>\n",
              "    </tr>\n",
              "    <tr>\n",
              "      <th>14</th>\n",
              "      <td>이세혁</td>\n",
              "      <td>9.3</td>\n",
              "      <td>2</td>\n",
              "      <td>77.4</td>\n",
              "    </tr>\n",
              "    <tr>\n",
              "      <th>15</th>\n",
              "      <td>전우치</td>\n",
              "      <td>9.0</td>\n",
              "      <td>2</td>\n",
              "      <td>77.0</td>\n",
              "    </tr>\n",
              "    <tr>\n",
              "      <th>16</th>\n",
              "      <td>이순신</td>\n",
              "      <td>9.0</td>\n",
              "      <td>1</td>\n",
              "      <td>76.0</td>\n",
              "    </tr>\n",
              "    <tr>\n",
              "      <th>17</th>\n",
              "      <td>정진교</td>\n",
              "      <td>8.5</td>\n",
              "      <td>1</td>\n",
              "      <td>75.5</td>\n",
              "    </tr>\n",
              "    <tr>\n",
              "      <th>18</th>\n",
              "      <td>계백장군</td>\n",
              "      <td>8.5</td>\n",
              "      <td>1</td>\n",
              "      <td>76.0</td>\n",
              "    </tr>\n",
              "    <tr>\n",
              "      <th>19</th>\n",
              "      <td>왕광환</td>\n",
              "      <td>8.4</td>\n",
              "      <td>1</td>\n",
              "      <td>75.5</td>\n",
              "    </tr>\n",
              "    <tr>\n",
              "      <th>20</th>\n",
              "      <td>홍길동</td>\n",
              "      <td>8.2</td>\n",
              "      <td>1</td>\n",
              "      <td>75.0</td>\n",
              "    </tr>\n",
              "    <tr>\n",
              "      <th>21</th>\n",
              "      <td>곽재우</td>\n",
              "      <td>8.0</td>\n",
              "      <td>1</td>\n",
              "      <td>74.5</td>\n",
              "    </tr>\n",
              "    <tr>\n",
              "      <th>22</th>\n",
              "      <td>김유신</td>\n",
              "      <td>7.5</td>\n",
              "      <td>1</td>\n",
              "      <td>74.0</td>\n",
              "    </tr>\n",
              "    <tr>\n",
              "      <th>23</th>\n",
              "      <td>이승우</td>\n",
              "      <td>7.5</td>\n",
              "      <td>1</td>\n",
              "      <td>73.5</td>\n",
              "    </tr>\n",
              "    <tr>\n",
              "      <th>24</th>\n",
              "      <td>일지매</td>\n",
              "      <td>7.0</td>\n",
              "      <td>1</td>\n",
              "      <td>73.0</td>\n",
              "    </tr>\n",
              "  </tbody>\n",
              "</table>\n",
              "</div>"
            ],
            "text/plain": [
              "       이름  공부시간  학원수  시험점수\n",
              "0     이원재  15.0    5  89.0\n",
              "1     맹승주  14.5    5  86.5\n",
              "2     안미경  14.0    5  86.0\n",
              "3     서진수  13.5    4  85.5\n",
              "4     황경인  13.0    4  85.0\n",
              "5     신운무  12.0    4  83.0\n",
              "6      권율  12.0    3  85.0\n",
              "7      강준  11.0    3  82.0\n",
              "8    신사임당  11.0    3  83.0\n",
              "9     문무왕  10.5    3  82.0\n",
              "10    김지희  10.5    2  81.5\n",
              "11    임기승  10.0    2  82.0\n",
              "12    강감찬  10.0    2  81.0\n",
              "13  광개토대왕   9.5    2  78.0\n",
              "14    이세혁   9.3    2  77.4\n",
              "15    전우치   9.0    2  77.0\n",
              "16    이순신   9.0    1  76.0\n",
              "17    정진교   8.5    1  75.5\n",
              "18   계백장군   8.5    1  76.0\n",
              "19    왕광환   8.4    1  75.5\n",
              "20    홍길동   8.2    1  75.0\n",
              "21    곽재우   8.0    1  74.5\n",
              "22    김유신   7.5    1  74.0\n",
              "23    이승우   7.5    1  73.5\n",
              "24    일지매   7.0    1  73.0"
            ]
          },
          "execution_count": 2,
          "metadata": {},
          "output_type": "execute_result"
        }
      ],
      "source": [
        "#컴퓨터에서 작업하려면 아래 코드의 주석을 제거하고 실행하면 됩니다\n",
        "import pandas as pd\n",
        "study = pd.read_csv('../../머신러닝실습용자료/공부시간과시험점수3.csv',encoding='cp949')\n",
        "study"
      ]
    },
    {
      "cell_type": "markdown",
      "metadata": {},
      "source": [
        "# 공통 실습 코드"
      ]
    },
    {
      "cell_type": "markdown",
      "metadata": {},
      "source": [
        "## 특성공학\n",
        "기존의 Feature 활용하여 새로운 feature 생성"
      ]
    },
    {
      "cell_type": "code",
      "execution_count": 3,
      "metadata": {
        "id": "VdebeLO7HkGM"
      },
      "outputs": [],
      "source": [
        "#case 2: 훈련용 데이터셋과 테스트용 데이터셋 나누어서 분석\n",
        "data = study[ ['공부시간','학원수'] ]\n",
        "target = study['시험점수']\n",
        "\n",
        "from sklearn.model_selection import train_test_split\n",
        "훈련용_data , 테스트용_data , 훈련용_target , 테스트용_target = train_test_split(\n",
        "    data , target , test_size=0.2 , random_state=40)"
      ]
    },
    {
      "cell_type": "code",
      "execution_count": 4,
      "metadata": {
        "colab": {
          "base_uri": "https://localhost:8080/"
        },
        "id": "OXeBqb53IUfG",
        "outputId": "f6fdd8a1-d004-4413-e17f-a7db66892948"
      },
      "outputs": [
        {
          "name": "stdout",
          "output_type": "stream",
          "text": [
            "[[ 13.5    4.   182.25  54.    16.  ]\n",
            " [  8.     1.    64.     8.     1.  ]\n",
            " [ 14.     5.   196.    70.    25.  ]\n",
            " [ 10.     2.   100.    20.     4.  ]\n",
            " [  8.5    1.    72.25   8.5    1.  ]\n",
            " [ 13.     4.   169.    52.    16.  ]\n",
            " [ 11.     3.   121.    33.     9.  ]\n",
            " [  9.     1.    81.     9.     1.  ]\n",
            " [  7.5    1.    56.25   7.5    1.  ]\n",
            " [  8.2    1.    67.24   8.2    1.  ]\n",
            " [ 15.     5.   225.    75.    25.  ]\n",
            " [ 10.5    3.   110.25  31.5    9.  ]\n",
            " [ 10.5    2.   110.25  21.     4.  ]\n",
            " [  7.5    1.    56.25   7.5    1.  ]\n",
            " [ 10.     2.   100.    20.     4.  ]\n",
            " [ 14.5    5.   210.25  72.5   25.  ]\n",
            " [  8.5    1.    72.25   8.5    1.  ]\n",
            " [ 12.     4.   144.    48.    16.  ]\n",
            " [ 11.     3.   121.    33.     9.  ]\n",
            " [ 12.     3.   144.    36.     9.  ]]\n",
            "(20, 5)\n"
          ]
        }
      ],
      "source": [
        "# 새로운 특성을 생성합니다\n",
        "from sklearn.preprocessing import PolynomialFeatures\n",
        "poly = PolynomialFeatures(include_bias=False)\n",
        "poly.fit( 훈련용_data )\n",
        "\n",
        "훈련용_data_new = poly.transform(훈련용_data) # 새로운 특성 만들기\n",
        "테스트용_data_new = poly.transform(테스트용_data) # 새로운 특성 만들기\n",
        "print(훈련용_data_new)  \n",
        "print(훈련용_data_new.shape)"
      ]
    },
    {
      "cell_type": "code",
      "execution_count": 5,
      "metadata": {
        "colab": {
          "base_uri": "https://localhost:8080/"
        },
        "id": "B4zEL5auJDdr",
        "outputId": "ba542d3b-c771-4bd5-8bda-de250cf93e46"
      },
      "outputs": [
        {
          "name": "stdout",
          "output_type": "stream",
          "text": [
            "['공부시간' '학원수' '공부시간^2' '공부시간 학원수' '학원수^2']\n"
          ]
        }
      ],
      "source": [
        "#생성된 특성 내역 보기\n",
        "# 공부시간 , 학원수 , 공부시간^2 , 공부시간 x 학원수 , 학원수^2\n",
        "import warnings\n",
        "\n",
        "# 경고 메세지를 없애주는 코드\n",
        "with warnings.catch_warnings():\n",
        "  warnings.simplefilter(action='ignore', category=FutureWarning)\n",
        "  print(poly.get_feature_names_out() )"
      ]
    },
    {
      "cell_type": "code",
      "execution_count": 6,
      "metadata": {
        "colab": {
          "base_uri": "https://localhost:8080/"
        },
        "id": "5XMvqb5WLB7Y",
        "outputId": "ada76ab5-86d8-4f49-c5cf-ade48d4e8610"
      },
      "outputs": [
        {
          "name": "stdout",
          "output_type": "stream",
          "text": [
            "훈련용 데이터 점수: 0.9793864381559351\n",
            "테스트용 데이터 점수: 0.5870610828812628\n"
          ]
        }
      ],
      "source": [
        "# 모델 평가하기\n",
        "from sklearn.linear_model import LinearRegression\n",
        "lr = LinearRegression()\n",
        "\n",
        "lr.fit(훈련용_data_new , 훈련용_target)\n",
        "\n",
        "print('훈련용 데이터 점수:',lr.score(훈련용_data_new, 훈련용_target))\n",
        "print('테스트용 데이터 점수:',lr.score(테스트용_data_new, 테스트용_target))"
      ]
    },
    {
      "cell_type": "markdown",
      "metadata": {},
      "source": [
        "## 릿지 규제(L2 규제)\n",
        "경사하강법시 큰 가중치에 대한 규제는 강하게, 작은 가중치에 대한 규제는 약하게줘서, 모든 가중치들이 모델에 고르게 반영되도록 한다."
      ]
    },
    {
      "cell_type": "code",
      "execution_count": 8,
      "metadata": {
        "id": "_2xt1I7u1vAB"
      },
      "outputs": [],
      "source": [
        "# 규제 - 릿지와 라쏘 활용\n",
        "\n",
        "# 데이터 정규화 하기\n",
        "from sklearn.preprocessing import StandardScaler\n",
        "ss = StandardScaler()\n",
        "ss.fit(훈련용_data_new)\n",
        "정규화_훈련용_data = ss.transform(훈련용_data_new)\n",
        "정규화_테스트용_data = ss.transform(테스트용_data_new)"
      ]
    },
    {
      "cell_type": "code",
      "execution_count": 10,
      "metadata": {
        "colab": {
          "base_uri": "https://localhost:8080/"
        },
        "id": "yg3xU1i61AgM",
        "outputId": "2c5c309e-f571-4667-aea0-f0405a5bdec8"
      },
      "outputs": [
        {
          "name": "stdout",
          "output_type": "stream",
          "text": [
            "0.9446154195709993\n",
            "0.7606092268041652\n"
          ]
        }
      ],
      "source": [
        "# 릿지 회귀 사용하기\n",
        "from sklearn.linear_model import Ridge\n",
        "ridge = Ridge()\n",
        "ridge.fit(정규화_훈련용_data, 훈련용_target)\n",
        "print(ridge.score(정규화_훈련용_data, 훈련용_target))\n",
        "print(ridge.score(정규화_테스트용_data, 테스트용_target))"
      ]
    },
    {
      "cell_type": "code",
      "execution_count": 13,
      "metadata": {
        "id": "uS5JmuIGHpnb"
      },
      "outputs": [],
      "source": [
        "# 릿지 규제의 alpha 값 찾기\n",
        "import matplotlib.pyplot as plt\n",
        "훈련용점수 = []\n",
        "테스트용점수=[]\n",
        "\n",
        "alpha_value = [0.001, 0.01, 0.1 , 1 , 10 , 100 ]\n",
        "for a in alpha_value :\n",
        "  ridge = Ridge(alpha=a)\n",
        "  ridge.fit(정규화_훈련용_data , 훈련용_target)\n",
        "  훈련용점수.append(ridge.score(정규화_훈련용_data , 훈련용_target))\n",
        "  테스트용점수.append(ridge.score(정규화_테스트용_data , 테스트용_target))"
      ]
    },
    {
      "cell_type": "code",
      "execution_count": 14,
      "metadata": {
        "colab": {
          "base_uri": "https://localhost:8080/",
          "height": 265
        },
        "id": "79EBgl8MI-1r",
        "outputId": "59887982-d673-4b0f-aae8-e1579e78676a"
      },
      "outputs": [
        {
          "data": {
            "image/png": "[encoded data removed]",
            "text/plain": [
              "<Figure size 640x480 with 1 Axes>"
            ]
          },
          "metadata": {},
          "output_type": "display_data"
        }
      ],
      "source": [
        "#점수값을 로그값으로 변환하여 그래프로 출력\n",
        "import numpy as np\n",
        "plt.plot(np.log10(alpha_value) , 훈련용점수)\n",
        "plt.plot(np.log10(alpha_value) , 테스트용점수)\n",
        "plt.show()"
      ]
    },
    {
      "cell_type": "code",
      "execution_count": 20,
      "metadata": {
        "colab": {
          "base_uri": "https://localhost:8080/"
        },
        "id": "9JFMJY9xwuD-",
        "outputId": "87b326d1-d2c9-4a89-bfc8-f2e022d4e4ad"
      },
      "outputs": [
        {
          "name": "stdout",
          "output_type": "stream",
          "text": [
            "0.9446154195709993\n",
            "0.7606092268041652\n"
          ]
        }
      ],
      "source": [
        "# 릿지 회귀 사용하기\n",
        "from sklearn.linear_model import Ridge\n",
        "ridge = Ridge(alpha=1)\n",
        "ridge.fit(정규화_훈련용_data, 훈련용_target)\n",
        "print(ridge.score(정규화_훈련용_data, 훈련용_target))\n",
        "print(ridge.score(정규화_테스트용_data, 테스트용_target))"
      ]
    },
    {
      "cell_type": "code",
      "execution_count": 16,
      "metadata": {
        "colab": {
          "base_uri": "https://localhost:8080/"
        },
        "id": "KARfA_yfVH0X",
        "outputId": "b3db52b8-b4b9-49a8-dc35-99b34ca076ae"
      },
      "outputs": [
        {
          "name": "stdout",
          "output_type": "stream",
          "text": [
            "[ 3.45633911  2.74435513  1.21957546 -0.23519014 -2.74919439]\n",
            "['공부시간' '학원수' '공부시간^2' '공부시간 학원수' '학원수^2']\n"
          ]
        }
      ],
      "source": [
        "import warnings\n",
        "with warnings.catch_warnings():\n",
        "  warnings.simplefilter(action='ignore', category=FutureWarning)\n",
        "  print(ridge.coef_)\n",
        "  print(poly.get_feature_names_out())"
      ]
    },
    {
      "cell_type": "code",
      "execution_count": 17,
      "metadata": {
        "colab": {
          "base_uri": "https://localhost:8080/",
          "height": 206
        },
        "id": "BO5O6EdXw_k0",
        "outputId": "33bd0b65-f7c2-4ab8-87a3-a9365b30ea83"
      },
      "outputs": [
        {
          "data": {
            "text/html": [
              "<div>\n",
              "<style scoped>\n",
              "    .dataframe tbody tr th:only-of-type {\n",
              "        vertical-align: middle;\n",
              "    }\n",
              "\n",
              "    .dataframe tbody tr th {\n",
              "        vertical-align: top;\n",
              "    }\n",
              "\n",
              "    .dataframe thead th {\n",
              "        text-align: right;\n",
              "    }\n",
              "</style>\n",
              "<table border=\"1\" class=\"dataframe\">\n",
              "  <thead>\n",
              "    <tr style=\"text-align: right;\">\n",
              "      <th></th>\n",
              "      <th>alpha:0.01</th>\n",
              "      <th>alpha:0.1</th>\n",
              "      <th>alpha:0</th>\n",
              "      <th>alpha:1</th>\n",
              "      <th>alpha:10</th>\n",
              "      <th>alpha:100</th>\n",
              "    </tr>\n",
              "  </thead>\n",
              "  <tbody>\n",
              "    <tr>\n",
              "      <th>학원수</th>\n",
              "      <td>4.977679</td>\n",
              "      <td>4.116473</td>\n",
              "      <td>-9.375447</td>\n",
              "      <td>1.833223</td>\n",
              "      <td>0.902520</td>\n",
              "      <td>0.450400</td>\n",
              "    </tr>\n",
              "    <tr>\n",
              "      <th>공부시간</th>\n",
              "      <td>3.528308</td>\n",
              "      <td>4.006014</td>\n",
              "      <td>18.028431</td>\n",
              "      <td>2.699910</td>\n",
              "      <td>1.146557</td>\n",
              "      <td>0.477636</td>\n",
              "    </tr>\n",
              "    <tr>\n",
              "      <th>공부시간^2</th>\n",
              "      <td>1.279523</td>\n",
              "      <td>1.035725</td>\n",
              "      <td>-23.567662</td>\n",
              "      <td>1.284828</td>\n",
              "      <td>0.927298</td>\n",
              "      <td>0.455674</td>\n",
              "    </tr>\n",
              "    <tr>\n",
              "      <th>공부시간 학원수</th>\n",
              "      <td>0.582112</td>\n",
              "      <td>-0.417811</td>\n",
              "      <td>35.772089</td>\n",
              "      <td>0.104132</td>\n",
              "      <td>0.672635</td>\n",
              "      <td>0.429095</td>\n",
              "    </tr>\n",
              "    <tr>\n",
              "      <th>학원수^2</th>\n",
              "      <td>-5.930497</td>\n",
              "      <td>-4.293283</td>\n",
              "      <td>-16.631284</td>\n",
              "      <td>-1.513210</td>\n",
              "      <td>0.392686</td>\n",
              "      <td>0.395148</td>\n",
              "    </tr>\n",
              "  </tbody>\n",
              "</table>\n",
              "</div>"
            ],
            "text/plain": [
              "          alpha:0.01  alpha:0.1    alpha:0   alpha:1  alpha:10  alpha:100\n",
              "학원수         4.977679   4.116473  -9.375447  1.833223  0.902520   0.450400\n",
              "공부시간        3.528308   4.006014  18.028431  2.699910  1.146557   0.477636\n",
              "공부시간^2      1.279523   1.035725 -23.567662  1.284828  0.927298   0.455674\n",
              "공부시간 학원수    0.582112  -0.417811  35.772089  0.104132  0.672635   0.429095\n",
              "학원수^2      -5.930497  -4.293283 -16.631284 -1.513210  0.392686   0.395148"
            ]
          },
          "execution_count": 17,
          "metadata": {},
          "output_type": "execute_result"
        }
      ],
      "source": [
        "릿지컬럼_df = pd.DataFrame()\n",
        "alphas = [0.01,0.1,0,1,10,100]\n",
        "for pos , alpha in enumerate(alphas) :\n",
        "  ridge = Ridge(alpha=alpha)\n",
        "  ridge.fit(정규화_훈련용_data, 훈련용_target)\n",
        "  with warnings.catch_warnings():\n",
        "    warnings.simplefilter(action='ignore', category=FutureWarning)\n",
        "    회귀계수 = pd.Series(data = ridge.coef_ , index=poly.get_feature_names_out())\n",
        "  colname = 'alpha:'+ str(alpha)\n",
        "  릿지컬럼_df[colname]=회귀계수\n",
        "\n",
        "ridge_alpha=[0.01,0.1,0,1,10,100]\n",
        "sort_column = 'alpha:' + str(ridge_alpha[0])\n",
        "\n",
        "릿지컬럼_df.sort_values(by=sort_column , ascending=False)"
      ]
    },
    {
      "cell_type": "markdown",
      "metadata": {},
      "source": [
        "## 라쏘 규제(L1 규제)\n",
        "크기가 작은 가중치 회귀계수값 들을 0 으로 수렴시켜 모델에게 중요한 가중치만 남도록 만든다."
      ]
    },
    {
      "cell_type": "code",
      "execution_count": 32,
      "metadata": {
        "colab": {
          "base_uri": "https://localhost:8080/"
        },
        "id": "bK5I67zO3rpI",
        "outputId": "b72190bb-b030-4290-8409-eb21c3ae0712"
      },
      "outputs": [
        {
          "name": "stdout",
          "output_type": "stream",
          "text": [
            "0.9351696147641343\n",
            "0.8723343687301421\n"
          ]
        }
      ],
      "source": [
        "# 라쏘 회귀 사용하기\n",
        "from sklearn.linear_model import Lasso\n",
        "lasso = Lasso(alpha=0.1)\n",
        "lasso.fit(정규화_훈련용_data, 훈련용_target)\n",
        "print(lasso.score(정규화_훈련용_data, 훈련용_target))\n",
        "print(lasso.score(정규화_테스트용_data, 테스트용_target))"
      ]
    },
    {
      "cell_type": "code",
      "execution_count": 22,
      "metadata": {
        "id": "mv2xbOv04osd"
      },
      "outputs": [],
      "source": [
        "# 라쏘 규제의 alpha 값 찾기\n",
        "import matplotlib.pyplot as plt\n",
        "훈련용점수 = []\n",
        "테스트용점수=[]\n",
        "\n",
        "alpha_value = [0.001 ,0.01, 0.1 , 1 , 10 , 100 ]\n",
        "for a in alpha_value :\n",
        "  lasso = Lasso(alpha=a , max_iter=10000)\n",
        "  lasso.fit(정규화_훈련용_data , 훈련용_target)\n",
        "  훈련용점수.append(lasso.score(정규화_훈련용_data , 훈련용_target))\n",
        "  테스트용점수.append(lasso.score(정규화_테스트용_data , 테스트용_target))"
      ]
    },
    {
      "cell_type": "code",
      "execution_count": 23,
      "metadata": {
        "colab": {
          "base_uri": "https://localhost:8080/",
          "height": 265
        },
        "id": "2XKnMUiSLaK9",
        "outputId": "34947c96-6b0b-460b-82e2-35daaa219be4"
      },
      "outputs": [
        {
          "data": {
            "image/png": "[encoded data removed]",
            "text/plain": [
              "<Figure size 640x480 with 1 Axes>"
            ]
          },
          "metadata": {},
          "output_type": "display_data"
        }
      ],
      "source": [
        "#점수값을 로그값으로 변환하여 그래프로 출력\n",
        "import numpy as np\n",
        "plt.plot(np.log10(alpha_value) , 훈련용점수)\n",
        "plt.plot(np.log10(alpha_value) , 테스트용점수)\n",
        "plt.show()"
      ]
    },
    {
      "cell_type": "code",
      "execution_count": 24,
      "metadata": {
        "colab": {
          "base_uri": "https://localhost:8080/",
          "height": 206
        },
        "id": "bL2dwSwjLr-X",
        "outputId": "cf9a640e-6c0e-4bc1-f952-9dbd02d46746"
      },
      "outputs": [
        {
          "data": {
            "text/html": [
              "<div>\n",
              "<style scoped>\n",
              "    .dataframe tbody tr th:only-of-type {\n",
              "        vertical-align: middle;\n",
              "    }\n",
              "\n",
              "    .dataframe tbody tr th {\n",
              "        vertical-align: top;\n",
              "    }\n",
              "\n",
              "    .dataframe thead th {\n",
              "        text-align: right;\n",
              "    }\n",
              "</style>\n",
              "<table border=\"1\" class=\"dataframe\">\n",
              "  <thead>\n",
              "    <tr style=\"text-align: right;\">\n",
              "      <th></th>\n",
              "      <th>alpha:0.001</th>\n",
              "      <th>alpha:0.01</th>\n",
              "      <th>alpha:0.1</th>\n",
              "      <th>alpha:0</th>\n",
              "      <th>alpha:1</th>\n",
              "      <th>alpha:10</th>\n",
              "      <th>alpha:100</th>\n",
              "    </tr>\n",
              "  </thead>\n",
              "  <tbody>\n",
              "    <tr>\n",
              "      <th>공부시간</th>\n",
              "      <td>4.198087</td>\n",
              "      <td>4.883949</td>\n",
              "      <td>4.675539</td>\n",
              "      <td>4.322366</td>\n",
              "      <td>3.555816</td>\n",
              "      <td>0.0</td>\n",
              "      <td>0.0</td>\n",
              "    </tr>\n",
              "    <tr>\n",
              "      <th>학원수</th>\n",
              "      <td>4.970419</td>\n",
              "      <td>4.231290</td>\n",
              "      <td>0.000000</td>\n",
              "      <td>4.748804</td>\n",
              "      <td>0.000000</td>\n",
              "      <td>0.0</td>\n",
              "      <td>0.0</td>\n",
              "    </tr>\n",
              "    <tr>\n",
              "      <th>공부시간^2</th>\n",
              "      <td>0.745734</td>\n",
              "      <td>0.000000</td>\n",
              "      <td>0.000000</td>\n",
              "      <td>0.358403</td>\n",
              "      <td>0.000000</td>\n",
              "      <td>0.0</td>\n",
              "      <td>0.0</td>\n",
              "    </tr>\n",
              "    <tr>\n",
              "      <th>공부시간 학원수</th>\n",
              "      <td>0.000000</td>\n",
              "      <td>0.000000</td>\n",
              "      <td>-0.000000</td>\n",
              "      <td>0.944134</td>\n",
              "      <td>0.000000</td>\n",
              "      <td>0.0</td>\n",
              "      <td>0.0</td>\n",
              "    </tr>\n",
              "    <tr>\n",
              "      <th>학원수^2</th>\n",
              "      <td>-5.468918</td>\n",
              "      <td>-4.667752</td>\n",
              "      <td>-0.230352</td>\n",
              "      <td>-5.934979</td>\n",
              "      <td>0.000000</td>\n",
              "      <td>0.0</td>\n",
              "      <td>0.0</td>\n",
              "    </tr>\n",
              "  </tbody>\n",
              "</table>\n",
              "</div>"
            ],
            "text/plain": [
              "          alpha:0.001  alpha:0.01  alpha:0.1   alpha:0   alpha:1  alpha:10  \\\n",
              "공부시간         4.198087    4.883949   4.675539  4.322366  3.555816       0.0   \n",
              "학원수          4.970419    4.231290   0.000000  4.748804  0.000000       0.0   \n",
              "공부시간^2       0.745734    0.000000   0.000000  0.358403  0.000000       0.0   \n",
              "공부시간 학원수     0.000000    0.000000  -0.000000  0.944134  0.000000       0.0   \n",
              "학원수^2       -5.468918   -4.667752  -0.230352 -5.934979  0.000000       0.0   \n",
              "\n",
              "          alpha:100  \n",
              "공부시간            0.0  \n",
              "학원수             0.0  \n",
              "공부시간^2          0.0  \n",
              "공부시간 학원수        0.0  \n",
              "학원수^2           0.0  "
            ]
          },
          "execution_count": 24,
          "metadata": {},
          "output_type": "execute_result"
        }
      ],
      "source": [
        "라쏘컬럼_df = pd.DataFrame()\n",
        "alphas = [0.001, 0.01 , 0.1 , 0 , 1 , 10 , 100]\n",
        "for pos , alpha in enumerate(alphas) :\n",
        "  lasso = Lasso(alpha=alpha , max_iter=1000)\n",
        "  \n",
        "  with warnings.catch_warnings():\n",
        "    warnings.simplefilter(action='ignore', category=FutureWarning)\n",
        "    warnings.simplefilter(action='ignore', category=UserWarning)\n",
        "    lasso.fit(정규화_훈련용_data, 훈련용_target)\n",
        "    회귀계수 = pd.Series(data = lasso.coef_ , index=poly.get_feature_names_out())\n",
        "  colname = 'alpha:'+ str(alpha)\n",
        "  라쏘컬럼_df[colname]=회귀계수\n",
        "lasso_alpha=[0.01,0.1,0,1,10,100]\n",
        "sort_column = 'alpha:' + str(lasso_alpha[0])\n",
        "라쏘컬럼_df.sort_values(by=sort_column , ascending=False)"
      ]
    }
  ],
  "metadata": {
    "colab": {
      "collapsed_sections": [],
      "name": "7.특성공학과 규제_최종.ipynb",
      "provenance": []
    },
    "kernelspec": {
      "display_name": "Python 3",
      "name": "python3"
    },
    "language_info": {
      "codemirror_mode": {
        "name": "ipython",
        "version": 3
      },
      "file_extension": ".py",
      "mimetype": "text/x-python",
      "name": "python",
      "nbconvert_exporter": "python",
      "pygments_lexer": "ipython3",
      "version": "3.11.2"
    }
  },
  "nbformat": 4,
  "nbformat_minor": 0
}

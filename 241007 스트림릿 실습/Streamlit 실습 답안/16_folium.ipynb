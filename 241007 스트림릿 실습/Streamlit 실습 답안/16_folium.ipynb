{
  "cells": [
    {
      "cell_type": "markdown",
      "metadata": {
        "id": "rOAc6z73_T2C"
      },
      "source": [
        "# 1. folium 설치"
      ]
    },
    {
      "cell_type": "code",
      "execution_count": null,
      "metadata": {
        "colab": {
          "base_uri": "https://localhost:8080/"
        },
        "id": "ViMeRpysDKYa",
        "outputId": "f914ce13-f42d-42b2-b805-244b7d89c75f"
      },
      "outputs": [],
      "source": [
        "!pip install folium"
      ]
    },
    {
      "cell_type": "markdown",
      "metadata": {
        "id": "z19xDMv9E9Ri"
      },
      "source": [
        "### 좌표 구하기\n",
        "\n",
        "구글 검색 -> 지도 -> 마커 우클릭"
      ]
    },
    {
      "cell_type": "markdown",
      "metadata": {
        "id": "uZn2IpbWFSx0"
      },
      "source": [
        "# 2. 지도 생성하기 \n",
        "\n",
        "\n",
        "```\n",
        "import folium\n",
        "\n",
        "지도이름 = folium.Map([위도, 경도])\n",
        "지도이름\n",
        "```\n",
        "\n"
      ]
    },
    {
      "cell_type": "code",
      "execution_count": null,
      "metadata": {
        "colab": {
          "base_uri": "https://localhost:8080/",
          "height": 866
        },
        "id": "odu2MJwWDjfO",
        "outputId": "9d03abd0-036a-4a7a-8c88-e617d13c9def"
      },
      "outputs": [],
      "source": [
        "import folium\n",
        "\n",
        "map_y = folium.Map([37.52860, 126.93431])\n",
        "map_y"
      ]
    },
    {
      "cell_type": "markdown",
      "metadata": {
        "id": "3xjBdCFDlbGC"
      },
      "source": [
        "#### 지도 비율 조절하기 \n",
        "\n",
        "\n",
        "```\n",
        "지도이름 = folium.Map([위도, 경도], zoom_start=숫자)\n",
        "지도이름\n",
        "```\n",
        "\n"
      ]
    },
    {
      "cell_type": "code",
      "execution_count": null,
      "metadata": {
        "colab": {
          "base_uri": "https://localhost:8080/",
          "height": 866
        },
        "id": "h5WrQSBRFrxW",
        "outputId": "277ae70c-2632-4c83-824a-182593bb5559"
      },
      "outputs": [],
      "source": [
        "map_y = folium.Map([37.52860, 126.93431], zoom_start=15)\n",
        "map_y"
      ]
    },
    {
      "cell_type": "code",
      "execution_count": null,
      "metadata": {
        "colab": {
          "base_uri": "https://localhost:8080/",
          "height": 866
        },
        "id": "i070Te3HlnSR",
        "outputId": "12aad007-2356-44df-c3e6-a01570840715"
      },
      "outputs": [],
      "source": [
        "# 위도와 경도를 변수에 저장하여 사용하기\n",
        "lat, long = 37.52860, 126.93431 \n",
        "map_y = folium.Map([lat, long], zoom_start=15)\n",
        "map_y"
      ]
    },
    {
      "cell_type": "markdown",
      "metadata": {
        "id": "mkntC_nDl6af"
      },
      "source": [
        "# 3. 지도에 마커 표시하기\n",
        "\n",
        "\n",
        "```\n",
        "folium.Marker([마커 표시 위도, 마커 표시 경도]).add_to(지도이름)\n",
        "```\n"
      ]
    },
    {
      "cell_type": "code",
      "execution_count": null,
      "metadata": {
        "colab": {
          "base_uri": "https://localhost:8080/",
          "height": 866
        },
        "id": "hH0pEiKjlzj9",
        "outputId": "030d90d9-6728-4950-af92-05b5b314b25a"
      },
      "outputs": [],
      "source": [
        "lat, long = 37.52860, 126.93431 \n",
        "map_y = folium.Map([lat, long], zoom_start=15)\n",
        "folium.Marker([lat, long]).add_to(map_y)\n",
        "\n",
        "map_y"
      ]
    },
    {
      "cell_type": "markdown",
      "metadata": {
        "id": "X4G-dL8kmSwN"
      },
      "source": [
        "#### 여러 위치에 마커 표시하기\n",
        "\n",
        "<img src='https://github.com/teacher-jiejie/allinone_AI/blob/images/105_%EC%97%AC%EC%9D%98%EB%8F%84%EA%B3%B5%EC%9B%90.png?raw=true' width=700>\n"
      ]
    },
    {
      "cell_type": "code",
      "execution_count": null,
      "metadata": {
        "colab": {
          "base_uri": "https://localhost:8080/",
          "height": 866
        },
        "id": "ygQ3Po20mNCK",
        "outputId": "36f41fe3-fdb1-4818-dadc-df39109876d8"
      },
      "outputs": [],
      "source": [
        "lat1, long1 = 37.52860, 126.93431 # 여의도 한강공원\n",
        "lat2, long2 = 37.52400, 126.91889 # 여의도공원\n",
        "\n",
        "map_y = folium.Map([lat1, long1], zoom_start=15)\n",
        "folium.Marker([lat1, long1]).add_to(map_y)\n",
        "folium.Marker([lat2, long2]).add_to(map_y)\n",
        "map_y"
      ]
    },
    {
      "cell_type": "markdown",
      "metadata": {
        "id": "D91Vgju1m1DP"
      },
      "source": [
        "#### 마커에 텍스트 표시하기 - 툴팁으로 표현\n",
        "\n",
        "```\n",
        "folium.Marker([마커 표시 위도, 마커 표시 경도], tooltip='텍스트').add_to(지도이름)\n",
        "```\n"
      ]
    },
    {
      "cell_type": "code",
      "execution_count": null,
      "metadata": {
        "colab": {
          "base_uri": "https://localhost:8080/",
          "height": 866
        },
        "id": "-emS0MmWmy8y",
        "outputId": "6a1a3688-18c6-4f4d-d0eb-f25f97797ef9"
      },
      "outputs": [],
      "source": [
        "lat1, long1 = 37.52860, 126.93431 # 여의도 한강공원\n",
        "lat2, long2 = 37.52400, 126.91889 # 여의도공원\n",
        "\n",
        "map_y = folium.Map([lat1, long1], zoom_start=15)\n",
        "folium.Marker([lat1, long1], tooltip='여의도 한강공원').add_to(map_y)\n",
        "folium.Marker([lat2, long2], tooltip='여의도공원').add_to(map_y)\n",
        "map_y"
      ]
    },
    {
      "cell_type": "markdown",
      "metadata": {
        "id": "Jxq_DoUznVtL"
      },
      "source": [
        "#### 마커에 텍스트 표시하기 - 팝업으로 표현\n",
        "```\n",
        "folium.Marker([마커 표시 위도, 마커 표시 경도], popup='텍스트').add_to(지도이름)\n",
        "```\n",
        "\n",
        "popup이나 tooltip에 다음과 같이 html 코드를 삽입하여 이미지를 표기하거나 심지어 YouTube 영상도 삽입할 수 있습니다. (유튜브 영상 - 공유- 퍼가기)"
      ]
    },
    {
      "cell_type": "code",
      "execution_count": null,
      "metadata": {
        "colab": {
          "base_uri": "https://localhost:8080/",
          "height": 866
        },
        "id": "46T-2hERnF4B",
        "outputId": "a8ae3993-2631-4856-c4a0-ad3d979a73fd"
      },
      "outputs": [],
      "source": [
        "lat1, long1 = 37.52860, 126.93431 # 여의도 한강공원\n",
        "lat2, long2 = 37.52400, 126.91889 # 여의도공원\n",
        "\n",
        "map_y = folium.Map([lat1, long1], zoom_start=15)\n",
        "folium.Marker([lat1, long1], popup='여의도 한강공원').add_to(map_y)\n",
        "folium.Marker([lat2, long2], popup='<iframe width=\"560\" height=\"315\" src=\"https://www.youtube.com/embed/gv8fNzNBe1w?si=KqFOaKtz1xoxQKBK\" title=\"YouTube video player\" frameborder=\"0\" allow=\"accelerometer; autoplay; clipboard-write; encrypted-media; gyroscope; picture-in-picture; web-share\" referrerpolicy=\"strict-origin-when-cross-origin\" allowfullscreen></iframe>').add_to(map_y)\n",
        "map_y"
      ]
    },
    {
      "cell_type": "code",
      "execution_count": null,
      "metadata": {
        "colab": {
          "base_uri": "https://localhost:8080/",
          "height": 866
        },
        "id": "uVNJrubIrJCK",
        "outputId": "5465765d-b21f-4af5-89e8-8f48b9b08ded"
      },
      "outputs": [],
      "source": [
        "# 샛강생태공원 추가\n",
        "lat1, long1 = 37.52860, 126.93431 # 여의도 한강공원\n",
        "lat2, long2 = 37.52400, 126.91889 # 여의도공원\n",
        "lat3 ,long3 = 37.51865, 126.92041 # 샛강생태공원\n",
        "\n",
        "map_y = folium.Map([lat1, long1], zoom_start=15)\n",
        "folium.Marker([lat1, long1], tooltip='여의도 한강공원').add_to(map_y)\n",
        "folium.Marker([lat2, long2], tooltip='여의도공원').add_to(map_y)\n",
        "folium.Marker([lat3 , long3], tooltip='샛강생태공원').add_to(map_y)\n",
        "map_y"
      ]
    },
    {
      "cell_type": "markdown",
      "metadata": {
        "id": "7tFnhIxBoUa8"
      },
      "source": [
        "#### 마커의 색상 변경\n",
        "```\n",
        "folium.Marker([마커 표시 위도, 마커 표시 경도], icon = folium.Icon(color='색상명')).add_to(지도이름)\n",
        "```"
      ]
    },
    {
      "cell_type": "code",
      "execution_count": null,
      "metadata": {
        "colab": {
          "base_uri": "https://localhost:8080/",
          "height": 866
        },
        "id": "MCGp4v9Rnb8y",
        "outputId": "d6d0d686-ec5f-4d01-e93f-ff2fd4cb96f8"
      },
      "outputs": [],
      "source": [
        "lat1, long1 = 37.52860, 126.93431 # 여의도 한강공원\n",
        "lat2, long2 = 37.52400, 126.91889 # 여의도공원\n",
        "lat3 ,long3 = 37.51865, 126.92041 # 샛강생태공원\n",
        "\n",
        "map_y = folium.Map([lat1, long1], zoom_start=15)\n",
        "folium.Marker([lat1, long1], tooltip='여의도 한강공원', icon=folium.Icon(color='red')).add_to(map_y)\n",
        "folium.Marker([lat2, long2], tooltip='여의도공원', icon=folium.Icon(color='blue')).add_to(map_y)\n",
        "folium.Marker([lat3 , long3], tooltip='샛강생태공원', icon=folium.Icon(color='purple')).add_to(map_y)\n",
        "\n",
        "map_y"
      ]
    },
    {
      "cell_type": "markdown",
      "metadata": {
        "id": "AQHSk8KzoUf7"
      },
      "source": [
        "#### 마커의 아이콘 표현\n",
        "```\n",
        "folium.Marker([마커 표시 위도, 마커 표시 경도], icon = folium.Icon(color='색상명', icon='아이콘모양')).add_to(지도이름)\n",
        "```"
      ]
    },
    {
      "cell_type": "code",
      "execution_count": 11,
      "metadata": {
        "colab": {
          "base_uri": "https://localhost:8080/",
          "height": 866
        },
        "id": "dMIyVAxGoW68",
        "outputId": "c41864c5-ac27-4354-f90c-072186373e26"
      },
      "outputs": [
        {
          "data": {
            "text/html": [
              "<div style=\"width:100%;\"><div style=\"position:relative;width:100%;height:0;padding-bottom:60%;\"><span style=\"color:#565656\">Make this Notebook Trusted to load map: File -> Trust Notebook</span><iframe srcdoc=\"&lt;!DOCTYPE html&gt;\n",
              "&lt;html&gt;\n",
              "&lt;head&gt;\n",
              "    \n",
              "    &lt;meta http-equiv=&quot;content-type&quot; content=&quot;text/html; charset=UTF-8&quot; /&gt;\n",
              "    \n",
              "        &lt;script&gt;\n",
              "            L_NO_TOUCH = false;\n",
              "            L_DISABLE_3D = false;\n",
              "        &lt;/script&gt;\n",
              "    \n",
              "    &lt;style&gt;html, body {width: 100%;height: 100%;margin: 0;padding: 0;}&lt;/style&gt;\n",
              "    &lt;style&gt;#map {position:absolute;top:0;bottom:0;right:0;left:0;}&lt;/style&gt;\n",
              "    &lt;script src=&quot;https://cdn.jsdelivr.net/npm/leaflet@1.9.3/dist/leaflet.js&quot;&gt;&lt;/script&gt;\n",
              "    &lt;script src=&quot;https://code.jquery.com/jquery-3.7.1.min.js&quot;&gt;&lt;/script&gt;\n",
              "    &lt;script src=&quot;https://cdn.jsdelivr.net/npm/bootstrap@5.2.2/dist/js/bootstrap.bundle.min.js&quot;&gt;&lt;/script&gt;\n",
              "    &lt;script src=&quot;https://cdnjs.cloudflare.com/ajax/libs/Leaflet.awesome-markers/2.0.2/leaflet.awesome-markers.js&quot;&gt;&lt;/script&gt;\n",
              "    &lt;link rel=&quot;stylesheet&quot; href=&quot;https://cdn.jsdelivr.net/npm/leaflet@1.9.3/dist/leaflet.css&quot;/&gt;\n",
              "    &lt;link rel=&quot;stylesheet&quot; href=&quot;https://cdn.jsdelivr.net/npm/bootstrap@5.2.2/dist/css/bootstrap.min.css&quot;/&gt;\n",
              "    &lt;link rel=&quot;stylesheet&quot; href=&quot;https://netdna.bootstrapcdn.com/bootstrap/3.0.0/css/bootstrap-glyphicons.css&quot;/&gt;\n",
              "    &lt;link rel=&quot;stylesheet&quot; href=&quot;https://cdn.jsdelivr.net/npm/@fortawesome/fontawesome-free@6.2.0/css/all.min.css&quot;/&gt;\n",
              "    &lt;link rel=&quot;stylesheet&quot; href=&quot;https://cdnjs.cloudflare.com/ajax/libs/Leaflet.awesome-markers/2.0.2/leaflet.awesome-markers.css&quot;/&gt;\n",
              "    &lt;link rel=&quot;stylesheet&quot; href=&quot;https://cdn.jsdelivr.net/gh/python-visualization/folium/folium/templates/leaflet.awesome.rotate.min.css&quot;/&gt;\n",
              "    \n",
              "            &lt;meta name=&quot;viewport&quot; content=&quot;width=device-width,\n",
              "                initial-scale=1.0, maximum-scale=1.0, user-scalable=no&quot; /&gt;\n",
              "            &lt;style&gt;\n",
              "                #map_64980156c9554dcb5578fd6929baa469 {\n",
              "                    position: relative;\n",
              "                    width: 100.0%;\n",
              "                    height: 100.0%;\n",
              "                    left: 0.0%;\n",
              "                    top: 0.0%;\n",
              "                }\n",
              "                .leaflet-container { font-size: 1rem; }\n",
              "            &lt;/style&gt;\n",
              "        \n",
              "&lt;/head&gt;\n",
              "&lt;body&gt;\n",
              "    \n",
              "    \n",
              "            &lt;div class=&quot;folium-map&quot; id=&quot;map_64980156c9554dcb5578fd6929baa469&quot; &gt;&lt;/div&gt;\n",
              "        \n",
              "&lt;/body&gt;\n",
              "&lt;script&gt;\n",
              "    \n",
              "    \n",
              "            var map_64980156c9554dcb5578fd6929baa469 = L.map(\n",
              "                &quot;map_64980156c9554dcb5578fd6929baa469&quot;,\n",
              "                {\n",
              "                    center: [37.5286, 126.93431],\n",
              "                    crs: L.CRS.EPSG3857,\n",
              "                    zoom: 15,\n",
              "                    zoomControl: true,\n",
              "                    preferCanvas: false,\n",
              "                }\n",
              "            );\n",
              "\n",
              "            \n",
              "\n",
              "        \n",
              "    \n",
              "            var tile_layer_e230822f66226b0b7ccc75960a174e23 = L.tileLayer(\n",
              "                &quot;https://tile.openstreetmap.org/{z}/{x}/{y}.png&quot;,\n",
              "                {&quot;attribution&quot;: &quot;\\u0026copy; \\u003ca href=\\&quot;https://www.openstreetmap.org/copyright\\&quot;\\u003eOpenStreetMap\\u003c/a\\u003e contributors&quot;, &quot;detectRetina&quot;: false, &quot;maxNativeZoom&quot;: 19, &quot;maxZoom&quot;: 19, &quot;minZoom&quot;: 0, &quot;noWrap&quot;: false, &quot;opacity&quot;: 1, &quot;subdomains&quot;: &quot;abc&quot;, &quot;tms&quot;: false}\n",
              "            );\n",
              "        \n",
              "    \n",
              "            tile_layer_e230822f66226b0b7ccc75960a174e23.addTo(map_64980156c9554dcb5578fd6929baa469);\n",
              "        \n",
              "    \n",
              "            var marker_01036b20e30bb0cdf4768c5215920e8a = L.marker(\n",
              "                [37.5286, 126.93431],\n",
              "                {}\n",
              "            ).addTo(map_64980156c9554dcb5578fd6929baa469);\n",
              "        \n",
              "    \n",
              "            var icon_d54b3b5074f0f948361e091b4581c154 = L.AwesomeMarkers.icon(\n",
              "                {&quot;extraClasses&quot;: &quot;fa-rotate-0&quot;, &quot;icon&quot;: &quot;heart&quot;, &quot;iconColor&quot;: &quot;white&quot;, &quot;markerColor&quot;: &quot;red&quot;, &quot;prefix&quot;: &quot;glyphicon&quot;}\n",
              "            );\n",
              "            marker_01036b20e30bb0cdf4768c5215920e8a.setIcon(icon_d54b3b5074f0f948361e091b4581c154);\n",
              "        \n",
              "    \n",
              "            marker_01036b20e30bb0cdf4768c5215920e8a.bindTooltip(\n",
              "                `&lt;div&gt;\n",
              "                     여의도 한강공원\n",
              "                 &lt;/div&gt;`,\n",
              "                {&quot;sticky&quot;: true}\n",
              "            );\n",
              "        \n",
              "    \n",
              "            var marker_1a4964fe7b2f4e3e4d137cfce9aa3358 = L.marker(\n",
              "                [37.524, 126.91889],\n",
              "                {}\n",
              "            ).addTo(map_64980156c9554dcb5578fd6929baa469);\n",
              "        \n",
              "    \n",
              "            var icon_20742e7ae3c973968036ce41add42179 = L.AwesomeMarkers.icon(\n",
              "                {&quot;extraClasses&quot;: &quot;fa-rotate-0&quot;, &quot;icon&quot;: &quot;home&quot;, &quot;iconColor&quot;: &quot;white&quot;, &quot;markerColor&quot;: &quot;blue&quot;, &quot;prefix&quot;: &quot;glyphicon&quot;}\n",
              "            );\n",
              "            marker_1a4964fe7b2f4e3e4d137cfce9aa3358.setIcon(icon_20742e7ae3c973968036ce41add42179);\n",
              "        \n",
              "    \n",
              "            marker_1a4964fe7b2f4e3e4d137cfce9aa3358.bindTooltip(\n",
              "                `&lt;div&gt;\n",
              "                     여의도공원\n",
              "                 &lt;/div&gt;`,\n",
              "                {&quot;sticky&quot;: true}\n",
              "            );\n",
              "        \n",
              "    \n",
              "            var marker_5d66d507579a5b1cbeb0745974a33f12 = L.marker(\n",
              "                [37.51865, 126.92041],\n",
              "                {}\n",
              "            ).addTo(map_64980156c9554dcb5578fd6929baa469);\n",
              "        \n",
              "    \n",
              "            var icon_0df4e787d07d97980c83615461b94684 = L.AwesomeMarkers.icon(\n",
              "                {&quot;extraClasses&quot;: &quot;fa-rotate-0&quot;, &quot;icon&quot;: &quot;flag&quot;, &quot;iconColor&quot;: &quot;white&quot;, &quot;markerColor&quot;: &quot;purple&quot;, &quot;prefix&quot;: &quot;glyphicon&quot;}\n",
              "            );\n",
              "            marker_5d66d507579a5b1cbeb0745974a33f12.setIcon(icon_0df4e787d07d97980c83615461b94684);\n",
              "        \n",
              "    \n",
              "            marker_5d66d507579a5b1cbeb0745974a33f12.bindTooltip(\n",
              "                `&lt;div&gt;\n",
              "                     샛강생태공원\n",
              "                 &lt;/div&gt;`,\n",
              "                {&quot;sticky&quot;: true}\n",
              "            );\n",
              "        \n",
              "&lt;/script&gt;\n",
              "&lt;/html&gt;\" style=\"position:absolute;width:100%;height:100%;left:0;top:0;border:none !important;\" allowfullscreen webkitallowfullscreen mozallowfullscreen></iframe></div></div>"
            ],
            "text/plain": [
              "<folium.folium.Map at 0x176f3166410>"
            ]
          },
          "execution_count": 11,
          "metadata": {},
          "output_type": "execute_result"
        }
      ],
      "source": [
        "lat1, long1 = 37.52860, 126.93431 # 여의도 한강공원\n",
        "lat2, long2 = 37.52400, 126.91889 # 여의도공원\n",
        "lat3, long3 = 37.51865, 126.92041 # 샛강생태공원\n",
        "\n",
        "map_y = folium.Map([lat1, long1], zoom_start=15)\n",
        "folium.Marker([lat1, long1], tooltip='여의도 한강공원', icon=folium.Icon(color='red', icon='heart')).add_to(map_y)\n",
        "folium.Marker([lat2, long2], tooltip='여의도공원', icon=folium.Icon(color='blue', icon='home')).add_to(map_y)\n",
        "folium.Marker([lat3 , long3], tooltip='샛강생태공원', icon=folium.Icon(color='purple', icon='flag')).add_to(map_y)\n",
        "\n",
        "map_y"
      ]
    },
    {
      "cell_type": "markdown",
      "metadata": {
        "id": "Kt3-xQ-FoUkZ"
      },
      "source": [
        "#### 다양한 마커 아이콘 \n",
        "\n",
        "[https://fontawesome.com/v4.7.0/icons](https://fontawesome.com/v4.7.0/icons)\n",
        "\n",
        "fontawesome의 아이콘을 사용할 때에는 prefix='fa' 옵션을 추가"
      ]
    },
    {
      "cell_type": "code",
      "execution_count": null,
      "metadata": {
        "colab": {
          "base_uri": "https://localhost:8080/",
          "height": 866
        },
        "id": "mrtXKlAmoXYW",
        "outputId": "c128278f-1518-4678-cb90-6bb7b17e37e6"
      },
      "outputs": [],
      "source": [
        "folium.Marker(\n",
        "    [lat1, long1], tooltip='여의도 한강공원', \n",
        "    icon=folium.Icon(color='red', icon='automobile', prefix='fa')).add_to(map_y)\n",
        "folium.Marker(\n",
        "    [lat2, long2], tooltip='여의도공원', \n",
        "    icon=folium.Icon(color='blue', icon='balance-scale', prefix='fa')).add_to(map_y)\n",
        "folium.Marker(\n",
        "    [lat3 , long3], tooltip='샛강생태공원', \n",
        "    icon=folium.Icon(color='purple', icon='ban', prefix='fa')).add_to(map_y)\n",
        "\n",
        "map_y"
      ]
    },
    {
      "cell_type": "markdown",
      "metadata": {},
      "source": [
        "Marker cluster를 통해 군집들 살펴보기"
      ]
    },
    {
      "cell_type": "code",
      "execution_count": null,
      "metadata": {
        "colab": {
          "base_uri": "https://localhost:8080/",
          "height": 866
        },
        "id": "oh3Fltq7oXvk",
        "outputId": "781ac596-b19b-449f-f097-3d4016c558ba"
      },
      "outputs": [],
      "source": [
        "lat = [37.52860, 37.52400, 37.51865]                         # 위도 리스트  \n",
        "long = [126.93431, 126.91889, 126.92041]                     # 경도 리스트\n",
        "names = ['여의도 한강공원', '여의도공원', '샛강생태공원']    # 위치 이름 리스트\n",
        "icons = ['automobile', 'balance-scale', 'ban']               # 아이콘 모양 리스트   \n",
        "colors = ['red', 'blue', 'purple']                           # 아이콘 색상 리스트\n",
        "\n",
        "map_y = folium.Map([lat[0], long[0]], zoom_start = 15)\n",
        "\n",
        "from folium.plugins import MarkerCluster\n",
        "marker_cluster = MarkerCluster().add_to(map_y)\n",
        "\n",
        "for i in range(len(lat)) : \n",
        "    folium.Marker([lat[i], long[i]], tooltip=names[i],\n",
        "                  icon=folium.Icon(color=colors[i], icon=icons[i], prefix='fa')).add_to(marker_cluster)\n",
        "\n",
        "map_y"
      ]
    }
  ],
  "metadata": {
    "colab": {
      "authorship_tag": "ABX9TyO0sX0D25w515QQG6bLqTp5",
      "collapsed_sections": [],
      "include_colab_link": true,
      "name": "12장_(완성본)_folium.ipynb",
      "provenance": []
    },
    "kernelspec": {
      "display_name": "practice",
      "language": "python",
      "name": "python3"
    },
    "language_info": {
      "codemirror_mode": {
        "name": "ipython",
        "version": 3
      },
      "file_extension": ".py",
      "mimetype": "text/x-python",
      "name": "python",
      "nbconvert_exporter": "python",
      "pygments_lexer": "ipython3",
      "version": "3.10.15"
    }
  },
  "nbformat": 4,
  "nbformat_minor": 0
}

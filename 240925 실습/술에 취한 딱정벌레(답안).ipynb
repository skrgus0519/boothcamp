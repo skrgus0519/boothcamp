{
 "cells": [
  {
   "cell_type": "markdown",
   "id": "e818cd7d",
   "metadata": {},
   "source": [
    "# 술에 취한 딱정벌레\n",
    "\n",
    "딱정벌레가 N X N 크기의 방을 움직이고 있다.\n",
    "\n",
    "가운데 점을 시작 위치로, 딱정벌레가 술에 취해 상하좌우 4방향을 무작위로 움직인다.\n",
    "\n",
    "딱정벌레가 방안의 모든 타일을 한 번 이상 지나가는데 걸리는 총 이동수는 얼마인가?"
   ]
  },
  {
   "cell_type": "code",
   "execution_count": 41,
   "id": "e8b2ca29",
   "metadata": {},
   "outputs": [],
   "source": [
    "[0] [0] [1] [1] [1]\n",
    "[0] [0] [1] [0] [1]\n",
    "[0] [0] [1] [0] [1]\n",
    "[0] [0] [0] [0] [0]\n",
    "[0] [0] [0] [0] [0]\n",
    "\n",
    "# 현재 위치를 x, y라고 했을 때 시작위치 지정.\n",
    "# x : int(n / 2)\n",
    "# y : int(n / 2)\n",
    "map[x][y]로 현재 딱정벌레의 위치 파악\n"
   ]
  },
  {
   "cell_type": "markdown",
   "id": "70af8d5c",
   "metadata": {},
   "source": [
    "### 심화) 딱장벌레가 모든 타일을 지나갔을 때, 각각의 타일을 몇 번 지나갔는지 숫자로 표시하세요."
   ]
  },
  {
   "cell_type": "code",
   "execution_count": 17,
   "id": "bed58306",
   "metadata": {},
   "outputs": [
    {
     "name": "stdout",
     "output_type": "stream",
     "text": [
      "최종 배열 상태:\n",
      " 7  5  9 16 14\n",
      " 6  8 13 18 13\n",
      " 5  8 12 13 13\n",
      " 6  7  9  9  7\n",
      " 1  2  3  6  6\n",
      "이동 횟수: 216\n"
     ]
    }
   ],
   "source": [
    "import random\n",
    "\n",
    "n = 5\n",
    "x = n // 2\n",
    "y = n // 2\n",
    "num_steps = 0\n",
    "\n",
    "# 2차원 배열 초기화\n",
    "grid = []\n",
    "for i in range(n):\n",
    "    row = []\n",
    "    for j in range(n):\n",
    "        row.append(0)\n",
    "    grid.append(row)\n",
    "\n",
    "# 이동할 방향 정의 (상, 하, 좌, 우)\n",
    "directions = [(0, 1), (0, -1), (-1, 0), (1, 0)]\n",
    "\n",
    "# 종료조건 : 모든 배열의 값이 0보다 크면 종료\n",
    "def isDone(grid):\n",
    "    for row in grid:\n",
    "        for cell in row:\n",
    "            if cell <= 0:\n",
    "                return False\n",
    "    return True\n",
    "\n",
    "while True:\n",
    "    move = random.choice(directions)\n",
    "    new_x = x + move[0]\n",
    "    new_y = y + move[1]\n",
    "    \n",
    "    # 경계 처리\n",
    "    if 0 <= new_x < n and 0 <= new_y < n:\n",
    "        x = new_x\n",
    "        y = new_y\n",
    "    \n",
    "    \n",
    "    grid[x][y] += 1     # 딱정벌레가 이동한 위치의 값 + 1\n",
    "    num_steps += 1      # 이동 횟수 + 1\n",
    "    \n",
    "    if isDone(grid):\n",
    "        break\n",
    "\n",
    "# 이동 횟수 출력\n",
    "print(\"최종 배열 상태:\")\n",
    "for row in grid:\n",
    "    # 각 요소를 2자리로 정렬하여 출력\n",
    "    print(\" \".join(f\"{cell:2d}\" for cell in row))\n",
    "print(f\"이동 횟수: {num_steps}\")"
   ]
  }
 ],
 "metadata": {
  "kernelspec": {
   "display_name": "Python 3",
   "language": "python",
   "name": "python3"
  },
  "language_info": {
   "codemirror_mode": {
    "name": "ipython",
    "version": 3
   },
   "file_extension": ".py",
   "mimetype": "text/x-python",
   "name": "python",
   "nbconvert_exporter": "python",
   "pygments_lexer": "ipython3",
   "version": "3.11.2"
  }
 },
 "nbformat": 4,
 "nbformat_minor": 5
}

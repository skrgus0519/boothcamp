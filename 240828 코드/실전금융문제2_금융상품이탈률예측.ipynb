{
 "cells": [
  {
   "cell_type": "markdown",
   "metadata": {},
   "source": [
    "# 실습2 금융 상품 이탈률 예측 (Customer Churn Prediction)"
   ]
  },
  {
   "cell_type": "markdown",
   "metadata": {},
   "source": [
    "금융상품 이탈률 예측(Customer Churn Prediction)을 위한 실습 코드를 준비했습니다. Kaggle에서 찾은 적절한 데이터셋은 \"Credit Card Customers\" 입니다.\n",
    "\n",
    "데이터셋 링크: https://www.kaggle.com/sakshigoyal7/credit-card-customers"
   ]
  },
  {
   "cell_type": "code",
   "execution_count": 3,
   "metadata": {},
   "outputs": [],
   "source": [
    "import pandas as pd\n",
    "import numpy as np\n",
    "import matplotlib.pyplot as plt\n",
    "import seaborn as sns\n",
    "from sklearn.ensemble import RandomForestClassifier\n",
    "from sklearn.model_selection import train_test_split\n",
    "from sklearn.metrics import classification_report, confusion_matrix\n"
   ]
  },
  {
   "cell_type": "code",
   "execution_count": 2,
   "metadata": {},
   "outputs": [
    {
     "ename": "NameError",
     "evalue": "name 'pd' is not defined",
     "output_type": "error",
     "traceback": [
      "\u001b[1;31m---------------------------------------------------------------------------\u001b[0m",
      "\u001b[1;31mNameError\u001b[0m                                 Traceback (most recent call last)",
      "Cell \u001b[1;32mIn[2], line 1\u001b[0m\n\u001b[1;32m----> 1\u001b[0m data \u001b[38;5;241m=\u001b[39m \u001b[43mpd\u001b[49m\u001b[38;5;241m.\u001b[39mread_csv(\u001b[38;5;124m'\u001b[39m\u001b[38;5;124mBankChurners.csv\u001b[39m\u001b[38;5;124m'\u001b[39m)\n\u001b[0;32m      2\u001b[0m data\n",
      "\u001b[1;31mNameError\u001b[0m: name 'pd' is not defined"
     ]
    }
   ],
   "source": [
    "data = pd.read_csv('BankChurners.csv')\n",
    "data"
   ]
  },
  {
   "cell_type": "code",
   "execution_count": 4,
   "metadata": {},
   "outputs": [
    {
     "name": "stdout",
     "output_type": "stream",
     "text": [
      "Attrition_Flag\n",
      "Existing Customer    8500\n",
      "Attrited Customer    1627\n",
      "Name: count, dtype: int64\n"
     ]
    }
   ],
   "source": [
    "print(data['Attrition_Flag'].value_counts())\n",
    "X = data.drop('Attrition_Flag', axis=1)\n",
    "y = data['Attrition_Flag']"
   ]
  },
  {
   "cell_type": "code",
   "execution_count": 8,
   "metadata": {},
   "outputs": [
    {
     "name": "stdout",
     "output_type": "stream",
     "text": [
      "Attrition_Flag\n",
      "0    8500\n",
      "1    1627\n",
      "Name: count, dtype: int64\n"
     ]
    }
   ],
   "source": [
    "# 데이터 로드\n",
    "data = pd.read_csv('BankChurners.csv')\n",
    "\n",
    "# 필요한 열 선택\n",
    "data = data[['Customer_Age', 'Gender', 'Dependent_count', 'Education_Level', 'Marital_Status', 'Income_Category', 'Card_Category', 'Months_on_book', 'Total_Relationship_Count', 'Months_Inactive_12_mon', 'Contacts_Count_12_mon', 'Credit_Limit', 'Total_Revolving_Bal', 'Avg_Open_To_Buy', 'Total_Amt_Chng_Q4_Q1', 'Total_Trans_Amt', 'Total_Trans_Ct', 'Total_Ct_Chng_Q4_Q1', 'Avg_Utilization_Ratio', 'Attrition_Flag']]\n",
    "\n",
    "# 카테고리형 변수를 숫자로 매핑\n",
    "data['Gender'] = data['Gender'].map({'M': 0, 'F': 1})\n",
    "data['Education_Level'] = data['Education_Level'].map({'Unknown': 0, 'Uneducated': 1, 'High School': 2, 'College': 3, 'Graduate': 4, 'Post-Graduate': 5, 'Doctorate': 6})\n",
    "data['Marital_Status'] = data['Marital_Status'].map({'Unknown': 0, 'Single': 1, 'Married': 2, 'Divorced': 3})\n",
    "data['Income_Category'] = data['Income_Category'].map({'Unknown': 0, 'Less than $40K': 1, '$40K - $60K': 2, '$60K - $80K': 3, '$80K - $120K': 4, '$120K +': 5})\n",
    "data['Card_Category'] = data['Card_Category'].map({'Blue': 0, 'Silver': 1, 'Gold': 2, 'Platinum': 3})\n",
    "\n",
    "# Attrition_Flag 열을 매핑해보세요 'Existing Customer'-> 0, 'Attrited Customer' -> 1\n",
    "data['Attrition_Flag'] = data['Attrition_Flag'].map({'Existing Customer': 0, 'Attrited Customer': 1})\n",
    "\n",
    "\n",
    "# 위 모든 feature를 사용해서, Attrition_Flag 예측\n",
    "print(data['Attrition_Flag'].value_counts())\n",
    "X = data.drop('Attrition_Flag', axis=1)\n",
    "y = data['Attrition_Flag']\n",
    "\n"
   ]
  },
  {
   "cell_type": "code",
   "execution_count": 11,
   "metadata": {},
   "outputs": [
    {
     "name": "stdout",
     "output_type": "stream",
     "text": [
      "              precision    recall  f1-score   support\n",
      "\n",
      "           0       0.97      0.99      0.98      1709\n",
      "           1       0.91      0.81      0.86       317\n",
      "\n",
      "    accuracy                           0.96      2026\n",
      "   macro avg       0.94      0.90      0.92      2026\n",
      "weighted avg       0.96      0.96      0.96      2026\n",
      "\n",
      "[[1684   25]\n",
      " [  60  257]]\n"
     ]
    }
   ],
   "source": [
    "# 학습 데이터와 테스트 데이터 분리\n",
    "학습용_data, 테스트용_data, 학습용_target, 테스트용_target = train_test_split(\n",
    "    X, y, test_size=0.2, random_state=40)\n",
    "\n",
    "# Random Forest 모델 생성 및 학습\n",
    "rf = RandomForestClassifier()\n",
    "rf.fit(학습용_data, 학습용_target)\n",
    "\n",
    "# 예측\n",
    "y_pred = rf.predict(테스트용_data)\n",
    "\n",
    "# 결과 평가(report확인, confusion martrix 확인)\n",
    "print(classification_report(테스트용_target, y_pred))\n",
    "print(confusion_matrix(테스트용_target, y_pred))"
   ]
  },
  {
   "cell_type": "code",
   "execution_count": 1,
   "metadata": {},
   "outputs": [
    {
     "ename": "NameError",
     "evalue": "name 'pd' is not defined",
     "output_type": "error",
     "traceback": [
      "\u001b[1;31m---------------------------------------------------------------------------\u001b[0m",
      "\u001b[1;31mNameError\u001b[0m                                 Traceback (most recent call last)",
      "Cell \u001b[1;32mIn[1], line 2\u001b[0m\n\u001b[0;32m      1\u001b[0m \u001b[38;5;66;03m# Feature Importance 시각화\u001b[39;00m\n\u001b[1;32m----> 2\u001b[0m feat_importances \u001b[38;5;241m=\u001b[39m \u001b[43mpd\u001b[49m\u001b[38;5;241m.\u001b[39mSeries(model\u001b[38;5;241m.\u001b[39mfeature_importances_, index\u001b[38;5;241m=\u001b[39mX\u001b[38;5;241m.\u001b[39mcolumns)\n\u001b[0;32m      3\u001b[0m feat_importances\u001b[38;5;241m.\u001b[39mnlargest(\u001b[38;5;241m10\u001b[39m)\u001b[38;5;241m.\u001b[39mplot(kind\u001b[38;5;241m=\u001b[39m\u001b[38;5;124m'\u001b[39m\u001b[38;5;124mbarh\u001b[39m\u001b[38;5;124m'\u001b[39m, figsize\u001b[38;5;241m=\u001b[39m(\u001b[38;5;241m10\u001b[39m, \u001b[38;5;241m6\u001b[39m))\n\u001b[0;32m      4\u001b[0m plt\u001b[38;5;241m.\u001b[39mtitle(\u001b[38;5;124m'\u001b[39m\u001b[38;5;124mFeature Importance\u001b[39m\u001b[38;5;124m'\u001b[39m)\n",
      "\u001b[1;31mNameError\u001b[0m: name 'pd' is not defined"
     ]
    }
   ],
   "source": [
    "# Feature Importance 시각화\n",
    "feat_importances = pd.Series(model.feature_importances_, index=X.columns)\n",
    "feat_importances.nlargest(10).plot(kind='barh', figsize=(10, 6))\n",
    "plt.title('Feature Importance')\n",
    "plt.xlabel('Importance Score')\n",
    "plt.ylabel('Features')\n",
    "plt.show()\n",
    "\n",
    "# 상관관계 히트맵\n",
    "plt.figure(figsize=(12, 10))\n",
    "sns.heatmap(data.corr(), annot=True, cmap='coolwarm', linewidths=0.5)\n",
    "plt.title('Correlation Heatmap')\n",
    "plt.show()"
   ]
  },
  {
   "cell_type": "markdown",
   "metadata": {},
   "source": [
    "### 최소 2가지 이상의 분류모델을 추가로 적용하여 가장 성능이 높은 모델을 고르세요."
   ]
  },
  {
   "cell_type": "code",
   "execution_count": null,
   "metadata": {},
   "outputs": [],
   "source": [
    "# 모델1 학습\n",
    "\n",
    "\n",
    "# 예측\n",
    "\n",
    "\n",
    "# 평가\n",
    "\n",
    "y_pred = model.predict(X_test)"
   ]
  },
  {
   "cell_type": "code",
   "execution_count": null,
   "metadata": {},
   "outputs": [],
   "source": [
    "# 모델2 학습\n",
    "\n",
    "\n",
    "# 예측\n",
    "\n",
    "\n",
    "# 평가\n",
    "\n",
    "y_pred = model.predict(X_test)"
   ]
  }
 ],
 "metadata": {
  "kernelspec": {
   "display_name": "base",
   "language": "python",
   "name": "python3"
  },
  "language_info": {
   "codemirror_mode": {
    "name": "ipython",
    "version": 3
   },
   "file_extension": ".py",
   "mimetype": "text/x-python",
   "name": "python",
   "nbconvert_exporter": "python",
   "pygments_lexer": "ipython3",
   "version": "3.10.9"
  }
 },
 "nbformat": 4,
 "nbformat_minor": 2
}

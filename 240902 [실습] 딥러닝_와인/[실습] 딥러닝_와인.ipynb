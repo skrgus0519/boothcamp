{
  "cells": [
    {
      "cell_type": "markdown",
      "metadata": {},
      "source": [
        "# Colab 데이터 로드"
      ]
    },
    {
      "cell_type": "code",
      "execution_count": null,
      "metadata": {
        "colab": {
          "base_uri": "https://localhost:8080/",
          "height": 484,
          "resources": {
            "http://localhost:8080/nbextensions/google.colab/files.js": {
              "data": "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",
              "headers": [
                [
                  "content-type",
                  "application/javascript"
                ]
              ],
              "ok": true,
              "status": 200,
              "status_text": ""
            }
          }
        },
        "id": "szZksOaYJGw6",
        "outputId": "adaf675c-8d64-443d-c313-ffe17188b8e9"
      },
      "outputs": [],
      "source": [
        "#Step 1.분석할 데이터가 저장된 파일을 불러와서 변수에 할당합니다.\n",
        "from google.colab import files\n",
        "myfile = files.upload()\n",
        "import io\n",
        "import pandas as pd\n",
        "#pd.read_csv로 csv파일 불러오기\n",
        "src_data = pd.read_csv(io.BytesIO(myfile['와인.csv']),\n",
        "                       encoding='cp949')\n",
        "src_data"
      ]
    },
    {
      "cell_type": "markdown",
      "metadata": {},
      "source": [
        "# 로컬 데이터 로드"
      ]
    },
    {
      "cell_type": "code",
      "execution_count": 1,
      "metadata": {},
      "outputs": [
        {
          "data": {
            "text/html": [
              "<div>\n",
              "<style scoped>\n",
              "    .dataframe tbody tr th:only-of-type {\n",
              "        vertical-align: middle;\n",
              "    }\n",
              "\n",
              "    .dataframe tbody tr th {\n",
              "        vertical-align: top;\n",
              "    }\n",
              "\n",
              "    .dataframe thead th {\n",
              "        text-align: right;\n",
              "    }\n",
              "</style>\n",
              "<table border=\"1\" class=\"dataframe\">\n",
              "  <thead>\n",
              "    <tr style=\"text-align: right;\">\n",
              "      <th></th>\n",
              "      <th>알콜도수</th>\n",
              "      <th>당도</th>\n",
              "      <th>산도_ph</th>\n",
              "      <th>종류</th>\n",
              "    </tr>\n",
              "  </thead>\n",
              "  <tbody>\n",
              "    <tr>\n",
              "      <th>0</th>\n",
              "      <td>9.4</td>\n",
              "      <td>1.9</td>\n",
              "      <td>3.51</td>\n",
              "      <td>레드와인</td>\n",
              "    </tr>\n",
              "    <tr>\n",
              "      <th>1</th>\n",
              "      <td>9.8</td>\n",
              "      <td>2.6</td>\n",
              "      <td>3.20</td>\n",
              "      <td>레드와인</td>\n",
              "    </tr>\n",
              "    <tr>\n",
              "      <th>2</th>\n",
              "      <td>9.8</td>\n",
              "      <td>2.3</td>\n",
              "      <td>3.26</td>\n",
              "      <td>레드와인</td>\n",
              "    </tr>\n",
              "    <tr>\n",
              "      <th>3</th>\n",
              "      <td>9.8</td>\n",
              "      <td>1.9</td>\n",
              "      <td>3.16</td>\n",
              "      <td>레드와인</td>\n",
              "    </tr>\n",
              "    <tr>\n",
              "      <th>4</th>\n",
              "      <td>9.4</td>\n",
              "      <td>1.9</td>\n",
              "      <td>3.51</td>\n",
              "      <td>레드와인</td>\n",
              "    </tr>\n",
              "    <tr>\n",
              "      <th>...</th>\n",
              "      <td>...</td>\n",
              "      <td>...</td>\n",
              "      <td>...</td>\n",
              "      <td>...</td>\n",
              "    </tr>\n",
              "    <tr>\n",
              "      <th>6492</th>\n",
              "      <td>11.2</td>\n",
              "      <td>1.6</td>\n",
              "      <td>3.27</td>\n",
              "      <td>화이트와인</td>\n",
              "    </tr>\n",
              "    <tr>\n",
              "      <th>6493</th>\n",
              "      <td>9.6</td>\n",
              "      <td>8.0</td>\n",
              "      <td>3.15</td>\n",
              "      <td>화이트와인</td>\n",
              "    </tr>\n",
              "    <tr>\n",
              "      <th>6494</th>\n",
              "      <td>9.4</td>\n",
              "      <td>1.2</td>\n",
              "      <td>2.99</td>\n",
              "      <td>화이트와인</td>\n",
              "    </tr>\n",
              "    <tr>\n",
              "      <th>6495</th>\n",
              "      <td>12.8</td>\n",
              "      <td>1.1</td>\n",
              "      <td>3.34</td>\n",
              "      <td>화이트와인</td>\n",
              "    </tr>\n",
              "    <tr>\n",
              "      <th>6496</th>\n",
              "      <td>11.8</td>\n",
              "      <td>0.8</td>\n",
              "      <td>3.26</td>\n",
              "      <td>화이트와인</td>\n",
              "    </tr>\n",
              "  </tbody>\n",
              "</table>\n",
              "<p>6497 rows × 4 columns</p>\n",
              "</div>"
            ],
            "text/plain": [
              "      알콜도수   당도  산도_ph     종류\n",
              "0      9.4  1.9   3.51   레드와인\n",
              "1      9.8  2.6   3.20   레드와인\n",
              "2      9.8  2.3   3.26   레드와인\n",
              "3      9.8  1.9   3.16   레드와인\n",
              "4      9.4  1.9   3.51   레드와인\n",
              "...    ...  ...    ...    ...\n",
              "6492  11.2  1.6   3.27  화이트와인\n",
              "6493   9.6  8.0   3.15  화이트와인\n",
              "6494   9.4  1.2   2.99  화이트와인\n",
              "6495  12.8  1.1   3.34  화이트와인\n",
              "6496  11.8  0.8   3.26  화이트와인\n",
              "\n",
              "[6497 rows x 4 columns]"
            ]
          },
          "execution_count": 1,
          "metadata": {},
          "output_type": "execute_result"
        }
      ],
      "source": [
        "import pandas as pd\n",
        "src_data = pd.read_csv('와인.csv', encoding='cp949')\n",
        "src_data"
      ]
    },
    {
      "cell_type": "markdown",
      "metadata": {},
      "source": [
        "# 공통 실습 코드"
      ]
    },
    {
      "cell_type": "code",
      "execution_count": 7,
      "metadata": {
        "colab": {
          "base_uri": "https://localhost:8080/"
        },
        "id": "cMeKY5D9JOd2",
        "outputId": "75c94217-0bb6-4c0b-fa02-8507cb3e8cee"
      },
      "outputs": [
        {
          "name": "stdout",
          "output_type": "stream",
          "text": [
            "종류\n",
            "1    4898\n",
            "0    1599\n",
            "Name: count, dtype: int64\n",
            "0\n"
          ]
        }
      ],
      "source": [
        "#Step 2.주어진 데이터를 훈련용 데이터와 검증용 데이터로 나눕니다\n",
        "import numpy as np\n",
        "data = src_data[['알콜도수','당도','산도_ph']].to_numpy()\n",
        "\n",
        "# '레드와인':0, '화이트와인':1 mapping\n",
        "target = src_data['종류'].map({'레드와인':0, '화이트와인':1})\n",
        "print(target.value_counts())\n",
        "print(sum(target.isna()))\n",
        "\n",
        "# train, test 분리\n",
        "from sklearn.model_selection import train_test_split\n",
        "train_data, test_data, train_target, test_target = train_test_split(\n",
        "    data, target, test_size=0.2, random_state=40)"
      ]
    },
    {
      "cell_type": "code",
      "execution_count": 10,
      "metadata": {
        "colab": {
          "base_uri": "https://localhost:8080/"
        },
        "id": "xdsI-Im6JuTk",
        "outputId": "74f6723e-155c-4ab8-b228-6298efd12bb0"
      },
      "outputs": [
        {
          "name": "stdout",
          "output_type": "stream",
          "text": [
            "Epoch 1/100\n"
          ]
        },
        {
          "name": "stderr",
          "output_type": "stream",
          "text": [
            "c:\\Users\\qq\\AppData\\Local\\Programs\\Python\\Python310\\lib\\site-packages\\keras\\src\\layers\\core\\dense.py:87: UserWarning: Do not pass an `input_shape`/`input_dim` argument to a layer. When using Sequential models, prefer using an `Input(shape)` object as the first layer in the model instead.\n",
            "  super().__init__(activity_regularizer=activity_regularizer, **kwargs)\n"
          ]
        },
        {
          "name": "stdout",
          "output_type": "stream",
          "text": [
            "\u001b[1m208/208\u001b[0m \u001b[32m━━━━━━━━━━━━━━━━━━━━\u001b[0m\u001b[37m\u001b[0m \u001b[1m2s\u001b[0m 3ms/step - accuracy: 0.7641 - loss: 0.1525 - precision_1: 0.7648 - recall_1: 0.9946 - val_accuracy: 0.8567 - val_loss: 0.1104 - val_precision_1: 0.9070 - val_recall_1: 0.9012\n",
            "Epoch 2/100\n",
            "\u001b[1m208/208\u001b[0m \u001b[32m━━━━━━━━━━━━━━━━━━━━\u001b[0m\u001b[37m\u001b[0m \u001b[1m0s\u001b[0m 2ms/step - accuracy: 0.8423 - loss: 0.1147 - precision_1: 0.8736 - recall_1: 0.9249 - val_accuracy: 0.8413 - val_loss: 0.1056 - val_precision_1: 0.9205 - val_recall_1: 0.8626\n",
            "Epoch 3/100\n",
            "\u001b[1m208/208\u001b[0m \u001b[32m━━━━━━━━━━━━━━━━━━━━\u001b[0m\u001b[37m\u001b[0m \u001b[1m0s\u001b[0m 1ms/step - accuracy: 0.8445 - loss: 0.1120 - precision_1: 0.8880 - recall_1: 0.9080 - val_accuracy: 0.8625 - val_loss: 0.0953 - val_precision_1: 0.9141 - val_recall_1: 0.9012\n",
            "Epoch 4/100\n",
            "\u001b[1m208/208\u001b[0m \u001b[32m━━━━━━━━━━━━━━━━━━━━\u001b[0m\u001b[37m\u001b[0m \u001b[1m0s\u001b[0m 1ms/step - accuracy: 0.8618 - loss: 0.1027 - precision_1: 0.9053 - recall_1: 0.9134 - val_accuracy: 0.8615 - val_loss: 0.0965 - val_precision_1: 0.9183 - val_recall_1: 0.8947\n",
            "Epoch 5/100\n",
            "\u001b[1m208/208\u001b[0m \u001b[32m━━━━━━━━━━━━━━━━━━━━\u001b[0m\u001b[37m\u001b[0m \u001b[1m0s\u001b[0m 1ms/step - accuracy: 0.8534 - loss: 0.0992 - precision_1: 0.9005 - recall_1: 0.9087 - val_accuracy: 0.8654 - val_loss: 0.0955 - val_precision_1: 0.9176 - val_recall_1: 0.9012\n",
            "Epoch 6/100\n",
            "\u001b[1m208/208\u001b[0m \u001b[32m━━━━━━━━━━━━━━━━━━━━\u001b[0m\u001b[37m\u001b[0m \u001b[1m0s\u001b[0m 2ms/step - accuracy: 0.8547 - loss: 0.1047 - precision_1: 0.8999 - recall_1: 0.9070 - val_accuracy: 0.8596 - val_loss: 0.0951 - val_precision_1: 0.9094 - val_recall_1: 0.9024\n",
            "Epoch 7/100\n",
            "\u001b[1m208/208\u001b[0m \u001b[32m━━━━━━━━━━━━━━━━━━━━\u001b[0m\u001b[37m\u001b[0m \u001b[1m0s\u001b[0m 1ms/step - accuracy: 0.8559 - loss: 0.1053 - precision_1: 0.8983 - recall_1: 0.9117 - val_accuracy: 0.8625 - val_loss: 0.1026 - val_precision_1: 0.9119 - val_recall_1: 0.9037\n",
            "Epoch 8/100\n",
            "\u001b[1m208/208\u001b[0m \u001b[32m━━━━━━━━━━━━━━━━━━━━\u001b[0m\u001b[37m\u001b[0m \u001b[1m0s\u001b[0m 1ms/step - accuracy: 0.8679 - loss: 0.1005 - precision_1: 0.9072 - recall_1: 0.9190 - val_accuracy: 0.8644 - val_loss: 0.0985 - val_precision_1: 0.8816 - val_recall_1: 0.9461\n",
            "Epoch 9/100\n",
            "\u001b[1m208/208\u001b[0m \u001b[32m━━━━━━━━━━━━━━━━━━━━\u001b[0m\u001b[37m\u001b[0m \u001b[1m0s\u001b[0m 2ms/step - accuracy: 0.8707 - loss: 0.0944 - precision_1: 0.9017 - recall_1: 0.9316 - val_accuracy: 0.8625 - val_loss: 0.0946 - val_precision_1: 0.8995 - val_recall_1: 0.9191\n",
            "Epoch 10/100\n",
            "\u001b[1m208/208\u001b[0m \u001b[32m━━━━━━━━━━━━━━━━━━━━\u001b[0m\u001b[37m\u001b[0m \u001b[1m0s\u001b[0m 1ms/step - accuracy: 0.8619 - loss: 0.1068 - precision_1: 0.9008 - recall_1: 0.9163 - val_accuracy: 0.8462 - val_loss: 0.1002 - val_precision_1: 0.8742 - val_recall_1: 0.9281\n",
            "Epoch 11/100\n",
            "\u001b[1m208/208\u001b[0m \u001b[32m━━━━━━━━━━━━━━━━━━━━\u001b[0m\u001b[37m\u001b[0m \u001b[1m0s\u001b[0m 1ms/step - accuracy: 0.8542 - loss: 0.1055 - precision_1: 0.8939 - recall_1: 0.9151 - val_accuracy: 0.8615 - val_loss: 0.0983 - val_precision_1: 0.8994 - val_recall_1: 0.9178\n",
            "Epoch 12/100\n",
            "\u001b[1m208/208\u001b[0m \u001b[32m━━━━━━━━━━━━━━━━━━━━\u001b[0m\u001b[37m\u001b[0m \u001b[1m0s\u001b[0m 1ms/step - accuracy: 0.8464 - loss: 0.1061 - precision_1: 0.8862 - recall_1: 0.9106 - val_accuracy: 0.8615 - val_loss: 0.0987 - val_precision_1: 0.9045 - val_recall_1: 0.9114\n",
            "Epoch 13/100\n",
            "\u001b[1m208/208\u001b[0m \u001b[32m━━━━━━━━━━━━━━━━━━━━\u001b[0m\u001b[37m\u001b[0m \u001b[1m0s\u001b[0m 1ms/step - accuracy: 0.8507 - loss: 0.1083 - precision_1: 0.8830 - recall_1: 0.9187 - val_accuracy: 0.8673 - val_loss: 0.0948 - val_precision_1: 0.8991 - val_recall_1: 0.9268\n",
            "Epoch 14/100\n",
            "\u001b[1m208/208\u001b[0m \u001b[32m━━━━━━━━━━━━━━━━━━━━\u001b[0m\u001b[37m\u001b[0m \u001b[1m1s\u001b[0m 2ms/step - accuracy: 0.8613 - loss: 0.1013 - precision_1: 0.8931 - recall_1: 0.9255 - val_accuracy: 0.8615 - val_loss: 0.0946 - val_precision_1: 0.8994 - val_recall_1: 0.9178\n",
            "Epoch 15/100\n",
            "\u001b[1m208/208\u001b[0m \u001b[32m━━━━━━━━━━━━━━━━━━━━\u001b[0m\u001b[37m\u001b[0m \u001b[1m0s\u001b[0m 1ms/step - accuracy: 0.8642 - loss: 0.0983 - precision_1: 0.8990 - recall_1: 0.9260 - val_accuracy: 0.8615 - val_loss: 0.0983 - val_precision_1: 0.8877 - val_recall_1: 0.9332\n",
            "Epoch 16/100\n",
            "\u001b[1m208/208\u001b[0m \u001b[32m━━━━━━━━━━━━━━━━━━━━\u001b[0m\u001b[37m\u001b[0m \u001b[1m0s\u001b[0m 2ms/step - accuracy: 0.8647 - loss: 0.0980 - precision_1: 0.8951 - recall_1: 0.9273 - val_accuracy: 0.8615 - val_loss: 0.0948 - val_precision_1: 0.9065 - val_recall_1: 0.9089\n",
            "Epoch 17/100\n",
            "\u001b[1m208/208\u001b[0m \u001b[32m━━━━━━━━━━━━━━━━━━━━\u001b[0m\u001b[37m\u001b[0m \u001b[1m0s\u001b[0m 2ms/step - accuracy: 0.8708 - loss: 0.0973 - precision_1: 0.9084 - recall_1: 0.9231 - val_accuracy: 0.8625 - val_loss: 0.0945 - val_precision_1: 0.9077 - val_recall_1: 0.9089\n",
            "Epoch 18/100\n",
            "\u001b[1m208/208\u001b[0m \u001b[32m━━━━━━━━━━━━━━━━━━━━\u001b[0m\u001b[37m\u001b[0m \u001b[1m0s\u001b[0m 1ms/step - accuracy: 0.8671 - loss: 0.1009 - precision_1: 0.8960 - recall_1: 0.9303 - val_accuracy: 0.8606 - val_loss: 0.0967 - val_precision_1: 0.8819 - val_recall_1: 0.9397\n",
            "Epoch 19/100\n",
            "\u001b[1m208/208\u001b[0m \u001b[32m━━━━━━━━━━━━━━━━━━━━\u001b[0m\u001b[37m\u001b[0m \u001b[1m0s\u001b[0m 2ms/step - accuracy: 0.8655 - loss: 0.0952 - precision_1: 0.8956 - recall_1: 0.9307 - val_accuracy: 0.8587 - val_loss: 0.0951 - val_precision_1: 0.8911 - val_recall_1: 0.9243\n",
            "Epoch 20/100\n",
            "\u001b[1m208/208\u001b[0m \u001b[32m━━━━━━━━━━━━━━━━━━━━\u001b[0m\u001b[37m\u001b[0m \u001b[1m0s\u001b[0m 1ms/step - accuracy: 0.8669 - loss: 0.0996 - precision_1: 0.8989 - recall_1: 0.9276 - val_accuracy: 0.8615 - val_loss: 0.1019 - val_precision_1: 0.9428 - val_recall_1: 0.8678\n",
            "Epoch 21/100\n",
            "\u001b[1m208/208\u001b[0m \u001b[32m━━━━━━━━━━━━━━━━━━━━\u001b[0m\u001b[37m\u001b[0m \u001b[1m0s\u001b[0m 1ms/step - accuracy: 0.8619 - loss: 0.0973 - precision_1: 0.9038 - recall_1: 0.9157 - val_accuracy: 0.8558 - val_loss: 0.0985 - val_precision_1: 0.8821 - val_recall_1: 0.9320\n",
            "Epoch 22/100\n",
            "\u001b[1m208/208\u001b[0m \u001b[32m━━━━━━━━━━━━━━━━━━━━\u001b[0m\u001b[37m\u001b[0m \u001b[1m0s\u001b[0m 1ms/step - accuracy: 0.8618 - loss: 0.0995 - precision_1: 0.9027 - recall_1: 0.9173 - val_accuracy: 0.8683 - val_loss: 0.0954 - val_precision_1: 0.8973 - val_recall_1: 0.9307\n",
            "Epoch 23/100\n",
            "\u001b[1m208/208\u001b[0m \u001b[32m━━━━━━━━━━━━━━━━━━━━\u001b[0m\u001b[37m\u001b[0m \u001b[1m0s\u001b[0m 2ms/step - accuracy: 0.8596 - loss: 0.1051 - precision_1: 0.8928 - recall_1: 0.9231 - val_accuracy: 0.8615 - val_loss: 0.0970 - val_precision_1: 0.9014 - val_recall_1: 0.9153\n",
            "Epoch 24/100\n",
            "\u001b[1m208/208\u001b[0m \u001b[32m━━━━━━━━━━━━━━━━━━━━\u001b[0m\u001b[37m\u001b[0m \u001b[1m0s\u001b[0m 1ms/step - accuracy: 0.8584 - loss: 0.1001 - precision_1: 0.8956 - recall_1: 0.9193 - val_accuracy: 0.8644 - val_loss: 0.0966 - val_precision_1: 0.8853 - val_recall_1: 0.9409\n",
            "Epoch 25/100\n",
            "\u001b[1m208/208\u001b[0m \u001b[32m━━━━━━━━━━━━━━━━━━━━\u001b[0m\u001b[37m\u001b[0m \u001b[1m0s\u001b[0m 1ms/step - accuracy: 0.8599 - loss: 0.1022 - precision_1: 0.8935 - recall_1: 0.9217 - val_accuracy: 0.8587 - val_loss: 0.0980 - val_precision_1: 0.9317 - val_recall_1: 0.8755\n",
            "Epoch 26/100\n",
            "\u001b[1m208/208\u001b[0m \u001b[32m━━━━━━━━━━━━━━━━━━━━\u001b[0m\u001b[37m\u001b[0m \u001b[1m0s\u001b[0m 1ms/step - accuracy: 0.8613 - loss: 0.1013 - precision_1: 0.9027 - recall_1: 0.9150 - val_accuracy: 0.8567 - val_loss: 0.0982 - val_precision_1: 0.8777 - val_recall_1: 0.9397\n",
            "Epoch 27/100\n",
            "\u001b[1m208/208\u001b[0m \u001b[32m━━━━━━━━━━━━━━━━━━━━\u001b[0m\u001b[37m\u001b[0m \u001b[1m0s\u001b[0m 1ms/step - accuracy: 0.8619 - loss: 0.1016 - precision_1: 0.8960 - recall_1: 0.9214 - val_accuracy: 0.8625 - val_loss: 0.0959 - val_precision_1: 0.8926 - val_recall_1: 0.9281\n",
            "Epoch 28/100\n",
            "\u001b[1m208/208\u001b[0m \u001b[32m━━━━━━━━━━━━━━━━━━━━\u001b[0m\u001b[37m\u001b[0m \u001b[1m0s\u001b[0m 1ms/step - accuracy: 0.8631 - loss: 0.0994 - precision_1: 0.8974 - recall_1: 0.9191 - val_accuracy: 0.8673 - val_loss: 0.0952 - val_precision_1: 0.8913 - val_recall_1: 0.9371\n",
            "Epoch 29/100\n",
            "\u001b[1m208/208\u001b[0m \u001b[32m━━━━━━━━━━━━━━━━━━━━\u001b[0m\u001b[37m\u001b[0m \u001b[1m0s\u001b[0m 1ms/step - accuracy: 0.8799 - loss: 0.0930 - precision_1: 0.9088 - recall_1: 0.9345 - val_accuracy: 0.8644 - val_loss: 0.0968 - val_precision_1: 0.8853 - val_recall_1: 0.9409\n",
            "Epoch 30/100\n",
            "\u001b[1m208/208\u001b[0m \u001b[32m━━━━━━━━━━━━━━━━━━━━\u001b[0m\u001b[37m\u001b[0m \u001b[1m0s\u001b[0m 1ms/step - accuracy: 0.8711 - loss: 0.0957 - precision_1: 0.8995 - recall_1: 0.9337 - val_accuracy: 0.8587 - val_loss: 0.0942 - val_precision_1: 0.9125 - val_recall_1: 0.8973\n",
            "Epoch 31/100\n",
            "\u001b[1m208/208\u001b[0m \u001b[32m━━━━━━━━━━━━━━━━━━━━\u001b[0m\u001b[37m\u001b[0m \u001b[1m0s\u001b[0m 1ms/step - accuracy: 0.8583 - loss: 0.1033 - precision_1: 0.8899 - recall_1: 0.9252 - val_accuracy: 0.8692 - val_loss: 0.0947 - val_precision_1: 0.9192 - val_recall_1: 0.9050\n",
            "Epoch 32/100\n",
            "\u001b[1m208/208\u001b[0m \u001b[32m━━━━━━━━━━━━━━━━━━━━\u001b[0m\u001b[37m\u001b[0m \u001b[1m0s\u001b[0m 2ms/step - accuracy: 0.8608 - loss: 0.1000 - precision_1: 0.8997 - recall_1: 0.9175 - val_accuracy: 0.8606 - val_loss: 0.0953 - val_precision_1: 0.8943 - val_recall_1: 0.9230\n",
            "Epoch 33/100\n",
            "\u001b[1m208/208\u001b[0m \u001b[32m━━━━━━━━━━━━━━━━━━━━\u001b[0m\u001b[37m\u001b[0m \u001b[1m0s\u001b[0m 2ms/step - accuracy: 0.8678 - loss: 0.1008 - precision_1: 0.8951 - recall_1: 0.9346 - val_accuracy: 0.8615 - val_loss: 0.0938 - val_precision_1: 0.9107 - val_recall_1: 0.9037\n",
            "Epoch 34/100\n",
            "\u001b[1m208/208\u001b[0m \u001b[32m━━━━━━━━━━━━━━━━━━━━\u001b[0m\u001b[37m\u001b[0m \u001b[1m0s\u001b[0m 1ms/step - accuracy: 0.8730 - loss: 0.0944 - precision_1: 0.9107 - recall_1: 0.9208 - val_accuracy: 0.8635 - val_loss: 0.0978 - val_precision_1: 0.9006 - val_recall_1: 0.9191\n",
            "Epoch 35/100\n",
            "\u001b[1m208/208\u001b[0m \u001b[32m━━━━━━━━━━━━━━━━━━━━\u001b[0m\u001b[37m\u001b[0m \u001b[1m0s\u001b[0m 1ms/step - accuracy: 0.8631 - loss: 0.0997 - precision_1: 0.9034 - recall_1: 0.9170 - val_accuracy: 0.8577 - val_loss: 0.0950 - val_precision_1: 0.9029 - val_recall_1: 0.9076\n",
            "Epoch 36/100\n",
            "\u001b[1m208/208\u001b[0m \u001b[32m━━━━━━━━━━━━━━━━━━━━\u001b[0m\u001b[37m\u001b[0m \u001b[1m0s\u001b[0m 1ms/step - accuracy: 0.8653 - loss: 0.1006 - precision_1: 0.9006 - recall_1: 0.9227 - val_accuracy: 0.8596 - val_loss: 0.0953 - val_precision_1: 0.9084 - val_recall_1: 0.9037\n",
            "Epoch 37/100\n",
            "\u001b[1m208/208\u001b[0m \u001b[32m━━━━━━━━━━━━━━━━━━━━\u001b[0m\u001b[37m\u001b[0m \u001b[1m0s\u001b[0m 1ms/step - accuracy: 0.8676 - loss: 0.0971 - precision_1: 0.9056 - recall_1: 0.9167 - val_accuracy: 0.8558 - val_loss: 0.0995 - val_precision_1: 0.8812 - val_recall_1: 0.9332\n",
            "Epoch 38/100\n",
            "\u001b[1m208/208\u001b[0m \u001b[32m━━━━━━━━━━━━━━━━━━━━\u001b[0m\u001b[37m\u001b[0m \u001b[1m0s\u001b[0m 1ms/step - accuracy: 0.8604 - loss: 0.1016 - precision_1: 0.8961 - recall_1: 0.9208 - val_accuracy: 0.8587 - val_loss: 0.1030 - val_precision_1: 0.9426 - val_recall_1: 0.8639\n",
            "Epoch 39/100\n",
            "\u001b[1m208/208\u001b[0m \u001b[32m━━━━━━━━━━━━━━━━━━━━\u001b[0m\u001b[37m\u001b[0m \u001b[1m0s\u001b[0m 1ms/step - accuracy: 0.8653 - loss: 0.0962 - precision_1: 0.9050 - recall_1: 0.9195 - val_accuracy: 0.8587 - val_loss: 0.0955 - val_precision_1: 0.9147 - val_recall_1: 0.8947\n",
            "Epoch 40/100\n",
            "\u001b[1m208/208\u001b[0m \u001b[32m━━━━━━━━━━━━━━━━━━━━\u001b[0m\u001b[37m\u001b[0m \u001b[1m0s\u001b[0m 2ms/step - accuracy: 0.8687 - loss: 0.0987 - precision_1: 0.9045 - recall_1: 0.9213 - val_accuracy: 0.8606 - val_loss: 0.0962 - val_precision_1: 0.9227 - val_recall_1: 0.8883\n",
            "Epoch 41/100\n",
            "\u001b[1m208/208\u001b[0m \u001b[32m━━━━━━━━━━━━━━━━━━━━\u001b[0m\u001b[37m\u001b[0m \u001b[1m0s\u001b[0m 1ms/step - accuracy: 0.8655 - loss: 0.0984 - precision_1: 0.9013 - recall_1: 0.9222 - val_accuracy: 0.8606 - val_loss: 0.0945 - val_precision_1: 0.9182 - val_recall_1: 0.8935\n",
            "Epoch 42/100\n",
            "\u001b[1m208/208\u001b[0m \u001b[32m━━━━━━━━━━━━━━━━━━━━\u001b[0m\u001b[37m\u001b[0m \u001b[1m0s\u001b[0m 1ms/step - accuracy: 0.8663 - loss: 0.0976 - precision_1: 0.8982 - recall_1: 0.9271 - val_accuracy: 0.8577 - val_loss: 0.1026 - val_precision_1: 0.8681 - val_recall_1: 0.9551\n",
            "Epoch 43/100\n",
            "\u001b[1m208/208\u001b[0m \u001b[32m━━━━━━━━━━━━━━━━━━━━\u001b[0m\u001b[37m\u001b[0m \u001b[1m0s\u001b[0m 1ms/step - accuracy: 0.8564 - loss: 0.1040 - precision_1: 0.8859 - recall_1: 0.9301 - val_accuracy: 0.8673 - val_loss: 0.0950 - val_precision_1: 0.9104 - val_recall_1: 0.9127\n",
            "Epoch 44/100\n",
            "\u001b[1m208/208\u001b[0m \u001b[32m━━━━━━━━━━━━━━━━━━━━\u001b[0m\u001b[37m\u001b[0m \u001b[1m0s\u001b[0m 1ms/step - accuracy: 0.8701 - loss: 0.0964 - precision_1: 0.9070 - recall_1: 0.9232 - val_accuracy: 0.8635 - val_loss: 0.0942 - val_precision_1: 0.9006 - val_recall_1: 0.9191\n",
            "Epoch 45/100\n",
            "\u001b[1m208/208\u001b[0m \u001b[32m━━━━━━━━━━━━━━━━━━━━\u001b[0m\u001b[37m\u001b[0m \u001b[1m0s\u001b[0m 1ms/step - accuracy: 0.8589 - loss: 0.1023 - precision_1: 0.8954 - recall_1: 0.9208 - val_accuracy: 0.8625 - val_loss: 0.0959 - val_precision_1: 0.8878 - val_recall_1: 0.9345\n",
            "Epoch 46/100\n",
            "\u001b[1m208/208\u001b[0m \u001b[32m━━━━━━━━━━━━━━━━━━━━\u001b[0m\u001b[37m\u001b[0m \u001b[1m0s\u001b[0m 1ms/step - accuracy: 0.8731 - loss: 0.0952 - precision_1: 0.9081 - recall_1: 0.9254 - val_accuracy: 0.8663 - val_loss: 0.0951 - val_precision_1: 0.9199 - val_recall_1: 0.8999\n",
            "Epoch 47/100\n",
            "\u001b[1m208/208\u001b[0m \u001b[32m━━━━━━━━━━━━━━━━━━━━\u001b[0m\u001b[37m\u001b[0m \u001b[1m0s\u001b[0m 2ms/step - accuracy: 0.8602 - loss: 0.1010 - precision_1: 0.8970 - recall_1: 0.9181 - val_accuracy: 0.8567 - val_loss: 0.0942 - val_precision_1: 0.9156 - val_recall_1: 0.8909\n",
            "Epoch 48/100\n",
            "\u001b[1m208/208\u001b[0m \u001b[32m━━━━━━━━━━━━━━━━━━━━\u001b[0m\u001b[37m\u001b[0m \u001b[1m0s\u001b[0m 1ms/step - accuracy: 0.8663 - loss: 0.0976 - precision_1: 0.9045 - recall_1: 0.9183 - val_accuracy: 0.8606 - val_loss: 0.0971 - val_precision_1: 0.8819 - val_recall_1: 0.9397\n",
            "Epoch 49/100\n",
            "\u001b[1m208/208\u001b[0m \u001b[32m━━━━━━━━━━━━━━━━━━━━\u001b[0m\u001b[37m\u001b[0m \u001b[1m0s\u001b[0m 1ms/step - accuracy: 0.8778 - loss: 0.0915 - precision_1: 0.9103 - recall_1: 0.9320 - val_accuracy: 0.8635 - val_loss: 0.0941 - val_precision_1: 0.8927 - val_recall_1: 0.9294\n",
            "Epoch 50/100\n",
            "\u001b[1m208/208\u001b[0m \u001b[32m━━━━━━━━━━━━━━━━━━━━\u001b[0m\u001b[37m\u001b[0m \u001b[1m0s\u001b[0m 1ms/step - accuracy: 0.8724 - loss: 0.0930 - precision_1: 0.9053 - recall_1: 0.9270 - val_accuracy: 0.8548 - val_loss: 0.1009 - val_precision_1: 0.8765 - val_recall_1: 0.9384\n",
            "Epoch 51/100\n",
            "\u001b[1m208/208\u001b[0m \u001b[32m━━━━━━━━━━━━━━━━━━━━\u001b[0m\u001b[37m\u001b[0m \u001b[1m0s\u001b[0m 2ms/step - accuracy: 0.8666 - loss: 0.0985 - precision_1: 0.9015 - recall_1: 0.9271 - val_accuracy: 0.8635 - val_loss: 0.0937 - val_precision_1: 0.9110 - val_recall_1: 0.9063\n",
            "Epoch 52/100\n",
            "\u001b[1m208/208\u001b[0m \u001b[32m━━━━━━━━━━━━━━━━━━━━\u001b[0m\u001b[37m\u001b[0m \u001b[1m0s\u001b[0m 2ms/step - accuracy: 0.8658 - loss: 0.0974 - precision_1: 0.9016 - recall_1: 0.9224 - val_accuracy: 0.8663 - val_loss: 0.0934 - val_precision_1: 0.9082 - val_recall_1: 0.9140\n",
            "Epoch 53/100\n",
            "\u001b[1m208/208\u001b[0m \u001b[32m━━━━━━━━━━━━━━━━━━━━\u001b[0m\u001b[37m\u001b[0m \u001b[1m0s\u001b[0m 2ms/step - accuracy: 0.8669 - loss: 0.0975 - precision_1: 0.9039 - recall_1: 0.9201 - val_accuracy: 0.8644 - val_loss: 0.1000 - val_precision_1: 0.8780 - val_recall_1: 0.9512\n",
            "Epoch 54/100\n",
            "\u001b[1m208/208\u001b[0m \u001b[32m━━━━━━━━━━━━━━━━━━━━\u001b[0m\u001b[37m\u001b[0m \u001b[1m0s\u001b[0m 1ms/step - accuracy: 0.8651 - loss: 0.0956 - precision_1: 0.9032 - recall_1: 0.9202 - val_accuracy: 0.8529 - val_loss: 0.1017 - val_precision_1: 0.9433 - val_recall_1: 0.8549\n",
            "Epoch 55/100\n",
            "\u001b[1m208/208\u001b[0m \u001b[32m━━━━━━━━━━━━━━━━━━━━\u001b[0m\u001b[37m\u001b[0m \u001b[1m0s\u001b[0m 1ms/step - accuracy: 0.8673 - loss: 0.0977 - precision_1: 0.9061 - recall_1: 0.9172 - val_accuracy: 0.8587 - val_loss: 0.0942 - val_precision_1: 0.9083 - val_recall_1: 0.9024\n",
            "Epoch 56/100\n",
            "\u001b[1m208/208\u001b[0m \u001b[32m━━━━━━━━━━━━━━━━━━━━\u001b[0m\u001b[37m\u001b[0m \u001b[1m0s\u001b[0m 1ms/step - accuracy: 0.8690 - loss: 0.0958 - precision_1: 0.9066 - recall_1: 0.9200 - val_accuracy: 0.8615 - val_loss: 0.0943 - val_precision_1: 0.9014 - val_recall_1: 0.9153\n",
            "Epoch 57/100\n",
            "\u001b[1m208/208\u001b[0m \u001b[32m━━━━━━━━━━━━━━━━━━━━\u001b[0m\u001b[37m\u001b[0m \u001b[1m0s\u001b[0m 1ms/step - accuracy: 0.8736 - loss: 0.0937 - precision_1: 0.9041 - recall_1: 0.9320 - val_accuracy: 0.8606 - val_loss: 0.0957 - val_precision_1: 0.9238 - val_recall_1: 0.8870\n",
            "Epoch 58/100\n",
            "\u001b[1m208/208\u001b[0m \u001b[32m━━━━━━━━━━━━━━━━━━━━\u001b[0m\u001b[37m\u001b[0m \u001b[1m0s\u001b[0m 1ms/step - accuracy: 0.8760 - loss: 0.0923 - precision_1: 0.9132 - recall_1: 0.9264 - val_accuracy: 0.8567 - val_loss: 0.0948 - val_precision_1: 0.8928 - val_recall_1: 0.9191\n",
            "Epoch 59/100\n",
            "\u001b[1m208/208\u001b[0m \u001b[32m━━━━━━━━━━━━━━━━━━━━\u001b[0m\u001b[37m\u001b[0m \u001b[1m0s\u001b[0m 2ms/step - accuracy: 0.8656 - loss: 0.0979 - precision_1: 0.9009 - recall_1: 0.9260 - val_accuracy: 0.8635 - val_loss: 0.0954 - val_precision_1: 0.8986 - val_recall_1: 0.9217\n",
            "Epoch 60/100\n",
            "\u001b[1m208/208\u001b[0m \u001b[32m━━━━━━━━━━━━━━━━━━━━\u001b[0m\u001b[37m\u001b[0m \u001b[1m0s\u001b[0m 1ms/step - accuracy: 0.8669 - loss: 0.0983 - precision_1: 0.8996 - recall_1: 0.9261 - val_accuracy: 0.8644 - val_loss: 0.0946 - val_precision_1: 0.8988 - val_recall_1: 0.9230\n",
            "Epoch 61/100\n",
            "\u001b[1m208/208\u001b[0m \u001b[32m━━━━━━━━━━━━━━━━━━━━\u001b[0m\u001b[37m\u001b[0m \u001b[1m0s\u001b[0m 1ms/step - accuracy: 0.8776 - loss: 0.0901 - precision_1: 0.9124 - recall_1: 0.9284 - val_accuracy: 0.8615 - val_loss: 0.0935 - val_precision_1: 0.9216 - val_recall_1: 0.8909\n",
            "Epoch 62/100\n",
            "\u001b[1m208/208\u001b[0m \u001b[32m━━━━━━━━━━━━━━━━━━━━\u001b[0m\u001b[37m\u001b[0m \u001b[1m0s\u001b[0m 1ms/step - accuracy: 0.8683 - loss: 0.0970 - precision_1: 0.9018 - recall_1: 0.9281 - val_accuracy: 0.8663 - val_loss: 0.0940 - val_precision_1: 0.9178 - val_recall_1: 0.9024\n",
            "Epoch 63/100\n",
            "\u001b[1m208/208\u001b[0m \u001b[32m━━━━━━━━━━━━━━━━━━━━\u001b[0m\u001b[37m\u001b[0m \u001b[1m0s\u001b[0m 1ms/step - accuracy: 0.8669 - loss: 0.0962 - precision_1: 0.8994 - recall_1: 0.9274 - val_accuracy: 0.8625 - val_loss: 0.0972 - val_precision_1: 0.8795 - val_recall_1: 0.9461\n",
            "Epoch 64/100\n",
            "\u001b[1m208/208\u001b[0m \u001b[32m━━━━━━━━━━━━━━━━━━━━\u001b[0m\u001b[37m\u001b[0m \u001b[1m0s\u001b[0m 1ms/step - accuracy: 0.8670 - loss: 0.0942 - precision_1: 0.9034 - recall_1: 0.9221 - val_accuracy: 0.8625 - val_loss: 0.0944 - val_precision_1: 0.9218 - val_recall_1: 0.8922\n",
            "Epoch 65/100\n",
            "\u001b[1m208/208\u001b[0m \u001b[32m━━━━━━━━━━━━━━━━━━━━\u001b[0m\u001b[37m\u001b[0m \u001b[1m0s\u001b[0m 1ms/step - accuracy: 0.8745 - loss: 0.0936 - precision_1: 0.9093 - recall_1: 0.9254 - val_accuracy: 0.8625 - val_loss: 0.0958 - val_precision_1: 0.9263 - val_recall_1: 0.8870\n",
            "Epoch 66/100\n",
            "\u001b[1m208/208\u001b[0m \u001b[32m━━━━━━━━━━━━━━━━━━━━\u001b[0m\u001b[37m\u001b[0m \u001b[1m0s\u001b[0m 1ms/step - accuracy: 0.8660 - loss: 0.0968 - precision_1: 0.9124 - recall_1: 0.9097 - val_accuracy: 0.8529 - val_loss: 0.0977 - val_precision_1: 0.8762 - val_recall_1: 0.9358\n",
            "Epoch 67/100\n",
            "\u001b[1m208/208\u001b[0m \u001b[32m━━━━━━━━━━━━━━━━━━━━\u001b[0m\u001b[37m\u001b[0m \u001b[1m0s\u001b[0m 2ms/step - accuracy: 0.8681 - loss: 0.0979 - precision_1: 0.8999 - recall_1: 0.9249 - val_accuracy: 0.8625 - val_loss: 0.0931 - val_precision_1: 0.9087 - val_recall_1: 0.9076\n",
            "Epoch 68/100\n",
            "\u001b[1m208/208\u001b[0m \u001b[32m━━━━━━━━━━━━━━━━━━━━\u001b[0m\u001b[37m\u001b[0m \u001b[1m0s\u001b[0m 1ms/step - accuracy: 0.8704 - loss: 0.0962 - precision_1: 0.9060 - recall_1: 0.9226 - val_accuracy: 0.8548 - val_loss: 0.0986 - val_precision_1: 0.8829 - val_recall_1: 0.9294\n",
            "Epoch 69/100\n",
            "\u001b[1m208/208\u001b[0m \u001b[32m━━━━━━━━━━━━━━━━━━━━\u001b[0m\u001b[37m\u001b[0m \u001b[1m0s\u001b[0m 1ms/step - accuracy: 0.8624 - loss: 0.0998 - precision_1: 0.8949 - recall_1: 0.9263 - val_accuracy: 0.8673 - val_loss: 0.0942 - val_precision_1: 0.9125 - val_recall_1: 0.9101\n",
            "Epoch 70/100\n",
            "\u001b[1m208/208\u001b[0m \u001b[32m━━━━━━━━━━━━━━━━━━━━\u001b[0m\u001b[37m\u001b[0m \u001b[1m0s\u001b[0m 1ms/step - accuracy: 0.8653 - loss: 0.0981 - precision_1: 0.9050 - recall_1: 0.9176 - val_accuracy: 0.8644 - val_loss: 0.0940 - val_precision_1: 0.8988 - val_recall_1: 0.9230\n",
            "Epoch 71/100\n",
            "\u001b[1m208/208\u001b[0m \u001b[32m━━━━━━━━━━━━━━━━━━━━\u001b[0m\u001b[37m\u001b[0m \u001b[1m0s\u001b[0m 1ms/step - accuracy: 0.8808 - loss: 0.0926 - precision_1: 0.9111 - recall_1: 0.9330 - val_accuracy: 0.8548 - val_loss: 0.0993 - val_precision_1: 0.9373 - val_recall_1: 0.8639\n",
            "Epoch 72/100\n",
            "\u001b[1m208/208\u001b[0m \u001b[32m━━━━━━━━━━━━━━━━━━━━\u001b[0m\u001b[37m\u001b[0m \u001b[1m0s\u001b[0m 1ms/step - accuracy: 0.8703 - loss: 0.0937 - precision_1: 0.9150 - recall_1: 0.9165 - val_accuracy: 0.8452 - val_loss: 0.1061 - val_precision_1: 0.9465 - val_recall_1: 0.8408\n",
            "Epoch 73/100\n",
            "\u001b[1m208/208\u001b[0m \u001b[32m━━━━━━━━━━━━━━━━━━━━\u001b[0m\u001b[37m\u001b[0m \u001b[1m0s\u001b[0m 1ms/step - accuracy: 0.8628 - loss: 0.0975 - precision_1: 0.9066 - recall_1: 0.9144 - val_accuracy: 0.8673 - val_loss: 0.0935 - val_precision_1: 0.9093 - val_recall_1: 0.9140\n",
            "Epoch 74/100\n",
            "\u001b[1m208/208\u001b[0m \u001b[32m━━━━━━━━━━━━━━━━━━━━\u001b[0m\u001b[37m\u001b[0m \u001b[1m0s\u001b[0m 1ms/step - accuracy: 0.8686 - loss: 0.0965 - precision_1: 0.8999 - recall_1: 0.9299 - val_accuracy: 0.8644 - val_loss: 0.0958 - val_precision_1: 0.9220 - val_recall_1: 0.8947\n",
            "Epoch 75/100\n",
            "\u001b[1m208/208\u001b[0m \u001b[32m━━━━━━━━━━━━━━━━━━━━\u001b[0m\u001b[37m\u001b[0m \u001b[1m0s\u001b[0m 1ms/step - accuracy: 0.8737 - loss: 0.0935 - precision_1: 0.9081 - recall_1: 0.9243 - val_accuracy: 0.8644 - val_loss: 0.0951 - val_precision_1: 0.8929 - val_recall_1: 0.9307\n",
            "Epoch 76/100\n",
            "\u001b[1m208/208\u001b[0m \u001b[32m━━━━━━━━━━━━━━━━━━━━\u001b[0m\u001b[37m\u001b[0m \u001b[1m0s\u001b[0m 2ms/step - accuracy: 0.8716 - loss: 0.0963 - precision_1: 0.8992 - recall_1: 0.9332 - val_accuracy: 0.8644 - val_loss: 0.0935 - val_precision_1: 0.9090 - val_recall_1: 0.9101\n",
            "Epoch 77/100\n",
            "\u001b[1m208/208\u001b[0m \u001b[32m━━━━━━━━━━━━━━━━━━━━\u001b[0m\u001b[37m\u001b[0m \u001b[1m0s\u001b[0m 2ms/step - accuracy: 0.8659 - loss: 0.0986 - precision_1: 0.8993 - recall_1: 0.9255 - val_accuracy: 0.8596 - val_loss: 0.0957 - val_precision_1: 0.8874 - val_recall_1: 0.9307\n",
            "Epoch 78/100\n",
            "\u001b[1m208/208\u001b[0m \u001b[32m━━━━━━━━━━━━━━━━━━━━\u001b[0m\u001b[37m\u001b[0m \u001b[1m0s\u001b[0m 1ms/step - accuracy: 0.8688 - loss: 0.0964 - precision_1: 0.9025 - recall_1: 0.9258 - val_accuracy: 0.8654 - val_loss: 0.0953 - val_precision_1: 0.9243 - val_recall_1: 0.8935\n",
            "Epoch 79/100\n",
            "\u001b[1m208/208\u001b[0m \u001b[32m━━━━━━━━━━━━━━━━━━━━\u001b[0m\u001b[37m\u001b[0m \u001b[1m0s\u001b[0m 1ms/step - accuracy: 0.8680 - loss: 0.0962 - precision_1: 0.9043 - recall_1: 0.9247 - val_accuracy: 0.8615 - val_loss: 0.0968 - val_precision_1: 0.8915 - val_recall_1: 0.9281\n",
            "Epoch 80/100\n",
            "\u001b[1m208/208\u001b[0m \u001b[32m━━━━━━━━━━━━━━━━━━━━\u001b[0m\u001b[37m\u001b[0m \u001b[1m0s\u001b[0m 1ms/step - accuracy: 0.8591 - loss: 0.1001 - precision_1: 0.8928 - recall_1: 0.9265 - val_accuracy: 0.8615 - val_loss: 0.0987 - val_precision_1: 0.9320 - val_recall_1: 0.8793\n",
            "Epoch 81/100\n",
            "\u001b[1m208/208\u001b[0m \u001b[32m━━━━━━━━━━━━━━━━━━━━\u001b[0m\u001b[37m\u001b[0m \u001b[1m0s\u001b[0m 1ms/step - accuracy: 0.8765 - loss: 0.0907 - precision_1: 0.9129 - recall_1: 0.9276 - val_accuracy: 0.8558 - val_loss: 0.0958 - val_precision_1: 0.9079 - val_recall_1: 0.8986\n",
            "Epoch 82/100\n",
            "\u001b[1m208/208\u001b[0m \u001b[32m━━━━━━━━━━━━━━━━━━━━\u001b[0m\u001b[37m\u001b[0m \u001b[1m0s\u001b[0m 1ms/step - accuracy: 0.8711 - loss: 0.0941 - precision_1: 0.9044 - recall_1: 0.9271 - val_accuracy: 0.8644 - val_loss: 0.0939 - val_precision_1: 0.9121 - val_recall_1: 0.9063\n",
            "Epoch 83/100\n",
            "\u001b[1m208/208\u001b[0m \u001b[32m━━━━━━━━━━━━━━━━━━━━\u001b[0m\u001b[37m\u001b[0m \u001b[1m0s\u001b[0m 1ms/step - accuracy: 0.8694 - loss: 0.0946 - precision_1: 0.9055 - recall_1: 0.9255 - val_accuracy: 0.8587 - val_loss: 0.0961 - val_precision_1: 0.9202 - val_recall_1: 0.8883\n",
            "Epoch 84/100\n",
            "\u001b[1m208/208\u001b[0m \u001b[32m━━━━━━━━━━━━━━━━━━━━\u001b[0m\u001b[37m\u001b[0m \u001b[1m0s\u001b[0m 2ms/step - accuracy: 0.8654 - loss: 0.0996 - precision_1: 0.9054 - recall_1: 0.9158 - val_accuracy: 0.8625 - val_loss: 0.0954 - val_precision_1: 0.9195 - val_recall_1: 0.8947\n",
            "Epoch 85/100\n",
            "\u001b[1m208/208\u001b[0m \u001b[32m━━━━━━━━━━━━━━━━━━━━\u001b[0m\u001b[37m\u001b[0m \u001b[1m0s\u001b[0m 2ms/step - accuracy: 0.8691 - loss: 0.0989 - precision_1: 0.9078 - recall_1: 0.9184 - val_accuracy: 0.8625 - val_loss: 0.0978 - val_precision_1: 0.9274 - val_recall_1: 0.8858\n",
            "Epoch 86/100\n",
            "\u001b[1m208/208\u001b[0m \u001b[32m━━━━━━━━━━━━━━━━━━━━\u001b[0m\u001b[37m\u001b[0m \u001b[1m0s\u001b[0m 1ms/step - accuracy: 0.8746 - loss: 0.0931 - precision_1: 0.9107 - recall_1: 0.9268 - val_accuracy: 0.8644 - val_loss: 0.0943 - val_precision_1: 0.9111 - val_recall_1: 0.9076\n",
            "Epoch 87/100\n",
            "\u001b[1m208/208\u001b[0m \u001b[32m━━━━━━━━━━━━━━━━━━━━\u001b[0m\u001b[37m\u001b[0m \u001b[1m0s\u001b[0m 2ms/step - accuracy: 0.8813 - loss: 0.0900 - precision_1: 0.9144 - recall_1: 0.9320 - val_accuracy: 0.8596 - val_loss: 0.0948 - val_precision_1: 0.9022 - val_recall_1: 0.9114\n",
            "Epoch 88/100\n",
            "\u001b[1m208/208\u001b[0m \u001b[32m━━━━━━━━━━━━━━━━━━━━\u001b[0m\u001b[37m\u001b[0m \u001b[1m0s\u001b[0m 1ms/step - accuracy: 0.8742 - loss: 0.0923 - precision_1: 0.9108 - recall_1: 0.9255 - val_accuracy: 0.8644 - val_loss: 0.0936 - val_precision_1: 0.9143 - val_recall_1: 0.9037\n",
            "Epoch 89/100\n",
            "\u001b[1m208/208\u001b[0m \u001b[32m━━━━━━━━━━━━━━━━━━━━\u001b[0m\u001b[37m\u001b[0m \u001b[1m0s\u001b[0m 1ms/step - accuracy: 0.8714 - loss: 0.0972 - precision_1: 0.9053 - recall_1: 0.9242 - val_accuracy: 0.8663 - val_loss: 0.0940 - val_precision_1: 0.9113 - val_recall_1: 0.9101\n",
            "Epoch 90/100\n",
            "\u001b[1m208/208\u001b[0m \u001b[32m━━━━━━━━━━━━━━━━━━━━\u001b[0m\u001b[37m\u001b[0m \u001b[1m0s\u001b[0m 1ms/step - accuracy: 0.8765 - loss: 0.0950 - precision_1: 0.9067 - recall_1: 0.9322 - val_accuracy: 0.8654 - val_loss: 0.0941 - val_precision_1: 0.9091 - val_recall_1: 0.9114\n",
            "Epoch 91/100\n",
            "\u001b[1m208/208\u001b[0m \u001b[32m━━━━━━━━━━━━━━━━━━━━\u001b[0m\u001b[37m\u001b[0m \u001b[1m0s\u001b[0m 2ms/step - accuracy: 0.8629 - loss: 0.0984 - precision_1: 0.8950 - recall_1: 0.9248 - val_accuracy: 0.8635 - val_loss: 0.0950 - val_precision_1: 0.9207 - val_recall_1: 0.8947\n",
            "Epoch 92/100\n",
            "\u001b[1m208/208\u001b[0m \u001b[32m━━━━━━━━━━━━━━━━━━━━\u001b[0m\u001b[37m\u001b[0m \u001b[1m0s\u001b[0m 1ms/step - accuracy: 0.8652 - loss: 0.0966 - precision_1: 0.9000 - recall_1: 0.9236 - val_accuracy: 0.8567 - val_loss: 0.0966 - val_precision_1: 0.8860 - val_recall_1: 0.9281\n",
            "Epoch 93/100\n",
            "\u001b[1m208/208\u001b[0m \u001b[32m━━━━━━━━━━━━━━━━━━━━\u001b[0m\u001b[37m\u001b[0m \u001b[1m0s\u001b[0m 1ms/step - accuracy: 0.8661 - loss: 0.0956 - precision_1: 0.9027 - recall_1: 0.9236 - val_accuracy: 0.8567 - val_loss: 0.0976 - val_precision_1: 0.8987 - val_recall_1: 0.9114\n",
            "Epoch 94/100\n",
            "\u001b[1m208/208\u001b[0m \u001b[32m━━━━━━━━━━━━━━━━━━━━\u001b[0m\u001b[37m\u001b[0m \u001b[1m0s\u001b[0m 1ms/step - accuracy: 0.8720 - loss: 0.0948 - precision_1: 0.9084 - recall_1: 0.9238 - val_accuracy: 0.8654 - val_loss: 0.0956 - val_precision_1: 0.8989 - val_recall_1: 0.9243\n",
            "Epoch 95/100\n",
            "\u001b[1m208/208\u001b[0m \u001b[32m━━━━━━━━━━━━━━━━━━━━\u001b[0m\u001b[37m\u001b[0m \u001b[1m0s\u001b[0m 2ms/step - accuracy: 0.8737 - loss: 0.0956 - precision_1: 0.8980 - recall_1: 0.9395 - val_accuracy: 0.8615 - val_loss: 0.0939 - val_precision_1: 0.9107 - val_recall_1: 0.9037\n",
            "Epoch 96/100\n",
            "\u001b[1m208/208\u001b[0m \u001b[32m━━━━━━━━━━━━━━━━━━━━\u001b[0m\u001b[37m\u001b[0m \u001b[1m0s\u001b[0m 2ms/step - accuracy: 0.8669 - loss: 0.0949 - precision_1: 0.9057 - recall_1: 0.9182 - val_accuracy: 0.8606 - val_loss: 0.0987 - val_precision_1: 0.8801 - val_recall_1: 0.9422\n",
            "Epoch 97/100\n",
            "\u001b[1m208/208\u001b[0m \u001b[32m━━━━━━━━━━━━━━━━━━━━\u001b[0m\u001b[37m\u001b[0m \u001b[1m0s\u001b[0m 2ms/step - accuracy: 0.8663 - loss: 0.0961 - precision_1: 0.9018 - recall_1: 0.9229 - val_accuracy: 0.8615 - val_loss: 0.0944 - val_precision_1: 0.9205 - val_recall_1: 0.8922\n",
            "Epoch 98/100\n",
            "\u001b[1m208/208\u001b[0m \u001b[32m━━━━━━━━━━━━━━━━━━━━\u001b[0m\u001b[37m\u001b[0m \u001b[1m0s\u001b[0m 1ms/step - accuracy: 0.8581 - loss: 0.0992 - precision_1: 0.8951 - recall_1: 0.9215 - val_accuracy: 0.8663 - val_loss: 0.0937 - val_precision_1: 0.9061 - val_recall_1: 0.9166\n",
            "Epoch 99/100\n",
            "\u001b[1m208/208\u001b[0m \u001b[32m━━━━━━━━━━━━━━━━━━━━\u001b[0m\u001b[37m\u001b[0m \u001b[1m0s\u001b[0m 1ms/step - accuracy: 0.8740 - loss: 0.0956 - precision_1: 0.9086 - recall_1: 0.9254 - val_accuracy: 0.8654 - val_loss: 0.0951 - val_precision_1: 0.8989 - val_recall_1: 0.9243\n",
            "Epoch 100/100\n",
            "\u001b[1m208/208\u001b[0m \u001b[32m━━━━━━━━━━━━━━━━━━━━\u001b[0m\u001b[37m\u001b[0m \u001b[1m0s\u001b[0m 1ms/step - accuracy: 0.8665 - loss: 0.0941 - precision_1: 0.9035 - recall_1: 0.9242 - val_accuracy: 0.8529 - val_loss: 0.0963 - val_precision_1: 0.9023 - val_recall_1: 0.9012\n"
          ]
        },
        {
          "data": {
            "text/plain": [
              "<keras.src.callbacks.history.History at 0x2606888ed10>"
            ]
          },
          "execution_count": 10,
          "metadata": {},
          "output_type": "execute_result"
        }
      ],
      "source": [
        "# 필요 라이브러리 import\n",
        "import tensorflow as tf\n",
        "from tensorflow.keras.models import Sequential\n",
        "from tensorflow.keras.layers import Dense\n",
        "from tensorflow.keras.metrics import Precision, Recall\n",
        "from tensorflow.keras.callbacks import ModelCheckpoint\n",
        "\n",
        "# ModelCheckpoint 콜백 생성\n",
        "checkpoint = ModelCheckpoint('best_model_wine.keras', save_best_only=True, monitor='val_loss', mode='min')\n",
        "\n",
        "# 모델 생성\n",
        "model = Sequential([\n",
        "    Dense(128, activation='relu', input_shape=(train_data.shape[1], )),\n",
        "    Dense(64, activation='relu'),\n",
        "    Dense(32, activation='relu'),\n",
        "    Dense(1, activation='sigmoid')\n",
        "])\n",
        "\n",
        "# 모델 컴파일\n",
        "model.compile(optimizer='adam', loss='mse', metrics=['accuracy', Precision(), Recall()])\n",
        "\n",
        "# 모델 학습\n",
        "model.fit(train_data, train_target, epochs=100, batch_size=20,\n",
        "          validation_split=0.2,callbacks=[checkpoint])"
      ]
    },
    {
      "cell_type": "code",
      "execution_count": 11,
      "metadata": {
        "colab": {
          "base_uri": "https://localhost:8080/"
        },
        "id": "X6F6G9YAJfYU",
        "outputId": "b197a92e-3060-45e2-f8ba-cfd150cfcf8f"
      },
      "outputs": [
        {
          "name": "stdout",
          "output_type": "stream",
          "text": [
            "\u001b[1m41/41\u001b[0m \u001b[32m━━━━━━━━━━━━━━━━━━━━\u001b[0m\u001b[37m\u001b[0m \u001b[1m0s\u001b[0m 2ms/step\n",
            "              precision    recall  f1-score   support\n",
            "\n",
            "           0       0.75      0.67      0.71       320\n",
            "           1       0.90      0.93      0.91       980\n",
            "\n",
            "    accuracy                           0.86      1300\n",
            "   macro avg       0.82      0.80      0.81      1300\n",
            "weighted avg       0.86      0.86      0.86      1300\n",
            "\n"
          ]
        }
      ],
      "source": [
        "from sklearn.metrics import classification_report\n",
        "\n",
        "# 예측확률을 0, 1값으로 변환\n",
        "predicted = model.predict(test_data)\n",
        "predicted_labels = (predicted > 0.5).astype(int)\n",
        "\n",
        "# classification_report 출력\n",
        "report = classification_report(test_target, predicted_labels)\n",
        "print(report)"
      ]
    },
    {
      "cell_type": "code",
      "execution_count": 12,
      "metadata": {
        "colab": {
          "base_uri": "https://localhost:8080/"
        },
        "id": "MkKRonm3JpOk",
        "outputId": "ad4ee8db-eb06-4a40-a83e-872110e9b41a"
      },
      "outputs": [
        {
          "name": "stdout",
          "output_type": "stream",
          "text": [
            "\u001b[1m41/41\u001b[0m \u001b[32m━━━━━━━━━━━━━━━━━━━━\u001b[0m\u001b[37m\u001b[0m \u001b[1m0s\u001b[0m 1ms/step\n"
          ]
        },
        {
          "data": {
            "image/png": "[encoded data removed]",
            "text/plain": [
              "<Figure size 800x600 with 1 Axes>"
            ]
          },
          "metadata": {},
          "output_type": "display_data"
        }
      ],
      "source": [
        "import matplotlib.pyplot as plt\n",
        "import numpy as np\n",
        "from sklearn.metrics import confusion_matrix\n",
        "import seaborn as sns\n",
        "\n",
        "# 실제 라벨과 예측 라벨\n",
        "actual = test_target\n",
        "predicted = model.predict(test_data)\n",
        "predicted_labels = (predicted > 0.5).astype(int)\n",
        "\n",
        "# 혼동 행렬 계산\n",
        "cm = confusion_matrix(actual, predicted_labels)\n",
        "\n",
        "# 혼동 행렬 시각화\n",
        "plt.figure(figsize=(8, 6))\n",
        "sns.heatmap(cm, annot=True, fmt=\"d\", cmap='Blues', cbar=False)\n",
        "plt.xlabel('Predicted')\n",
        "plt.ylabel('Actual')\n",
        "plt.xticks(np.arange(2) + 0.5, ['True', 'False'])\n",
        "plt.yticks(np.arange(2) + 0.5, ['True', 'False'], rotation=0)\n",
        "plt.title('Confusion Matrix')\n",
        "plt.show()"
      ]
    },
    {
      "cell_type": "markdown",
      "metadata": {},
      "source": [
        "# Callback 사용"
      ]
    },
    {
      "cell_type": "code",
      "execution_count": 13,
      "metadata": {},
      "outputs": [
        {
          "name": "stderr",
          "output_type": "stream",
          "text": [
            "c:\\Users\\qq\\AppData\\Local\\Programs\\Python\\Python310\\lib\\site-packages\\keras\\src\\layers\\core\\dense.py:87: UserWarning: Do not pass an `input_shape`/`input_dim` argument to a layer. When using Sequential models, prefer using an `Input(shape)` object as the first layer in the model instead.\n",
            "  super().__init__(activity_regularizer=activity_regularizer, **kwargs)\n"
          ]
        }
      ],
      "source": [
        "import tensorflow as tf\n",
        "from tensorflow.keras.models import Sequential\n",
        "from tensorflow.keras.layers import Dense\n",
        "from tensorflow.keras.metrics import Precision, Recall\n",
        "from tensorflow.keras.callbacks import ModelCheckpoint\n",
        "\n",
        "# 모델 생성\n",
        "model = Sequential([\n",
        "    Dense(128, activation='relu', input_shape=(train_data.shape[1], )),\n",
        "    Dense(64, activation='relu'),\n",
        "    Dense(32, activation='relu'),\n",
        "    Dense(1, activation='sigmoid')\n",
        "])\n",
        "\n",
        "# 학습된 가중치 불러오기\n",
        "model.load_weights('best_model_wine.keras')\n",
        "\n",
        "# 모델 컴파일\n",
        "model.compile(optimizer='adam', loss='mse', metrics=['accuracy', Precision(), Recall()])"
      ]
    },
    {
      "cell_type": "code",
      "execution_count": 20,
      "metadata": {},
      "outputs": [
        {
          "name": "stdout",
          "output_type": "stream",
          "text": [
            "\u001b[1m41/41\u001b[0m \u001b[32m━━━━━━━━━━━━━━━━━━━━\u001b[0m\u001b[37m\u001b[0m \u001b[1m0s\u001b[0m 1ms/step - accuracy: 0.8526 - loss: 0.1053 - precision_2: 0.8970 - recall_2: 0.9079 \n",
            "loss: 0.10216907411813736 accuracy: 0.8623076677322388 precision: 0.9017050862312317 recall: 0.9173469543457031\n",
            "\u001b[1m1/1\u001b[0m \u001b[32m━━━━━━━━━━━━━━━━━━━━\u001b[0m\u001b[37m\u001b[0m \u001b[1m0s\u001b[0m 19ms/step\n"
          ]
        },
        {
          "data": {
            "text/plain": [
              "array([[0.08571302]], dtype=float32)"
            ]
          },
          "execution_count": 20,
          "metadata": {},
          "output_type": "execute_result"
        }
      ],
      "source": [
        "# 모델 평가\n",
        "results = model.evaluate(test_data, test_target)\n",
        "print(f'loss: {results[0]} accuracy: {results[1]} precision: {results[2]} recall: {results[3]}')\n",
        "\n",
        "# 예측\n",
        "model.predict(tf.constant([[9.4, 1.8, 3.5]]))"
      ]
    },
    {
      "cell_type": "code",
      "execution_count": null,
      "metadata": {},
      "outputs": [],
      "source": []
    }
  ],
  "metadata": {
    "colab": {
      "collapsed_sections": [],
      "name": "연습문제_3_K_Fold와_그리드서치_와인.ipynb",
      "provenance": []
    },
    "kernelspec": {
      "display_name": "Python 3",
      "name": "python3"
    },
    "language_info": {
      "codemirror_mode": {
        "name": "ipython",
        "version": 3
      },
      "file_extension": ".py",
      "mimetype": "text/x-python",
      "name": "python",
      "nbconvert_exporter": "python",
      "pygments_lexer": "ipython3",
      "version": "3.10.9"
    }
  },
  "nbformat": 4,
  "nbformat_minor": 0
}

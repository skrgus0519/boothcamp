{
  "cells": [
    {
      "cell_type": "markdown",
      "metadata": {
        "id": "SzrLpUgCw9-F"
      },
      "source": [
        "## 수컷 펭귄 분석하기\n",
        "\n",
        "데이터를 활용하여 수컷 펭귄 중 부리의 길이가 입력값보다 큰 펭귄들의 부리의 깊이의 평균을 알아보려 합니다.\n",
        "\n",
        "데이터 설명\n",
        "- species\t: 펭귄의 ‘종’\n",
        "- island\t섬 이름\n",
        "- bill_length_mm\t부리의 길이 ( 단위 : mm)\n",
        "- bill_depth_mm\t부리의 깊이 ( 단위 : mm)\n",
        "- flipper_length_mm\t날개의 길이 ( 단위 : mm)\n",
        "- body_mass_g\t체질량 ( 단위 : g)\n",
        "- sex\t성별( MALE, FEMALE)\n",
        "\n",
        "1. 데이터가 없는 행은 제외하고 데이터를 추출합니다.\n",
        "2. 데이터프레임 형태의 펭귄 데이터와 정수인 n(단위 : mm)을 매개변수로 받습니다.\n",
        "3. ‘sex’ 가 ‘MALE’이고, 부리의 길이가 n보다 큰 펭귄의 수를 구해 answer의 원소로 추가합니다.\n",
        "4. 해당 펭귄들의 부리의 깊이 평균을 구하여 answer 리스트의 원소로 추가하여 출력하세요.\n",
        "    - 평균은 pandas에서 제공하는 mean()을 사용합니다.\n",
        "    - 함수 반환값은 리스트형태 입니다."
      ]
    },
    {
      "cell_type": "code",
      "execution_count": 25,
      "metadata": {
        "id": "9PJlacoVxCl9"
      },
      "outputs": [
        {
          "name": "stdout",
          "output_type": "stream",
          "text": [
            "[168, 17.89107142857143]\n"
          ]
        }
      ],
      "source": [
        "# 아래 코드는 문제 해결을 위해 기본적으로 제공되는 코드입니다. 수정하지 마세요!\n",
        "import pandas as pd\n",
        "\n",
        "df = pd.read_csv(\"penguins.csv\")\n",
        "\n",
        "# 지시사항을 참고하여 코드를 작성하세요.\n",
        "def total(df, s):\n",
        "    # df = penguins.csv\n",
        "    # s = 30\n",
        "    answer = []\n",
        "\n",
        "    # 데이터가 없는 행은 제외하는 코드입니다 \n",
        "    df1 = df.dropna()\n",
        "    # 내일 배울 코드입니다.\n",
        "    \n",
        "    # 'sex' 가 'MALE'이고, 'bill_length_mm'가 s보다 큰 펭귄을 구하는 코드를 작성하세요\n",
        "    df1 = df1[(df1['sex']=='MALE') & (df1['bill_length_mm']>s)]\n",
        "    answer.append(len(df1))\n",
        "    answer.append( df1['bill_depth_mm'].mean() )\n",
        "    \n",
        "    return answer\n",
        "\n",
        "\n",
        "# 값을 확인하기 위한 코드입니다. 값을 변경해가며 테스트해 보세요!\n",
        "print(total(df, 30))"
      ]
    },
    {
      "cell_type": "markdown",
      "metadata": {},
      "source": [
        "내가 진행한 코드"
      ]
    },
    {
      "cell_type": "code",
      "execution_count": null,
      "metadata": {},
      "outputs": [],
      "source": [
        "# 아래 코드는 문제 해결을 위해 기본적으로 제공되는 코드입니다. 수정하지 마세요!\n",
        "import pandas as pd\n",
        "\n",
        "df = pd.read_csv(\"penguins.csv\")\n",
        "\n",
        "# 지시사항을 참고하여 코드를 작성하세요.\n",
        "def total(df, s):\n",
        "    # df = penguins.csv\n",
        "    # s = 30\n",
        "    \n",
        "\n",
        "    answer = []\n",
        "\n",
        "    # 데이터가 없는 행은 제외하는 코드입니다 \n",
        "    df1 = df.dropna()\n",
        "    # 내일 배울 코드입니다.\n",
        "    \n",
        "    # 'sex' 가 'MALE'이고, 'bill_length_mm'가 s보다 큰 펭귄을 구하는 코드를 작성하세요\n",
        "    df.read(['sex'] == ['MALE'] and ['bill_length_mm'] > [s])\n",
        "    return answer\n",
        "\n",
        "\n",
        "# 값을 확인하기 위한 코드입니다. 값을 변경해가며 테스트해 보세요!\n",
        "print(total(df, 30))"
      ]
    },
    {
      "cell_type": "code",
      "execution_count": 3,
      "metadata": {},
      "outputs": [
        {
          "name": "stdout",
          "output_type": "stream",
          "text": [
            "<class 'pandas.core.frame.DataFrame'>\n",
            "RangeIndex: 344 entries, 0 to 343\n",
            "Data columns (total 7 columns):\n",
            " #   Column             Non-Null Count  Dtype  \n",
            "---  ------             --------------  -----  \n",
            " 0   species            344 non-null    object \n",
            " 1   island             344 non-null    object \n",
            " 2   bill_length_mm     342 non-null    float64\n",
            " 3   bill_depth_mm      342 non-null    float64\n",
            " 4   flipper_length_mm  342 non-null    float64\n",
            " 5   body_mass_g        342 non-null    float64\n",
            " 6   sex                333 non-null    object \n",
            "dtypes: float64(4), object(3)\n",
            "memory usage: 18.9+ KB\n"
          ]
        }
      ],
      "source": [
        "import pandas as pd\n",
        "\n",
        "df = pd.read_csv(\"penguins.csv\")\n",
        "df.info()"
      ]
    },
    {
      "cell_type": "code",
      "execution_count": 4,
      "metadata": {},
      "outputs": [
        {
          "data": {
            "text/html": [
              "<div>\n",
              "<style scoped>\n",
              "    .dataframe tbody tr th:only-of-type {\n",
              "        vertical-align: middle;\n",
              "    }\n",
              "\n",
              "    .dataframe tbody tr th {\n",
              "        vertical-align: top;\n",
              "    }\n",
              "\n",
              "    .dataframe thead th {\n",
              "        text-align: right;\n",
              "    }\n",
              "</style>\n",
              "<table border=\"1\" class=\"dataframe\">\n",
              "  <thead>\n",
              "    <tr style=\"text-align: right;\">\n",
              "      <th></th>\n",
              "      <th>species</th>\n",
              "      <th>island</th>\n",
              "      <th>bill_length_mm</th>\n",
              "      <th>bill_depth_mm</th>\n",
              "      <th>flipper_length_mm</th>\n",
              "      <th>body_mass_g</th>\n",
              "      <th>sex</th>\n",
              "    </tr>\n",
              "  </thead>\n",
              "  <tbody>\n",
              "    <tr>\n",
              "      <th>0</th>\n",
              "      <td>Adelie</td>\n",
              "      <td>Torgersen</td>\n",
              "      <td>39.1</td>\n",
              "      <td>18.7</td>\n",
              "      <td>181.0</td>\n",
              "      <td>3750.0</td>\n",
              "      <td>MALE</td>\n",
              "    </tr>\n",
              "    <tr>\n",
              "      <th>1</th>\n",
              "      <td>Adelie</td>\n",
              "      <td>Torgersen</td>\n",
              "      <td>39.5</td>\n",
              "      <td>17.4</td>\n",
              "      <td>186.0</td>\n",
              "      <td>3800.0</td>\n",
              "      <td>FEMALE</td>\n",
              "    </tr>\n",
              "    <tr>\n",
              "      <th>2</th>\n",
              "      <td>Adelie</td>\n",
              "      <td>Torgersen</td>\n",
              "      <td>40.3</td>\n",
              "      <td>18.0</td>\n",
              "      <td>195.0</td>\n",
              "      <td>3250.0</td>\n",
              "      <td>FEMALE</td>\n",
              "    </tr>\n",
              "    <tr>\n",
              "      <th>3</th>\n",
              "      <td>Adelie</td>\n",
              "      <td>Torgersen</td>\n",
              "      <td>NaN</td>\n",
              "      <td>NaN</td>\n",
              "      <td>NaN</td>\n",
              "      <td>NaN</td>\n",
              "      <td>NaN</td>\n",
              "    </tr>\n",
              "    <tr>\n",
              "      <th>4</th>\n",
              "      <td>Adelie</td>\n",
              "      <td>Torgersen</td>\n",
              "      <td>36.7</td>\n",
              "      <td>19.3</td>\n",
              "      <td>193.0</td>\n",
              "      <td>3450.0</td>\n",
              "      <td>FEMALE</td>\n",
              "    </tr>\n",
              "  </tbody>\n",
              "</table>\n",
              "</div>"
            ],
            "text/plain": [
              "  species     island  bill_length_mm  bill_depth_mm  flipper_length_mm  \\\n",
              "0  Adelie  Torgersen            39.1           18.7              181.0   \n",
              "1  Adelie  Torgersen            39.5           17.4              186.0   \n",
              "2  Adelie  Torgersen            40.3           18.0              195.0   \n",
              "3  Adelie  Torgersen             NaN            NaN                NaN   \n",
              "4  Adelie  Torgersen            36.7           19.3              193.0   \n",
              "\n",
              "   body_mass_g     sex  \n",
              "0       3750.0    MALE  \n",
              "1       3800.0  FEMALE  \n",
              "2       3250.0  FEMALE  \n",
              "3          NaN     NaN  \n",
              "4       3450.0  FEMALE  "
            ]
          },
          "execution_count": 4,
          "metadata": {},
          "output_type": "execute_result"
        }
      ],
      "source": [
        "df.head()"
      ]
    },
    {
      "cell_type": "code",
      "execution_count": 29,
      "metadata": {},
      "outputs": [
        {
          "name": "stdout",
          "output_type": "stream",
          "text": [
            "0       True\n",
            "1      False\n",
            "2      False\n",
            "3      False\n",
            "4      False\n",
            "       ...  \n",
            "339    False\n",
            "340    False\n",
            "341     True\n",
            "342    False\n",
            "343     True\n",
            "Length: 344, dtype: bool\n",
            "[344, 0.4883720930232558]\n"
          ]
        }
      ],
      "source": [
        "# 지시사항을 참고하여 코드를 작성하세요.\n",
        "def total(df, s):\n",
        "    # df = penguins.csv\n",
        "    # s = 30\n",
        "\n",
        "    answer = []\n",
        "\n",
        "    # 데이터가 없는 행은 제외하는 코드입니다 \n",
        "    df1 = df.dropna()\n",
        "    # 내일 배울 코드입니다.\n",
        "    \n",
        "    # 'sex' 가 'MALE'이고, 'bill_length_mm'가 s보다 큰 펭귄을 구하는 코드를 작성하세요\n",
        "    a = ((df['sex'] == 'MALE') & (df['bill_length_mm'] > s))\n",
        "    \n",
        "    \n",
        "    print(a)\n",
        "\n",
        "    answer.append(len(a))\n",
        "    answer.append(a.mean())\n",
        "\n",
        "    return answer\n",
        "\n",
        "\n",
        "# 값을 확인하기 위한 코드입니다. 값을 변경해가며 테스트해 보세요!\n",
        "print(total(df, 30))"
      ]
    },
    {
      "cell_type": "markdown",
      "metadata": {
        "id": "ne6hunMDj04c"
      },
      "source": [
        "## 허리둘레 변환하기\n",
        "옷을 살 때와 같이 허리둘레를 cm 단위가 아닌 inch 단위로 알고 있어야 하는 일들이 자주 있습니다.\n",
        "\n",
        "데이터를 활용하여 건강보험 가입자의 허리둘레를 inch로 알아보고자 합니다.\n",
        "\n",
        "1. 주어진 info에서 데이터가 누락된 행은 삭제합니다.\n",
        "2. 허리둘레(inch) column을 생성하고 모든 행의 허리둘레(inch)를 저장합니다.\n",
        "    - 칼럼은 아래의 식을 이용해 변환한 값의 소수 첫째 자리를 버림하여 정수로 저장합니다.\n",
        "    - 허리둘레(inch) = 허리둘레 /2.54"
      ]
    },
    {
      "cell_type": "code",
      "execution_count": null,
      "metadata": {
        "colab": {
          "base_uri": "https://localhost:8080/"
        },
        "id": "KxWhd55Yk02b",
        "outputId": "c9988537-22e9-48dc-e73e-fc91e4488187"
      },
      "outputs": [
        {
          "name": "stdout",
          "output_type": "stream",
          "text": [
            "업다운 게임\n",
            "==================================================\n",
            "생각한 숫자를 입력하세요: (1 ~ 99)50\n",
            "Down! (남은 기회: 9)\n",
            "생각한 숫자를 입력하세요: (1 ~ 50)25\n",
            "Down! (남은 기회: 8)\n",
            "생각한 숫자를 입력하세요: (1 ~ 25)15\n",
            "Up! (남은 기회: 7)\n",
            "생각한 숫자를 입력하세요: (15 ~ 25)200\n",
            "Down! (남은 기회: 6)\n",
            "생각한 숫자를 입력하세요: (15 ~ 25)20\n",
            "Up! (남은 기회: 5)\n",
            "생각한 숫자를 입력하세요: (20 ~ 25)22\n",
            "Up! (남은 기회: 4)\n",
            "생각한 숫자를 입력하세요: (22 ~ 25)1\n",
            "Up! (남은 기회: 3)\n",
            "생각한 숫자를 입력하세요: (22 ~ 25)1\n",
            "Up! (남은 기회: 2)\n",
            "생각한 숫자를 입력하세요: (22 ~ 25)1\n",
            "Up! (남은 기회: 1)\n",
            "생각한 숫자를 입력하세요: (22 ~ 25)1\n",
            "Up! (남은 기회: 0)\n"
          ]
        }
      ],
      "source": [
        "import numpy as np\n",
        "import pandas as pd\n",
        "\n",
        "info = pd.read_csv(\"waist.csv\")\n",
        "\n",
        "# 지시사항 1번을 참고하여 코드를 작성하세요.\n",
        "\n",
        "\n",
        "# (수정 금지) 데이터프레임에 '허리둘레(inch)'라는 새로운 열을 추가하고, 이 열의 모든 값들을 'NaN' (Not a Number, 즉 결측값)으로 설정하는 코드입니다\n",
        "\n",
        "# 지시사항을 참고하여 허리둘레를 inch 단위로 변환하는 식을 적용하는 코드를 작성하세요\n",
        "\n",
        "\n",
        "# 위 두 줄을 아래 한줄로 바꿀 수도 있음\n",
        "#info[\"허리둘레(inch)\"] = info[\"허리둘레\"] / 2.54\n",
        "\n",
        "\n"
      ]
    }
  ],
  "metadata": {
    "colab": {
      "provenance": []
    },
    "kernelspec": {
      "display_name": "Python 3",
      "name": "python3"
    },
    "language_info": {
      "codemirror_mode": {
        "name": "ipython",
        "version": 3
      },
      "file_extension": ".py",
      "mimetype": "text/x-python",
      "name": "python",
      "nbconvert_exporter": "python",
      "pygments_lexer": "ipython3",
      "version": "3.12.4"
    }
  },
  "nbformat": 4,
  "nbformat_minor": 0
}

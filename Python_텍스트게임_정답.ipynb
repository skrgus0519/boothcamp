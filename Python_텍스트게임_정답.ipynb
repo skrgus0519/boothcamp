{
  "nbformat": 4,
  "nbformat_minor": 0,
  "metadata": {
    "colab": {
      "provenance": []
    },
    "kernelspec": {
      "name": "python3",
      "display_name": "Python 3"
    },
    "language_info": {
      "name": "python"
    }
  },
  "cells": [
    {
      "cell_type": "markdown",
      "source": [
        "# 가위 바위 보 게임\n",
        "컴퓨터와 가위 바위 보를 하는 게임을 만들어보자.\n",
        "random 모듈을 사용하여\n",
        "1. 컴퓨터는 가위, 바위, 보중 하나를 랜덤으로 choice한다.\n",
        "2. 사용자에게 가위, 바위, 보중 하나를 입력받는다.\n",
        "3. if-elif-else를 적절히 활용하여, 플레이어가 이겼는지, 졌는지, 무승부인지 판단한다.\n",
        "\n",
        " - print('가위 바위 보 게임!')\n",
        " - computer = random.choice(['가위', '바위', '보'])\n",
        " - player = input('가위 바위 보 중 하나를 입력해주세요')"
      ],
      "metadata": {
        "id": "SzrLpUgCw9-F"
      }
    },
    {
      "cell_type": "code",
      "source": [
        "# 가위 바위 보 게임\n",
        "\n",
        "import random as r\n",
        "\n",
        "print('가위 바위 보 게임')\n",
        "print('-'*50)\n",
        "\n",
        "com = r.choice(['가위', '바위', '보'])    # '가위', '바위', '보' 중 하나를 선택해서 com에 저장\n",
        "player = input('가위 바위 보 중 하나를 입력해주세요: ')\n",
        "\n",
        "print('컴퓨터 : %s' % com)\n",
        "print('플레이어 : %s' % player)\n",
        "\n",
        "if player != '가위' or player != '바위' or player != '보':\n",
        "  print('올바른 문자를 입력해주세요.')\n",
        "\n",
        "if player == '가위':\n",
        "  if com == '가위':\n",
        "    print('무승부입니다.')\n",
        "  elif com == '바위':\n",
        "    print('패배하였습니다.')\n",
        "  elif com == '보':\n",
        "    print('승리하셨습니다.')\n",
        "elif player == '바위':\n",
        "  if com == '가위':\n",
        "    print('승리하셨습니다.')\n",
        "  elif com == '바위':\n",
        "    print('무승부입니다.')\n",
        "  elif com == '보':\n",
        "    print('패배하였습니다.')\n",
        "elif player == '보':\n",
        "  if com == '가위':\n",
        "    print('패배하였습니다.')\n",
        "  elif com == '바위':\n",
        "    print('승리하셨습니다.')\n",
        "  elif com == '보':\n",
        "    print('무승부입니다.')"
      ],
      "metadata": {
        "id": "9PJlacoVxCl9"
      },
      "execution_count": null,
      "outputs": []
    },
    {
      "cell_type": "markdown",
      "source": [
        "# 업다운 게임\n",
        " 범위를 지정해준 후, 범위 사이에 있는 랜덤 숫자를 맞춘다.\n",
        "\n",
        " ex) 정답(50), [60, Down], [40, Up]\n",
        "\n",
        "정답은 random을 이용하여 무작위 숫자 입력.\n",
        "number = random.randint(1, 99)\n",
        "\n",
        " 기회를 총 10회 소모하거나, 정답을 입력하면 프로그램 종료.\n",
        "\n",
        " + 숫자를 입력할 때마다, 범위를 업데이트해서 보여주면 좋습니다.\n",
        "\n",
        " + 남은 횟수도 출력해서 보여주면 좋습니다.\n"
      ],
      "metadata": {
        "id": "ne6hunMDj04c"
      }
    },
    {
      "cell_type": "code",
      "source": [
        "import random\n",
        "\n",
        "print('업다운 게임')\n",
        "print('='*50)\n",
        "\n",
        "number = random.randint(1, 99)        # number 변수에 1~99사이의 난수를 생성.\n",
        "max = 99\n",
        "min = 1\n",
        "\n",
        "for i in range(10):\n",
        "  guess = int(input('생각한 숫자를 입력하세요: (%d ~ %d)' % (min, max)))\n",
        "  if number == guess:\n",
        "    print('정답!!')\n",
        "    break\n",
        "  elif number > guess:\n",
        "    print('Up! (남은 기회: %d)' % (9-i))\n",
        "    if min < guess: min = guess\n",
        "  else:\n",
        "    print('Down! (남은 기회: %d)' % (9-i))\n",
        "    if max > guess: max = guess"
      ],
      "metadata": {
        "colab": {
          "base_uri": "https://localhost:8080/"
        },
        "id": "KxWhd55Yk02b",
        "outputId": "c9988537-22e9-48dc-e73e-fc91e4488187"
      },
      "execution_count": null,
      "outputs": [
        {
          "output_type": "stream",
          "name": "stdout",
          "text": [
            "업다운 게임\n",
            "==================================================\n",
            "생각한 숫자를 입력하세요: (1 ~ 99)50\n",
            "Down! (남은 기회: 9)\n",
            "생각한 숫자를 입력하세요: (1 ~ 50)25\n",
            "Down! (남은 기회: 8)\n",
            "생각한 숫자를 입력하세요: (1 ~ 25)15\n",
            "Up! (남은 기회: 7)\n",
            "생각한 숫자를 입력하세요: (15 ~ 25)200\n",
            "Down! (남은 기회: 6)\n",
            "생각한 숫자를 입력하세요: (15 ~ 25)20\n",
            "Up! (남은 기회: 5)\n",
            "생각한 숫자를 입력하세요: (20 ~ 25)22\n",
            "Up! (남은 기회: 4)\n",
            "생각한 숫자를 입력하세요: (22 ~ 25)1\n",
            "Up! (남은 기회: 3)\n",
            "생각한 숫자를 입력하세요: (22 ~ 25)1\n",
            "Up! (남은 기회: 2)\n",
            "생각한 숫자를 입력하세요: (22 ~ 25)1\n",
            "Up! (남은 기회: 1)\n",
            "생각한 숫자를 입력하세요: (22 ~ 25)1\n",
            "Up! (남은 기회: 0)\n"
          ]
        }
      ]
    },
    {
      "cell_type": "markdown",
      "source": [
        "# 숫자 야구 게임\n",
        "컴퓨터가 0~9사이의 서로 다른 숫자 3개를 랜덤으로 선택하고, 사용자는 그 숫자를 순서대로 맞추는 게임.\n",
        "\n",
        "com :    [1, 2, 3]\n",
        "player : [1, 3, 9]\n",
        "\n",
        "1 : 스트라이크 1개\n",
        "3 : 볼 1개\n",
        "9 : 아웃 1개\n",
        "\n",
        "3 스트라이크가 나오면 게임 종료!"
      ],
      "metadata": {
        "id": "ktriFSCYyil8"
      }
    },
    {
      "cell_type": "code",
      "source": [
        "import random\n",
        "\n",
        "print('숫자 야구 게임')\n",
        "print('='*50)\n",
        "\n",
        "numbers = []\n",
        "\n",
        "for i in range(3):\n",
        "  while True:\n",
        "    number = random.randint(0, 9)     # number에 0~9 난수 생성\n",
        "    if number not in numbers:         # numbers 리스트에 number가 없을 경우(중복이 안될경우)\n",
        "      numbers.append(number)          # numbers 리스트에 number 추가\n",
        "      break                           # while문(무한루프) 탈출\n",
        "\n",
        "print(numbers)\n",
        "\n",
        "for i in range(10):\n",
        "  guesses = input(\"중복되지 않는 세 수를 입력해주세요: \")\n",
        "  guesses = list(guesses)   # 문자열의 문자 하나하나가 리스트에 저장이 됨.\n",
        "\n",
        "  strike = 0\n",
        "  ball = 0\n",
        "  out = 0\n",
        "\n",
        "  for i in range(3):\n",
        "    if int(guesses[i]) == numbers[i]:\n",
        "      strike += 1\n",
        "    elif int(guesses[i]) in numbers:\n",
        "      ball += 1\n",
        "    else:\n",
        "      out += 1\n",
        "\n",
        "  print('스트라이크 : %d\\n볼 : %d\\n아웃 : %d' % (strike, ball, out))\n",
        "\n",
        "\n",
        "  if strike == 3:   # 3 스트라이크 시 게임 종료\n",
        "    break"
      ],
      "metadata": {
        "colab": {
          "base_uri": "https://localhost:8080/"
        },
        "id": "566jGUm2zFpX",
        "outputId": "77241f8b-8a14-47c5-8e6a-d1b011baeda9"
      },
      "execution_count": null,
      "outputs": [
        {
          "output_type": "stream",
          "name": "stdout",
          "text": [
            "숫자 야구 게임\n",
            "==================================================\n",
            "[2, 4, 1]\n",
            "중복되지 않는 세 수를 입력해주세요: 201\n",
            "스트라이크 : 2\n",
            "볼 : 0\n",
            "아웃 : 1\n",
            "중복되지 않는 세 수를 입력해주세요: 412\n",
            "스트라이크 : 0\n",
            "볼 : 3\n",
            "아웃 : 0\n",
            "중복되지 않는 세 수를 입력해주세요: 241\n",
            "스트라이크 : 3\n",
            "볼 : 0\n",
            "아웃 : 0\n"
          ]
        }
      ]
    },
    {
      "cell_type": "markdown",
      "source": [
        "# 베스킨라빈스 31 게임(2인용)\n",
        "\n",
        "플레이어 2명이서 번갈아가며 최대 3개의 숫자를 부릅니다.\n",
        "\n",
        "숫자는 1부터 31까지 차례대로 진행해야하며, 31을 부르는 사람이 지는 게임입니다.\n",
        "\n",
        "입력 : 1~3"
      ],
      "metadata": {
        "id": "zmgX80zQagK_"
      }
    },
    {
      "cell_type": "code",
      "source": [
        "print('베스킨라빈스 31게임')\n",
        "\n",
        "number = 0      # 숫자를 세는 변수\n",
        "turn = 0        # 플레이어를 구분하기 위한 변수\n",
        "\n",
        "while True:\n",
        "  # player 1 차례\n",
        "  if turn == 0:\n",
        "    p1 = int(input(\"숫자의 개수를 입력하세요(1~3):  \"))\n",
        "\n",
        "    for i in range(p1):\n",
        "      number += 1\n",
        "      print('p1: %d' % number)\n",
        "\n",
        "    turn += 1       # turn = turn + 1\n",
        "    turn %= 2       # turn을 2로 나눈 나머지를 turn에 저장.\n",
        "\n",
        "  #player 2 차례\n",
        "  elif turn == 1:\n",
        "    p2 = int(input(\"숫자의 개수를 입력하세요(1~3):  \"))\n",
        "\n",
        "    for i in range(p1):\n",
        "      number += 1\n",
        "      print('p2: %d' % number)\n",
        "\n",
        "    turn += 1       # turn = turn + 1\n",
        "    turn %= 2       # turn을 2로 나눈 나머지를 turn에 저장.\n",
        "\n",
        "    if number >= 31:\n",
        "      break\n",
        "\n",
        "if turn == 0:\n",
        "  print('player 1 승리')\n",
        "else:\n",
        "  print('player 2 승리')"
      ],
      "metadata": {
        "colab": {
          "base_uri": "https://localhost:8080/"
        },
        "id": "h3B0aonJas8Q",
        "outputId": "40111591-286e-4414-fc7d-db33637ca907"
      },
      "execution_count": null,
      "outputs": [
        {
          "output_type": "stream",
          "name": "stdout",
          "text": [
            "베스킨라빈스 31게임\n",
            "숫자의 개수를 입력하세요(1~3):  3\n",
            "p1: 1\n",
            "p1: 2\n",
            "p1: 3\n",
            "숫자의 개수를 입력하세요(1~3):  3\n",
            "p2: 4\n",
            "p2: 5\n",
            "p2: 6\n",
            "숫자의 개수를 입력하세요(1~3):  3\n",
            "p1: 7\n",
            "p1: 8\n",
            "p1: 9\n",
            "숫자의 개수를 입력하세요(1~3):  3\n",
            "p2: 10\n",
            "p2: 11\n",
            "p2: 12\n",
            "player 1 승리\n"
          ]
        }
      ]
    },
    {
      "cell_type": "markdown",
      "source": [
        "# 베스킨라빈스 31 게임(1인용)\n",
        "\n",
        "플레이어의 턴에는 기존과 동일하게 플레이어 1~3의 값을 입력하여 베스킨라빈스 31게임을 진행한다.\n",
        "\n",
        "플레이어2의 턴에는 플레이어 대신 컴퓨터가 랜덤으로 1~3의 난수를 생성해 그 수만큼 베스킨라빈스31 게임을 진행한다.\n",
        "\n",
        "현재는 플레이어가 3이상의 수를 입력해도 게임이 진행이 됩니다. 이 부분에 대한 예외처리도 함께 진행해주세요."
      ],
      "metadata": {
        "id": "rUT-Dm4i1z_B"
      }
    },
    {
      "cell_type": "code",
      "source": [
        "import random\n",
        "\n",
        "print('1인용 베스킨라빈스 31게임')\n",
        "\n",
        "number = 0\n",
        "turn = 0\n",
        "\n",
        "while True:\n",
        "  if turn%2 == 0:\n",
        "    p1 = int(input(\"숫자의 개수를 입력하세요(1~3):  \"))\n",
        "\n",
        "    # 플레이어가 올바를 숫자를 입력하지 않았을 때 예외처리\n",
        "    if(p1 > 3 or p1 <1):\n",
        "      print('Error. 1에서 3사이의 숫자를 입력해주세요.')\n",
        "      continue\n",
        "\n",
        "    for i in range(p1):\n",
        "      number += 1\n",
        "      print(\"player : %s\" % number)\n",
        "\n",
        "    turn += 1\n",
        "  elif turn%2 == 1:\n",
        "    com = random.randint(1,3)   # 1~3의 난수를 생성하여 com 변수에 저장.\n",
        "\n",
        "    for i in range(com):\n",
        "      number += 1\n",
        "      print(\"computer : %s\" % number)\n",
        "\n",
        "    turn += 1\n",
        "\n",
        "  if number >= 31:\n",
        "    break\n",
        "\n",
        "if turn%2 == 0:\n",
        "  print('플레이어 승리!')\n",
        "else:\n",
        "  print('플레이어 패배!')"
      ],
      "metadata": {
        "colab": {
          "base_uri": "https://localhost:8080/"
        },
        "id": "1Akmy91D8kZ5",
        "outputId": "a8bee6aa-6a8f-49fe-8525-57ecc1f59c36"
      },
      "execution_count": null,
      "outputs": [
        {
          "output_type": "stream",
          "name": "stdout",
          "text": [
            "1인용 베스킨라빈스 31게임\n",
            "숫자의 개수를 입력하세요(1~3):  3\n",
            "player : 1\n",
            "player : 2\n",
            "player : 3\n",
            "computer : 4\n",
            "computer : 5\n",
            "숫자의 개수를 입력하세요(1~3):  5\n",
            "Error. 1에서 3사의 숫자를 입력해주세요.\n",
            "숫자의 개수를 입력하세요(1~3):  0\n",
            "Error. 1에서 3사의 숫자를 입력해주세요.\n",
            "숫자의 개수를 입력하세요(1~3):  1\n",
            "player : 6\n",
            "computer : 7\n",
            "computer : 8\n",
            "숫자의 개수를 입력하세요(1~3):  1\n",
            "player : 9\n",
            "computer : 10\n",
            "숫자의 개수를 입력하세요(1~3):  3\n",
            "player : 11\n",
            "player : 12\n",
            "player : 13\n",
            "computer : 14\n",
            "숫자의 개수를 입력하세요(1~3):  3\n",
            "player : 15\n",
            "player : 16\n",
            "player : 17\n",
            "computer : 18\n",
            "computer : 19\n",
            "숫자의 개수를 입력하세요(1~3):  2\n",
            "player : 20\n",
            "player : 21\n",
            "computer : 22\n",
            "computer : 23\n",
            "computer : 24\n",
            "숫자의 개수를 입력하세요(1~3):  3\n",
            "player : 25\n",
            "player : 26\n",
            "player : 27\n",
            "computer : 28\n",
            "숫자의 개수를 입력하세요(1~3):  3\n",
            "player : 29\n",
            "player : 30\n",
            "player : 31\n",
            "플레이어 패배!\n"
          ]
        }
      ]
    }
  ]
}
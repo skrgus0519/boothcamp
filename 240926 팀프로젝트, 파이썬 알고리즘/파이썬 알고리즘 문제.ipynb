{
 "cells": [
  {
   "cell_type": "markdown",
   "metadata": {},
   "source": [
    "## 1. 소수 판별\n",
    " - 정수가 입력되었을 때, 입력된 정수가 소수인지 아닌지를 판단하는 함수를 작성하시오.\n",
    " - 입력: 정수 n\n",
    " - 출력: n이 소수이면 True, 아니면 False"
   ]
  },
  {
   "cell_type": "code",
   "execution_count": 116,
   "metadata": {},
   "outputs": [
    {
     "name": "stdout",
     "output_type": "stream",
     "text": [
      "True\n"
     ]
    }
   ],
   "source": [
    "# 정수 입력받기\n",
    "n = int(input('정수 n을 입력하세요.'))\n",
    "m = 0\n",
    "\n",
    "# 입력받은 정수에 따라, True or False 출력\n",
    "for i in range(2,n):\n",
    "    if n % i == 0:\n",
    "        m = 1\n",
    "\n",
    "if m == 1 or n == 1 or n == 0:\n",
    "    print(False)\n",
    "else:\n",
    "    print(True)"
   ]
  },
  {
   "cell_type": "markdown",
   "metadata": {},
   "source": [
    "## 2. 두 리스트의 교집합을 구하시오.\n",
    "\n",
    " - 출력: 두 리스트의 교집합으로 이루어진 리스트"
   ]
  },
  {
   "cell_type": "code",
   "execution_count": 112,
   "metadata": {},
   "outputs": [
    {
     "name": "stdout",
     "output_type": "stream",
     "text": [
      "[1, 3, 9, 7]\n"
     ]
    }
   ],
   "source": [
    "list_1 = [1, 2, 3, 4, 5, 6, 7, 8, 9]\n",
    "list_2 = [0, 1, 3, 7, 9, 10, 11, 12, 13]\n",
    "\n",
    "cross_list = list(set(list_1) & set(list_2))\n",
    "\n",
    "# 두 리스트의 교집합 출력\n",
    "print(cross_list)"
   ]
  },
  {
   "cell_type": "markdown",
   "metadata": {},
   "source": [
    "## 3. 리스트를 정렬하는 코드를 작성하세요.\n",
    "\n",
    "    - Sort함수 사용 금지"
   ]
  },
  {
   "cell_type": "code",
   "execution_count": null,
   "metadata": {},
   "outputs": [],
   "source": [
    "my_list = [3, 5, 1, 2, 6, 9, 8, 7, 4]\n",
    "# Sort()함수 사용하지 않고, 직접 리스트 정렬\n",
    "\n",
    "# 버블정렬\n",
    "[3, 5, 1, 2, 6, 9, 8, 7, 4]\n",
    "[3, 1, 2, 5, 6, 8, 7, 4, 9] 제일 큰 값이 맨 오른쪽에 와 있음.\n",
    "[1, 2, 3, 5, 6, 7, 4, 8, 9] ...\n",
    "\n",
    "리스트 크기를 n\n",
    "0 번부터 n-1번\n",
    "반복문 -> 0번 인덱스부터 8번인덱스까지 비교, 스왑\n",
    "반복문 -> 0번 인덱스부터 7번인덱스까지..\n",
    "...                    6번\n",
    "..                     5번\n",
    ".......................2번\n",
    "\n",
    "for i in range(0, 4):\n",
    "    for j in range(0, 4):\n",
    "        i=0인 상태로, j=0~3 얘가 한바퀴 돕니다.\n",
    "        i=1인 상태로, j=0~3 다시 돕니다.\n",
    "        i=2인 상태로, j=0~3 다시 돕니다.\n",
    "        i=3인 상태로 j=0~3 완료.\n",
    "# [1, 2, 3, 4, 5, 6, 7, 8, 9]\n",
    "print(my_list)"
   ]
  },
  {
   "cell_type": "code",
   "execution_count": 136,
   "metadata": {},
   "outputs": [
    {
     "name": "stdout",
     "output_type": "stream",
     "text": [
      "[1, 2, 3, 4, 5, 6, 7, 8, 9]\n"
     ]
    }
   ],
   "source": [
    "my_list = [3, 5, 1, 2, 6, 9, 8, 7, 4]\n",
    "\n",
    "# [1, 2, 3, 4, 5, 6, 7, 8, 9]\n",
    "\n",
    "def bubbleSort(my_list):\n",
    "    n = len(my_list)  # 배열의 크기를 측정\n",
    "\n",
    "    # 배열의 크기만큼 반복\n",
    "    for i in range(n):\n",
    "        # 배열의 총 크기에서 i의 값과 1을 뺀 만큼 반복\n",
    "        for j in range(0, n - i - 1):\n",
    "            # 만약 현재 인덱스의 값이 다음 인덱스의 값보다 클 경우 실행\n",
    "            if my_list[j] > my_list[j + 1]:\n",
    "                my_list[j], my_list[j + 1] = my_list[j + 1], my_list[j] # 서로 위치를 변환\n",
    "\n",
    "bubbleSort(my_list)\n",
    "\n",
    "print(my_list)"
   ]
  },
  {
   "cell_type": "code",
   "execution_count": 132,
   "metadata": {},
   "outputs": [
    {
     "name": "stdout",
     "output_type": "stream",
     "text": [
      "[1, 2, 3, 4, 5, 6, 7, 8, 9]\n"
     ]
    }
   ],
   "source": [
    "my_list = [3, 5, 1, 2, 6, 9, 8, 7, 4]\n",
    "# Sort()함수 사용하지 않고, 직접 리스트 정렬\n",
    "for i in range(len(my_list)):\n",
    "    j = len(my_list) - i\n",
    "    for k in range(1,j):\n",
    "        if my_list[k-1] >= my_list[k]:\n",
    "            temp = my_list[k-1]\n",
    "            my_list[k-1] = my_list[k]\n",
    "            my_list[k] = temp\n",
    "\n",
    "# [1, 2, 3, 4, 5, 6, 7, 8, 9]\n",
    "print(my_list)"
   ]
  },
  {
   "cell_type": "markdown",
   "metadata": {},
   "source": [
    "## 심화) 계단을 오를 때, 한번에 최대 2개의 계단을 올라갈 수 있다. n층의 계단을 오르는 방법의 수를 구하시오.\n",
    "\n",
    " - 입력: 정수 n (1 ≤ n ≤ 30)\n",
    "\n",
    " - 출력: n층까지 도달하는 방법의 총 수\n",
    "\n",
    " - 예시:\n",
    "    - n = 1: 한 가지 방법 (1)\n",
    "    - n = 2: 두 가지 방법 (1+1, 2)\n",
    "    - n = 3: 세 가지 방법 (1+1+1, 1+2, 2+1)\n",
    "    - n = 4: 다섯 가지 방법(1+1+1+1, 1+2+1, 2+1+1, 1+1+2, 2+2)"
   ]
  },
  {
   "cell_type": "code",
   "execution_count": null,
   "metadata": {},
   "outputs": [],
   "source": [
    "n = n\n",
    "1\n",
    "n = n\n",
    "1\n",
    "n = n\n",
    "1\n",
    "n = n+1\n",
    "2\n",
    "n = n+3\n",
    "4\n",
    "n = n+7\n",
    "7\n",
    "n = n+14\n",
    "12\n",
    "n = n+26"
   ]
  },
  {
   "cell_type": "code",
   "execution_count": null,
   "metadata": {},
   "outputs": [],
   "source": [
    "# 1 -> 1\n",
    "# 2 -> 2 (1,1)(2)\n",
    "# 3 -> 3 (1,1,1,)(2,1)\n",
    "# 4 -> 5 (1,1,1,1)(2,1,1)(2,2)\n",
    "# 5 -> 8 (1,1,1,1,1)(2,1,1,1)(2,2,1)\n",
    "# 6 -> 13 (1,1,1,1,1,1)(2,1,1,1,1)(2,2,1,1)(2,2,2)\n",
    "# 7 -> 21 (1,1,1,1,1,1,1)(2,1,1,1,1,1)(2,2,1,1,1)(2,2,2,1)\n",
    "# 8 -> 34\n",
    "# 30 -> 1346269"
   ]
  },
  {
   "cell_type": "markdown",
   "metadata": {},
   "source": [
    "# 우리말샘 API 끝말잇기\n",
    "\n",
    "- 게임 방법\n",
    "1. 가장 처음 단어를 제시하면 끝말잇기가 시작됩니다.\n",
    "2. '/그만'을 입력하면 게임이 종료되며,'/다시'를 입력하여 게임을 다시 시작할 수 있습니다.\n",
    "\n",
    "\n",
    "- 게임 규칙\n",
    "1. 사전에 등재된 명사여야 합니다.\n",
    "2. 적어도 단어의 길이가 두 글자 이상이어야 합니다.\n",
    "3. 이미 사용한 단어를 다시 사용할 수 없습니다.\n",
    "4. 한방 단어로 끝나는 글자는 사용할 수 없습니다.(ex.해질녘)."
   ]
  },
  {
   "cell_type": "code",
   "execution_count": null,
   "metadata": {},
   "outputs": [],
   "source": []
  }
 ],
 "metadata": {
  "kernelspec": {
   "display_name": "Python 3",
   "language": "python",
   "name": "python3"
  },
  "language_info": {
   "codemirror_mode": {
    "name": "ipython",
    "version": 3
   },
   "file_extension": ".py",
   "mimetype": "text/x-python",
   "name": "python",
   "nbconvert_exporter": "python",
   "pygments_lexer": "ipython3",
   "version": "3.10.9"
  }
 },
 "nbformat": 4,
 "nbformat_minor": 2
}

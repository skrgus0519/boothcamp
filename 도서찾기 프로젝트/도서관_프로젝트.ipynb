{
 "cells": [
  {
   "cell_type": "code",
   "execution_count": 1,
   "metadata": {},
   "outputs": [
    {
     "name": "stdout",
     "output_type": "stream",
     "text": [
      "Requirement already satisfied: geopy in c:\\users\\qq\\appdata\\local\\programs\\python\\python310\\lib\\site-packages (2.4.1)\n",
      "Requirement already satisfied: geographiclib<3,>=1.52 in c:\\users\\qq\\appdata\\local\\programs\\python\\python310\\lib\\site-packages (from geopy) (2.0)\n",
      "Note: you may need to restart the kernel to use updated packages.\n"
     ]
    },
    {
     "name": "stderr",
     "output_type": "stream",
     "text": [
      "\n",
      "[notice] A new release of pip is available: 24.1.2 -> 24.2\n",
      "[notice] To update, run: python.exe -m pip install --upgrade pip\n"
     ]
    }
   ],
   "source": [
    "pip install geopy"
   ]
  },
  {
   "cell_type": "markdown",
   "metadata": {},
   "source": [
    "1. 자신의 주변에 위치한 도서관 파악하기\n",
    "\n",
    "1-1 사용자의 위치 정보 파악하기\n",
    "\n",
    "- 사용자의 위치는 GPS나 IP 주소를 기반으로 파악할 수 있습니다.\n",
    "- Python에서는 geopy 라이브러리를 이용해 위치 정보를 다룰 수 있습니다.\n",
    "- 예를 들어, 사용자의 IP를 이용해 대략적인 위치를 파악할 수 있습니다."
   ]
  },
  {
   "cell_type": "code",
   "execution_count": 1,
   "metadata": {},
   "outputs": [
    {
     "name": "stdout",
     "output_type": "stream",
     "text": [
      "User's location: 35.5401446, 129.2598442\n"
     ]
    }
   ],
   "source": [
    "from geopy.geocoders import Nominatim\n",
    "from geopy.exc import GeocoderTimedOut, GeocoderUnavailable\n",
    "import time\n",
    "\n",
    "def get_user_location(address, retries=3, timeout=10):\n",
    "    geolocator = Nominatim(user_agent=\"library_finder\")\n",
    "    for i in range(retries):\n",
    "        try:\n",
    "            user_location = geolocator.geocode(address, timeout=timeout)\n",
    "            if user_location:\n",
    "                return (user_location.latitude, user_location.longitude)\n",
    "            else:\n",
    "                print(f\"Unable to geocode address: {address}\")\n",
    "                return None\n",
    "        except (GeocoderTimedOut, GeocoderUnavailable) as e:\n",
    "            print(f\"Geocoding attempt {i+1} failed: {e}\")\n",
    "            time.sleep(2)  # Wait before retrying\n",
    "    print(\"Max retries exceeded. Geocoding failed.\")\n",
    "    return None\n",
    "\n",
    "address = input('주소나 위치 정보를 입력하세요.')  # 사용자의 주소나 위치 정보\n",
    "user_location = get_user_location(address)\n",
    "if user_location:\n",
    "    latitude, longitude = user_location\n",
    "    print(f\"User's location: {latitude}, {longitude}\")\n",
    "else:\n",
    "    print(\"Failed to get the user's location.\")"
   ]
  },
  {
   "cell_type": "markdown",
   "metadata": {},
   "source": [
    "1.2 도서관 위치 정보 가져오기\n",
    "\n",
    "- 지역별 도서관의 위치 데이터를 저장하거나, 공공 API를 이용해 도서관 위치를 받아옵니다. 한국의 경우, 공공데이터 포털에서 도서관 위치와 관련된 데이터를 제공할 수 있습니다.\n",
    "- geopy.distance 모듈을 사용하여 두 지점 사이의 직선 거리를 계산할 수 있습니다."
   ]
  },
  {
   "cell_type": "code",
   "execution_count": 2,
   "metadata": {},
   "outputs": [
    {
     "name": "stdout",
     "output_type": "stream",
     "text": [
      "가장 가까운 도서관은 울산 남구 옥현어린이도서관이며, 거리는 0.46 km 입니다.\n"
     ]
    }
   ],
   "source": [
    "import pandas as pd\n",
    "from geopy.distance import geodesic\n",
    "import math\n",
    "\n",
    "# CSV 파일에서 도서관 위치 데이터 읽어오기\n",
    "def load_libraries(csv_file):\n",
    "    df = pd.read_csv(csv_file, encoding='UTF8')\n",
    "    libraries = []\n",
    "    \n",
    "    for index, row in df.iterrows():\n",
    "        # NaN 값이 포함된 좌표는 무시\n",
    "        if pd.isna(row['LBRRY_LA']) or pd.isna(row['LBRRY_LO']):\n",
    "            continue\n",
    "        \n",
    "        # 위도와 경도 값이 유효한지 확인\n",
    "        try:\n",
    "            lat = float(row['LBRRY_LA'])\n",
    "            lon = float(row['LBRRY_LO'])\n",
    "            if not math.isfinite(lat) or not math.isfinite(lon):\n",
    "                continue\n",
    "        except ValueError:\n",
    "            continue\n",
    "\n",
    "        #libraries = row['LBRRY_NM'], lat, lon\n",
    "\n",
    "        libraries.append({\n",
    "            'name': row['LBRRY_NM'],\n",
    "            'coords': (lat, lon)\n",
    "        })\n",
    "\n",
    "    return libraries\n",
    "\n",
    "# 사용자의 위치와 도서관 간의 거리를 계산\n",
    "def find_nearest_library(user_coords, libraries):\n",
    "    nearest_library = None\n",
    "    shortest_distance = float('inf')\n",
    "    \n",
    "    for library in libraries:\n",
    "        distance = geodesic(user_coords, library['coords']).km\n",
    "        if distance < shortest_distance:\n",
    "            shortest_distance = distance\n",
    "            nearest_library = library\n",
    "    \n",
    "    return nearest_library, shortest_distance\n",
    "\n",
    "# 예제 사용\n",
    "csv_file = 'C:/개인 프로젝트/boothcamp/도서찾기 프로젝트/도서관 정보_202407.csv'  # CSV 파일 경로\n",
    "user_coords = (latitude, longitude)  # 사용자의 위도와 경도\n",
    "\n",
    "libraries = load_libraries(csv_file)\n",
    "nearest_library, distance = find_nearest_library(user_coords, libraries)\n",
    "\n",
    "if nearest_library:\n",
    "    print(f\"가장 가까운 도서관은 {nearest_library['name']}이며, 거리는 {distance:.2f} km 입니다.\")\n",
    "else:\n",
    "    print(\"주변에 도서관이 없습니다.\")\n"
   ]
  },
  {
   "cell_type": "markdown",
   "metadata": {},
   "source": [
    "1.3 도서관까지의 보행 거리 계산\n",
    "\n",
    "- 보행 거리나 실제 경로 거리를 계산하려면 Google Maps API나 OpenStreetMap의 osmnx 같은 라이브러리를 사용할 수 있습니다.\n",
    "- osmnx는 도로 네트워크를 기반으로 경로를 계산하는데 유용합니다."
   ]
  },
  {
   "cell_type": "code",
   "execution_count": 5,
   "metadata": {},
   "outputs": [
    {
     "name": "stdout",
     "output_type": "stream",
     "text": [
      "Requirement already satisfied: scikit-learn in c:\\users\\qq\\appdata\\local\\programs\\python\\python310\\lib\\site-packages (1.5.1)\n",
      "Requirement already satisfied: numpy>=1.19.5 in c:\\users\\qq\\appdata\\local\\programs\\python\\python310\\lib\\site-packages (from scikit-learn) (1.26.4)\n",
      "Requirement already satisfied: scipy>=1.6.0 in c:\\users\\qq\\appdata\\local\\programs\\python\\python310\\lib\\site-packages (from scikit-learn) (1.14.1)\n",
      "Requirement already satisfied: joblib>=1.2.0 in c:\\users\\qq\\appdata\\local\\programs\\python\\python310\\lib\\site-packages (from scikit-learn) (1.4.2)\n",
      "Requirement already satisfied: threadpoolctl>=3.1.0 in c:\\users\\qq\\appdata\\local\\programs\\python\\python310\\lib\\site-packages (from scikit-learn) (3.5.0)\n",
      "Note: you may need to restart the kernel to use updated packages.\n"
     ]
    },
    {
     "name": "stderr",
     "output_type": "stream",
     "text": [
      "\n",
      "[notice] A new release of pip is available: 24.1.2 -> 24.2\n",
      "[notice] To update, run: python.exe -m pip install --upgrade pip\n"
     ]
    }
   ],
   "source": [
    "pip install scikit-learn"
   ]
  },
  {
   "cell_type": "code",
   "execution_count": 8,
   "metadata": {},
   "outputs": [
    {
     "name": "stderr",
     "output_type": "stream",
     "text": [
      "c:\\Users\\qq\\AppData\\Local\\Programs\\Python\\Python310\\lib\\site-packages\\osmnx\\graph.py:191: FutureWarning: The expected order of coordinates in `bbox` will change in the v2.0.0 release to `(left, bottom, right, top)`.\n",
      "  G = graph_from_bbox(\n"
     ]
    },
    {
     "ename": "AttributeError",
     "evalue": "module 'osmnx' has no attribute 'get_nearest_node'",
     "output_type": "error",
     "traceback": [
      "\u001b[1;31m---------------------------------------------------------------------------\u001b[0m",
      "\u001b[1;31mAttributeError\u001b[0m                            Traceback (most recent call last)",
      "Cell \u001b[1;32mIn[8], line 12\u001b[0m\n\u001b[0;32m      9\u001b[0m     distance \u001b[38;5;241m=\u001b[39m nx\u001b[38;5;241m.\u001b[39mshortest_path_length(G, orig_node, dest_node, weight\u001b[38;5;241m=\u001b[39m\u001b[38;5;124m'\u001b[39m\u001b[38;5;124mlength\u001b[39m\u001b[38;5;124m'\u001b[39m)\n\u001b[0;32m     10\u001b[0m     \u001b[38;5;28;01mreturn\u001b[39;00m distance \u001b[38;5;241m/\u001b[39m \u001b[38;5;241m1000\u001b[39m  \u001b[38;5;66;03m# meters to kilometers\u001b[39;00m\n\u001b[1;32m---> 12\u001b[0m walking_distance \u001b[38;5;241m=\u001b[39m \u001b[43mcalculate_walking_distance\u001b[49m\u001b[43m(\u001b[49m\u001b[43muser_coords\u001b[49m\u001b[43m,\u001b[49m\u001b[43m \u001b[49m\u001b[43mlibraries\u001b[49m\u001b[43m)\u001b[49m\n\u001b[0;32m     13\u001b[0m \u001b[38;5;28mprint\u001b[39m(\u001b[38;5;124mf\u001b[39m\u001b[38;5;124m\"\u001b[39m\u001b[38;5;124mWalking distance to library: \u001b[39m\u001b[38;5;132;01m{\u001b[39;00mwalking_distance\u001b[38;5;132;01m}\u001b[39;00m\u001b[38;5;124m km\u001b[39m\u001b[38;5;124m\"\u001b[39m)\n",
      "Cell \u001b[1;32mIn[8], line 6\u001b[0m, in \u001b[0;36mcalculate_walking_distance\u001b[1;34m(user_coords, library_coords)\u001b[0m\n\u001b[0;32m      4\u001b[0m \u001b[38;5;28;01mdef\u001b[39;00m \u001b[38;5;21mcalculate_walking_distance\u001b[39m(user_coords, library_coords):\n\u001b[0;32m      5\u001b[0m     G \u001b[38;5;241m=\u001b[39m ox\u001b[38;5;241m.\u001b[39mgraph_from_point(user_coords, dist\u001b[38;5;241m=\u001b[39m\u001b[38;5;241m1000\u001b[39m, network_type\u001b[38;5;241m=\u001b[39m\u001b[38;5;124m'\u001b[39m\u001b[38;5;124mwalk\u001b[39m\u001b[38;5;124m'\u001b[39m)\n\u001b[1;32m----> 6\u001b[0m     orig_node \u001b[38;5;241m=\u001b[39m \u001b[43mox\u001b[49m\u001b[38;5;241;43m.\u001b[39;49m\u001b[43mget_nearest_node\u001b[49m(G, user_coords)\n\u001b[0;32m      7\u001b[0m     dest_node \u001b[38;5;241m=\u001b[39m ox\u001b[38;5;241m.\u001b[39mget_nearest_node(G, library_coords)\n\u001b[0;32m      8\u001b[0m     route \u001b[38;5;241m=\u001b[39m nx\u001b[38;5;241m.\u001b[39mshortest_path(G, orig_node, dest_node, weight\u001b[38;5;241m=\u001b[39m\u001b[38;5;124m'\u001b[39m\u001b[38;5;124mlength\u001b[39m\u001b[38;5;124m'\u001b[39m)\n",
      "\u001b[1;31mAttributeError\u001b[0m: module 'osmnx' has no attribute 'get_nearest_node'"
     ]
    }
   ],
   "source": [
    "import osmnx as ox\n",
    "import networkx as nx\n",
    "\n",
    "def calculate_walking_distance(user_coords, library_coords):\n",
    "    G = ox.graph_from_point(user_coords, dist=1000, network_type='walk')\n",
    "    orig_node = ox.get_nearest_node(G, user_coords)\n",
    "    dest_node = ox.get_nearest_node(G, library_coords)\n",
    "    route = nx.shortest_path(G, orig_node, dest_node, weight='length')\n",
    "    distance = nx.shortest_path_length(G, orig_node, dest_node, weight='length')\n",
    "    return distance / 1000  # meters to kilometers\n",
    "\n",
    "walking_distance = calculate_walking_distance(user_coords, libraries)\n",
    "print(f\"Walking distance to library: {walking_distance} km\")\n"
   ]
  },
  {
   "cell_type": "code",
   "execution_count": 9,
   "metadata": {},
   "outputs": [
    {
     "name": "stdout",
     "output_type": "stream",
     "text": [
      "(35.5401446, 129.2598442)\n",
      "(37.9053026, 127.206376)\n"
     ]
    },
    {
     "name": "stderr",
     "output_type": "stream",
     "text": [
      "c:\\Users\\qq\\AppData\\Local\\Programs\\Python\\Python310\\lib\\site-packages\\osmnx\\graph.py:191: FutureWarning: The expected order of coordinates in `bbox` will change in the v2.0.0 release to `(left, bottom, right, top)`.\n",
      "  G = graph_from_bbox(\n"
     ]
    },
    {
     "name": "stdout",
     "output_type": "stream",
     "text": [
      "11420005572\n",
      "11420005572\n",
      "도서관까지 도보 거리 : 0.00 km\n"
     ]
    }
   ],
   "source": [
    "import osmnx as ox\n",
    "import networkx as nx\n",
    "\n",
    "def calculate_walking_distance(user_coords, library_coords):\n",
    "    # 사용자의 위치 주변의 도보 가능한 네트워크 그래프 생성\n",
    "    G = ox.graph_from_point(user_coords, dist=5000, network_type='walk')\n",
    "\n",
    "    # 그래프를 UTM으로 투영\n",
    "    G_proj = ox.project_graph(G)\n",
    "\n",
    "    # 사용자의 위치와 도서관의 위치에서 가장 가까운 노드를 찾기\n",
    "    orig_node = ox.distance.nearest_nodes(G_proj, user_coords[1], user_coords[0])\n",
    "    dest_node = ox.distance.nearest_nodes(G_proj, library_coords[1], library_coords[0])\n",
    "    print(orig_node)\n",
    "    print(dest_node)\n",
    "\n",
    "    # 최단 경로 및 거리를 계산\n",
    "    route = nx.shortest_path(G_proj, orig_node, dest_node, weight='length')\n",
    "    distance = nx.shortest_path_length(G_proj, orig_node, dest_node, weight='length')\n",
    "\n",
    "    return distance / 1000 # meters to kilometers\n",
    "\n",
    "# 사용자의 위치 예시\n",
    "user_coords = (latitude, longitude)  # 위도, 경도\n",
    "\n",
    "# 도서관의 위치 예시\n",
    "#library_coords = (lat, lon)  # 위도, 경도 (예시 도서관 위치)\n",
    "library_coords = libraries[0]['coords']\n",
    "print(user_coords)\n",
    "print(library_coords)\n",
    "walking_distance = calculate_walking_distance(user_coords, library_coords)\n",
    "print(f\"도서관까지 도보 거리 : {walking_distance:.2f} km\")\n"
   ]
  },
  {
   "cell_type": "code",
   "execution_count": 11,
   "metadata": {},
   "outputs": [
    {
     "name": "stdout",
     "output_type": "stream",
     "text": [
      "User coordinates: (35.5401446, 129.2598442)\n",
      "Library coordinates: (37.9053026, 127.206376)\n"
     ]
    },
    {
     "name": "stderr",
     "output_type": "stream",
     "text": [
      "c:\\Users\\qq\\AppData\\Local\\Programs\\Python\\Python310\\lib\\site-packages\\osmnx\\graph.py:191: FutureWarning: The expected order of coordinates in `bbox` will change in the v2.0.0 release to `(left, bottom, right, top)`.\n",
      "  G = graph_from_bbox(\n"
     ]
    },
    {
     "name": "stdout",
     "output_type": "stream",
     "text": [
      "Original node: 11420005572\n",
      "Destination node: 11420005572\n",
      "도서관까지 도보 거리: 0.00 meters\n"
     ]
    }
   ],
   "source": [
    "import osmnx as ox\n",
    "import networkx as nx\n",
    "\n",
    "def calculate_walking_distance(user_coords, library_coords):\n",
    "    # 사용자의 위치 주변의 도보 가능한 네트워크 그래프 생성\n",
    "    G = ox.graph_from_point(user_coords, dist=5000, network_type='walk')\n",
    "\n",
    "    # 그래프를 UTM으로 투영\n",
    "    G_proj = ox.project_graph(G)\n",
    "\n",
    "    # 사용자의 위치와 도서관의 위치에서 가장 가까운 노드를 찾기\n",
    "    orig_node = ox.distance.nearest_nodes(G_proj, user_coords[1], user_coords[0])  # 위도, 경도 순서\n",
    "    dest_node = ox.distance.nearest_nodes(G_proj, library_coords[1], library_coords[0])  # 위도, 경도 순서\n",
    "    print(f\"Original node: {orig_node}\")\n",
    "    print(f\"Destination node: {dest_node}\")\n",
    "\n",
    "    # 최단 경로 및 거리를 계산\n",
    "    route = nx.shortest_path(G_proj, orig_node, dest_node, weight='length')\n",
    "    distance = nx.shortest_path_length(G_proj, orig_node, dest_node, weight='length')\n",
    "\n",
    "    return distance / 5000 # meters\n",
    "\n",
    "# 사용자의 위치 예시\n",
    "user_coords = (latitude,longitude)  # 위도, 경도\n",
    "\n",
    "# 도서관의 위치 예시\n",
    "library_coords = libraries[0]['coords']  # 위도, 경도\n",
    "print(f\"User coordinates: {user_coords}\")\n",
    "print(f\"Library coordinates: {library_coords}\")\n",
    "\n",
    "walking_distance = calculate_walking_distance(user_coords, library_coords)\n",
    "print(f\"도서관까지 도보 거리: {walking_distance:.2f} meters\")\n"
   ]
  },
  {
   "cell_type": "code",
   "execution_count": 4,
   "metadata": {},
   "outputs": [
    {
     "name": "stdout",
     "output_type": "stream",
     "text": [
      "User coordinates: (35.5401446, 129.2598442)\n",
      "Library coordinates: (37.9053026, 127.206376)\n"
     ]
    },
    {
     "name": "stderr",
     "output_type": "stream",
     "text": [
      "C:\\Users\\qq\\AppData\\Local\\Temp\\ipykernel_2308\\1929547588.py:12: FutureWarning: The `north`, `south`, `east`, and `west` parameters are deprecated and will be removed in the v2.0.0 release. Use the `bbox` parameter instead. See the OSMnx v2 migration guide: https://github.com/gboeing/osmnx/issues/1123\n",
      "  G = ox.graph_from_bbox(north, south, east, west, network_type='walk')\n",
      "C:\\Users\\qq\\AppData\\Local\\Temp\\ipykernel_2308\\1929547588.py:12: FutureWarning: The expected order of coordinates in `bbox` will change in the v2.0.0 release to `(left, bottom, right, top)`.\n",
      "  G = ox.graph_from_bbox(north, south, east, west, network_type='walk')\n",
      "c:\\Users\\qq\\AppData\\Local\\Programs\\Python\\Python310\\lib\\site-packages\\osmnx\\_overpass.py:254: UserWarning: This area is 19 times your configured Overpass max query area size. It will automatically be divided up into multiple sub-queries accordingly. This may take a long time.\n",
      "  multi_poly_proj = utils_geo._consolidate_subdivide_geometry(poly_proj)\n"
     ]
    },
    {
     "ename": "KeyboardInterrupt",
     "evalue": "",
     "output_type": "error",
     "traceback": [
      "\u001b[1;31m---------------------------------------------------------------------------\u001b[0m",
      "\u001b[1;31mKeyboardInterrupt\u001b[0m                         Traceback (most recent call last)",
      "Cell \u001b[1;32mIn[4], line 38\u001b[0m\n\u001b[0;32m     35\u001b[0m \u001b[38;5;28mprint\u001b[39m(\u001b[38;5;124mf\u001b[39m\u001b[38;5;124m\"\u001b[39m\u001b[38;5;124mUser coordinates: \u001b[39m\u001b[38;5;132;01m{\u001b[39;00muser_coords\u001b[38;5;132;01m}\u001b[39;00m\u001b[38;5;124m\"\u001b[39m)\n\u001b[0;32m     36\u001b[0m \u001b[38;5;28mprint\u001b[39m(\u001b[38;5;124mf\u001b[39m\u001b[38;5;124m\"\u001b[39m\u001b[38;5;124mLibrary coordinates: \u001b[39m\u001b[38;5;132;01m{\u001b[39;00mlibrary_coords\u001b[38;5;132;01m}\u001b[39;00m\u001b[38;5;124m\"\u001b[39m)\n\u001b[1;32m---> 38\u001b[0m walking_distance \u001b[38;5;241m=\u001b[39m \u001b[43mcalculate_walking_distance\u001b[49m\u001b[43m(\u001b[49m\u001b[43muser_coords\u001b[49m\u001b[43m,\u001b[49m\u001b[43m \u001b[49m\u001b[43mlibrary_coords\u001b[49m\u001b[43m)\u001b[49m\n\u001b[0;32m     39\u001b[0m \u001b[38;5;28mprint\u001b[39m(\u001b[38;5;124mf\u001b[39m\u001b[38;5;124m\"\u001b[39m\u001b[38;5;124m도서관까지 도보 거리: \u001b[39m\u001b[38;5;132;01m{\u001b[39;00mwalking_distance\u001b[38;5;132;01m:\u001b[39;00m\u001b[38;5;124m.2f\u001b[39m\u001b[38;5;132;01m}\u001b[39;00m\u001b[38;5;124m meters\u001b[39m\u001b[38;5;124m\"\u001b[39m)\n",
      "Cell \u001b[1;32mIn[4], line 18\u001b[0m, in \u001b[0;36mcalculate_walking_distance\u001b[1;34m(user_coords, library_coords)\u001b[0m\n\u001b[0;32m     15\u001b[0m G_proj \u001b[38;5;241m=\u001b[39m ox\u001b[38;5;241m.\u001b[39mproject_graph(G)\n\u001b[0;32m     17\u001b[0m \u001b[38;5;66;03m# 사용자의 위치와 도서관의 위치에서 가장 가까운 노드를 찾기\u001b[39;00m\n\u001b[1;32m---> 18\u001b[0m orig_node \u001b[38;5;241m=\u001b[39m \u001b[43mox\u001b[49m\u001b[38;5;241;43m.\u001b[39;49m\u001b[43mdistance\u001b[49m\u001b[38;5;241;43m.\u001b[39;49m\u001b[43mnearest_nodes\u001b[49m\u001b[43m(\u001b[49m\u001b[43mG_proj\u001b[49m\u001b[43m,\u001b[49m\u001b[43m \u001b[49m\u001b[43muser_coords\u001b[49m\u001b[43m[\u001b[49m\u001b[38;5;241;43m1\u001b[39;49m\u001b[43m]\u001b[49m\u001b[43m,\u001b[49m\u001b[43m \u001b[49m\u001b[43muser_coords\u001b[49m\u001b[43m[\u001b[49m\u001b[38;5;241;43m0\u001b[39;49m\u001b[43m]\u001b[49m\u001b[43m)\u001b[49m  \u001b[38;5;66;03m# 경도, 위도\u001b[39;00m\n\u001b[0;32m     19\u001b[0m dest_node \u001b[38;5;241m=\u001b[39m ox\u001b[38;5;241m.\u001b[39mdistance\u001b[38;5;241m.\u001b[39mnearest_nodes(G_proj, library_coords[\u001b[38;5;241m1\u001b[39m], library_coords[\u001b[38;5;241m0\u001b[39m])  \u001b[38;5;66;03m# 경도, 위도\u001b[39;00m\n\u001b[0;32m     20\u001b[0m \u001b[38;5;28mprint\u001b[39m(\u001b[38;5;124mf\u001b[39m\u001b[38;5;124m\"\u001b[39m\u001b[38;5;124mOriginal node: \u001b[39m\u001b[38;5;132;01m{\u001b[39;00morig_node\u001b[38;5;132;01m}\u001b[39;00m\u001b[38;5;124m\"\u001b[39m)\n",
      "File \u001b[1;32mc:\\Users\\qq\\AppData\\Local\\Programs\\Python\\Python310\\lib\\site-packages\\osmnx\\distance.py:285\u001b[0m, in \u001b[0;36mnearest_nodes\u001b[1;34m(G, X, Y, return_dist)\u001b[0m\n\u001b[0;32m    283\u001b[0m     msg \u001b[38;5;241m=\u001b[39m \u001b[38;5;124m\"\u001b[39m\u001b[38;5;124m`X` and `Y` cannot contain nulls\u001b[39m\u001b[38;5;124m\"\u001b[39m\n\u001b[0;32m    284\u001b[0m     \u001b[38;5;28;01mraise\u001b[39;00m \u001b[38;5;167;01mValueError\u001b[39;00m(msg)\n\u001b[1;32m--> 285\u001b[0m nodes \u001b[38;5;241m=\u001b[39m \u001b[43mconvert\u001b[49m\u001b[38;5;241;43m.\u001b[39;49m\u001b[43mgraph_to_gdfs\u001b[49m\u001b[43m(\u001b[49m\u001b[43mG\u001b[49m\u001b[43m,\u001b[49m\u001b[43m \u001b[49m\u001b[43medges\u001b[49m\u001b[38;5;241;43m=\u001b[39;49m\u001b[38;5;28;43;01mFalse\u001b[39;49;00m\u001b[43m,\u001b[49m\u001b[43m \u001b[49m\u001b[43mnode_geometry\u001b[49m\u001b[38;5;241;43m=\u001b[39;49m\u001b[38;5;28;43;01mFalse\u001b[39;49;00m\u001b[43m)\u001b[49m[[\u001b[38;5;124m\"\u001b[39m\u001b[38;5;124mx\u001b[39m\u001b[38;5;124m\"\u001b[39m, \u001b[38;5;124m\"\u001b[39m\u001b[38;5;124my\u001b[39m\u001b[38;5;124m\"\u001b[39m]]\n\u001b[0;32m    287\u001b[0m \u001b[38;5;28;01mif\u001b[39;00m projection\u001b[38;5;241m.\u001b[39mis_projected(G\u001b[38;5;241m.\u001b[39mgraph[\u001b[38;5;124m\"\u001b[39m\u001b[38;5;124mcrs\u001b[39m\u001b[38;5;124m\"\u001b[39m]):\n\u001b[0;32m    288\u001b[0m     \u001b[38;5;66;03m# if projected, use k-d tree for euclidean nearest-neighbor search\u001b[39;00m\n\u001b[0;32m    289\u001b[0m     \u001b[38;5;28;01mif\u001b[39;00m cKDTree \u001b[38;5;129;01mis\u001b[39;00m \u001b[38;5;28;01mNone\u001b[39;00m:  \u001b[38;5;66;03m# pragma: no cover\u001b[39;00m\n",
      "File \u001b[1;32mc:\\Users\\qq\\AppData\\Local\\Programs\\Python\\Python310\\lib\\site-packages\\osmnx\\convert.py:55\u001b[0m, in \u001b[0;36mgraph_to_gdfs\u001b[1;34m(G, nodes, edges, node_geometry, fill_edge_geometry)\u001b[0m\n\u001b[0;32m     53\u001b[0m     gdf_nodes \u001b[38;5;241m=\u001b[39m gpd\u001b[38;5;241m.\u001b[39mGeoDataFrame(data, index\u001b[38;5;241m=\u001b[39muvk, crs\u001b[38;5;241m=\u001b[39mcrs, geometry\u001b[38;5;241m=\u001b[39m\u001b[38;5;28mlist\u001b[39m(node_geoms))\n\u001b[0;32m     54\u001b[0m \u001b[38;5;28;01melse\u001b[39;00m:\n\u001b[1;32m---> 55\u001b[0m     gdf_nodes \u001b[38;5;241m=\u001b[39m \u001b[43mgpd\u001b[49m\u001b[38;5;241;43m.\u001b[39;49m\u001b[43mGeoDataFrame\u001b[49m\u001b[43m(\u001b[49m\u001b[43mdata\u001b[49m\u001b[43m,\u001b[49m\u001b[43m \u001b[49m\u001b[43mindex\u001b[49m\u001b[38;5;241;43m=\u001b[39;49m\u001b[43muvk\u001b[49m\u001b[43m)\u001b[49m\n\u001b[0;32m     57\u001b[0m gdf_nodes\u001b[38;5;241m.\u001b[39mindex \u001b[38;5;241m=\u001b[39m gdf_nodes\u001b[38;5;241m.\u001b[39mindex\u001b[38;5;241m.\u001b[39mrename(\u001b[38;5;124m\"\u001b[39m\u001b[38;5;124mosmid\u001b[39m\u001b[38;5;124m\"\u001b[39m)\n\u001b[0;32m     58\u001b[0m utils\u001b[38;5;241m.\u001b[39mlog(\u001b[38;5;124m\"\u001b[39m\u001b[38;5;124mCreated nodes GeoDataFrame from graph\u001b[39m\u001b[38;5;124m\"\u001b[39m)\n",
      "File \u001b[1;32mc:\\Users\\qq\\AppData\\Local\\Programs\\Python\\Python310\\lib\\site-packages\\geopandas\\geodataframe.py:131\u001b[0m, in \u001b[0;36mGeoDataFrame.__init__\u001b[1;34m(self, data, geometry, crs, *args, **kwargs)\u001b[0m\n\u001b[0;32m    127\u001b[0m _internal_names_set \u001b[38;5;241m=\u001b[39m \u001b[38;5;28mset\u001b[39m(_internal_names)\n\u001b[0;32m    129\u001b[0m _geometry_column_name \u001b[38;5;241m=\u001b[39m \u001b[38;5;28;01mNone\u001b[39;00m\n\u001b[1;32m--> 131\u001b[0m \u001b[38;5;28;01mdef\u001b[39;00m \u001b[38;5;21m__init__\u001b[39m(\u001b[38;5;28mself\u001b[39m, data\u001b[38;5;241m=\u001b[39m\u001b[38;5;28;01mNone\u001b[39;00m, \u001b[38;5;241m*\u001b[39margs, geometry\u001b[38;5;241m=\u001b[39m\u001b[38;5;28;01mNone\u001b[39;00m, crs\u001b[38;5;241m=\u001b[39m\u001b[38;5;28;01mNone\u001b[39;00m, \u001b[38;5;241m*\u001b[39m\u001b[38;5;241m*\u001b[39mkwargs):\n\u001b[0;32m    132\u001b[0m     \u001b[38;5;28;01mwith\u001b[39;00m compat\u001b[38;5;241m.\u001b[39mignore_shapely2_warnings():\n\u001b[0;32m    133\u001b[0m         \u001b[38;5;28;01mif\u001b[39;00m (\n\u001b[0;32m    134\u001b[0m             kwargs\u001b[38;5;241m.\u001b[39mget(\u001b[38;5;124m\"\u001b[39m\u001b[38;5;124mcopy\u001b[39m\u001b[38;5;124m\"\u001b[39m) \u001b[38;5;129;01mis\u001b[39;00m \u001b[38;5;28;01mNone\u001b[39;00m\n\u001b[0;32m    135\u001b[0m             \u001b[38;5;129;01mand\u001b[39;00m \u001b[38;5;28misinstance\u001b[39m(data, DataFrame)\n\u001b[0;32m    136\u001b[0m             \u001b[38;5;129;01mand\u001b[39;00m \u001b[38;5;129;01mnot\u001b[39;00m \u001b[38;5;28misinstance\u001b[39m(data, GeoDataFrame)\n\u001b[0;32m    137\u001b[0m         ):\n",
      "\u001b[1;31mKeyboardInterrupt\u001b[0m: "
     ]
    }
   ],
   "source": [
    "import osmnx as ox\n",
    "import networkx as nx\n",
    "\n",
    "def calculate_walking_distance(user_coords, library_coords):\n",
    "    # 사용자와 도서관 위치를 포함하는 경계 상자를 생성\n",
    "    north = max(user_coords[0], library_coords[0])\n",
    "    south = min(user_coords[0], library_coords[0])\n",
    "    east = max(user_coords[1], library_coords[1])\n",
    "    west = min(user_coords[1], library_coords[1])\n",
    "    \n",
    "    # 두 위치를 포함하는 네트워크 그래프 생성\n",
    "    G = ox.graph_from_bbox(north, south, east, west, network_type='walk')\n",
    "\n",
    "    # 그래프를 UTM으로 투영\n",
    "    G_proj = ox.project_graph(G)\n",
    "\n",
    "    # 사용자의 위치와 도서관의 위치에서 가장 가까운 노드를 찾기\n",
    "    orig_node = ox.distance.nearest_nodes(G_proj, user_coords[1], user_coords[0])  # 경도, 위도\n",
    "    dest_node = ox.distance.nearest_nodes(G_proj, library_coords[1], library_coords[0])  # 경도, 위도\n",
    "    print(f\"Original node: {orig_node}\")\n",
    "    print(f\"Destination node: {dest_node}\")\n",
    "\n",
    "    # 최단 경로 및 거리를 계산\n",
    "    route = nx.shortest_path(G_proj, orig_node, dest_node, weight='length')\n",
    "    distance = nx.shortest_path_length(G_proj, orig_node, dest_node, weight='length')\n",
    "\n",
    "    return distance  # meters\n",
    "\n",
    "# 사용자의 위치 예시\n",
    "user_coords = (latitude,longitude)  # 위도, 경도\n",
    "\n",
    "# 도서관의 위치 예시\n",
    "library_coords = libraries[0]['coords']  # 위도, 경도\n",
    "\n",
    "print(f\"User coordinates: {user_coords}\")\n",
    "print(f\"Library coordinates: {library_coords}\")\n",
    "\n",
    "walking_distance = calculate_walking_distance(user_coords, library_coords)\n",
    "print(f\"도서관까지 도보 거리: {walking_distance:.2f} meters\")\n"
   ]
  },
  {
   "cell_type": "markdown",
   "metadata": {},
   "source": [
    "2. 도서관에서 본인이 원하는 책이 있는지 여부 확인\n",
    "\n",
    "2.1 도서관 책 목록 가져오기\n",
    "\n",
    "- 각 도서관의 책 목록을 제공하는 API가 있다면 이를 활용해 책 목록을 받아옵니다.\n",
    "- 예를 들어, 특정 도서관의 웹사이트에서 제공하는 Open API를 사용할 수 있습니다."
   ]
  },
  {
   "cell_type": "code",
   "execution_count": 20,
   "metadata": {},
   "outputs": [
    {
     "name": "stdout",
     "output_type": "stream",
     "text": [
      "Is the book available? No\n"
     ]
    }
   ],
   "source": [
    "import requests\n",
    "import xml.etree.ElementTree as ET\n",
    "\n",
    "def check_book_in_library(library_api_url, book_title):\n",
    "    \n",
    "    params = {\n",
    "        #'serviceKey': 'bNwH7fMESNzwAdqKn4rn3mvLVwSHVwt%2Bmze%2Fu1HudJZlAtB0KitYcJHsQn15UdGWTFrSW%2BMmpNd7VxdUTWfLCw%3D%3D',\n",
    "        'serviceKey': 'bNwH7fMESNzwAdqKn4rn3mvLVwSHVwt%2Bmze%2Fu1HudJZlAtB0KitYcJHsQn15UdGWTFrSW%2BMmpNd7VxdUTWfLCw%3D%3D',    # 반드시 API 키를 여기에 넣으세요\n",
    "        'title': book_title\n",
    "    }\n",
    "    response = requests.get(library_api_url, params=params)\n",
    "    \n",
    "    if response.status_code == 200:\n",
    "        # XML 데이터를 파싱\n",
    "        root = ET.fromstring(response.content)\n",
    "        \n",
    "        # 예제에 따라 도서의 유무를 판단하는 부분이 다를 수 있습니다.\n",
    "        # 여기서는 예제로 첫 번째 도서의 상태를 가져오는 방법을 설명합니다.\n",
    "        for item in root.findall('.//item'):\n",
    "            book_name = item.find('title').text\n",
    "            if book_name == book_title:\n",
    "                available = item.find('loanAvailable').text  # 대출 가능 여부 필드 예시\n",
    "                return available == 'Y'  # 대출 가능이면 True 반환\n",
    "        \n",
    "        return False\n",
    "    else:\n",
    "        print(\"Error: API 요청이 실패했습니다.\")\n",
    "        return False\n",
    "\n",
    "# 예제 사용\n",
    "library_api_url = \"http://openapi-lib.sen.go.kr/openapi/service/lib/openApi\"\n",
    "book_title = \"\"\n",
    "is_available = check_book_in_library(library_api_url, book_title)\n",
    "print(f\"Is the book available? {'Yes' if is_available else 'No'}\")\n"
   ]
  },
  {
   "cell_type": "code",
   "execution_count": 17,
   "metadata": {},
   "outputs": [
    {
     "ename": "KeyError",
     "evalue": "'Availability'",
     "output_type": "error",
     "traceback": [
      "\u001b[1;31m---------------------------------------------------------------------------\u001b[0m",
      "\u001b[1;31mKeyError\u001b[0m                                  Traceback (most recent call last)",
      "Cell \u001b[1;32mIn[17], line 14\u001b[0m\n\u001b[0;32m     11\u001b[0m csv_file_path \u001b[38;5;241m=\u001b[39m \u001b[38;5;124m'\u001b[39m\u001b[38;5;124m공공도서관 소장도서_202407-1.csv\u001b[39m\u001b[38;5;124m'\u001b[39m  \u001b[38;5;66;03m# CSV 파일 경로\u001b[39;00m\n\u001b[0;32m     12\u001b[0m book_title \u001b[38;5;241m=\u001b[39m \u001b[38;5;28minput\u001b[39m(\u001b[38;5;124m'\u001b[39m\u001b[38;5;124m찾고자 하는 책의 제목을 입력하세요.\u001b[39m\u001b[38;5;124m'\u001b[39m)  \u001b[38;5;66;03m# 찾고자 하는 책의 제목\u001b[39;00m\n\u001b[1;32m---> 14\u001b[0m is_available \u001b[38;5;241m=\u001b[39m \u001b[43mcheck_book_in_library\u001b[49m\u001b[43m(\u001b[49m\u001b[43mcsv_file_path\u001b[49m\u001b[43m,\u001b[49m\u001b[43m \u001b[49m\u001b[43mbook_title\u001b[49m\u001b[43m)\u001b[49m\n\u001b[0;32m     15\u001b[0m \u001b[38;5;28mprint\u001b[39m(\u001b[38;5;124mf\u001b[39m\u001b[38;5;124m\"\u001b[39m\u001b[38;5;124mIs the book \u001b[39m\u001b[38;5;124m'\u001b[39m\u001b[38;5;132;01m{\u001b[39;00mbook_title\u001b[38;5;132;01m}\u001b[39;00m\u001b[38;5;124m'\u001b[39m\u001b[38;5;124m available? \u001b[39m\u001b[38;5;132;01m{\u001b[39;00m\u001b[38;5;124m'\u001b[39m\u001b[38;5;124mYes\u001b[39m\u001b[38;5;124m'\u001b[39m\u001b[38;5;250m \u001b[39m\u001b[38;5;28;01mif\u001b[39;00m\u001b[38;5;250m \u001b[39mis_available\u001b[38;5;250m \u001b[39m\u001b[38;5;28;01melse\u001b[39;00m\u001b[38;5;250m \u001b[39m\u001b[38;5;124m'\u001b[39m\u001b[38;5;124mNo\u001b[39m\u001b[38;5;124m'\u001b[39m\u001b[38;5;132;01m}\u001b[39;00m\u001b[38;5;124m\"\u001b[39m)\n",
      "Cell \u001b[1;32mIn[17], line 8\u001b[0m, in \u001b[0;36mcheck_book_in_library\u001b[1;34m(csv_file_path, book_title)\u001b[0m\n\u001b[0;32m      6\u001b[0m     \u001b[38;5;28;01mfor\u001b[39;00m row \u001b[38;5;129;01min\u001b[39;00m reader:\n\u001b[0;32m      7\u001b[0m         \u001b[38;5;28;01mif\u001b[39;00m row[\u001b[38;5;124m'\u001b[39m\u001b[38;5;124mTITLE_NM\u001b[39m\u001b[38;5;124m'\u001b[39m]\u001b[38;5;241m.\u001b[39mstrip()\u001b[38;5;241m.\u001b[39mlower() \u001b[38;5;241m==\u001b[39m book_title\u001b[38;5;241m.\u001b[39mstrip()\u001b[38;5;241m.\u001b[39mlower():\n\u001b[1;32m----> 8\u001b[0m             \u001b[38;5;28;01mreturn\u001b[39;00m \u001b[43mrow\u001b[49m\u001b[43m[\u001b[49m\u001b[38;5;124;43m'\u001b[39;49m\u001b[38;5;124;43mAvailability\u001b[39;49m\u001b[38;5;124;43m'\u001b[39;49m\u001b[43m]\u001b[49m\u001b[38;5;241m.\u001b[39mstrip()\u001b[38;5;241m.\u001b[39mlower() \u001b[38;5;241m==\u001b[39m \u001b[38;5;124m'\u001b[39m\u001b[38;5;124myes\u001b[39m\u001b[38;5;124m'\u001b[39m\n\u001b[0;32m      9\u001b[0m \u001b[38;5;28;01mreturn\u001b[39;00m \u001b[38;5;28;01mFalse\u001b[39;00m\n",
      "\u001b[1;31mKeyError\u001b[0m: 'Availability'"
     ]
    }
   ],
   "source": [
    "import csv\n",
    "\n",
    "def check_book_in_library(csv_file_path, book_title):\n",
    "    with open(csv_file_path, mode='r', encoding='utf-8') as file:\n",
    "        reader = csv.DictReader(file)\n",
    "        for row in reader:\n",
    "            if row['TITLE_NM'].strip().lower() == book_title.strip().lower():\n",
    "                return row['Availability'].strip().lower() == 'yes'\n",
    "    return False\n",
    "\n",
    "csv_file_path = '공공도서관 소장도서_202407-1.csv'  # CSV 파일 경로\n",
    "book_title = input('찾고자 하는 책의 제목을 입력하세요.')  # 찾고자 하는 책의 제목\n",
    "\n",
    "is_available = check_book_in_library(csv_file_path, book_title)\n",
    "print(f\"Is the book '{book_title}' available? {'Yes' if is_available else 'No'}\")"
   ]
  },
  {
   "cell_type": "markdown",
   "metadata": {},
   "source": [
    "2.2 원하는 책의 유무 확인\n",
    "\n",
    "- 사용자가 입력한 책 제목을 검색해 각 도서관의 API에서 해당 책이 있는지 확인합니다. 여러 도서관에 대해 반복해서 검색할 수 있습니다."
   ]
  },
  {
   "cell_type": "code",
   "execution_count": null,
   "metadata": {},
   "outputs": [],
   "source": [
    "libraries = [\n",
    "    {\"name\": \"Library 1\", \"api_url\": \"http://example.com/library1_api\"},\n",
    "    {\"name\": \"Library 2\", \"api_url\": \"http://example.com/library2_api\"},\n",
    "    # more libraries...\n",
    "]\n",
    "\n",
    "for library in libraries:\n",
    "    is_available = check_book_in_library(library['api_url'], book_title)\n",
    "    if is_available:\n",
    "        print(f\"{book_title} is available at {library['name']}\")\n",
    "    else:\n",
    "        print(f\"{book_title} is not available at {library['name']}\")\n"
   ]
  },
  {
   "cell_type": "markdown",
   "metadata": {},
   "source": [
    "최종적으로 애플리케이션을 웹 애플리케이션으로 확장하려면\n",
    "- 웹 프레임워크: Flask나 Django를 사용하여 API와 사용자 인터페이스를 구축할 수 있습니다.\n",
    "- 지도 API: Google Maps, OpenStreetMap 등을 이용해 도서관 위치를 지도에 표시하고, 경로를 안내할 수 있습니다.\n",
    "-  프론트엔드: HTML, CSS, JavaScript로 사용자 인터페이스를 구성합니다.\n",
    "\n",
    "추가 고려 사항\n",
    "- 데이터베이스: 도서관 위치와 책 목록을 데이터베이스에 저장하고 관리할 수 있습니다. SQLite, PostgreSQL, MySQL 등을 사용할 수 있습니다.\n",
    "- 사용자 인증: 사용자가 개인 계정을 통해 특정 도서관을 즐겨찾기하거나 책을 예약할 수 있도록 하는 기능을 추가할 수 있습니다.\n",
    "\n",
    "위의 구조를 기반으로 프로젝트를 시작하면, 단계별로 구현해나갈 수 있을 것입니다. 처음에는 간단한 콘솔 애플리케이션으로 시작한 뒤, 점차 웹 애플리케이션으로 확장해 나가면 됩니다."
   ]
  },
  {
   "cell_type": "markdown",
   "metadata": {},
   "source": []
  }
 ],
 "metadata": {
  "kernelspec": {
   "display_name": "Python 3",
   "language": "python",
   "name": "python3"
  },
  "language_info": {
   "codemirror_mode": {
    "name": "ipython",
    "version": 3
   },
   "file_extension": ".py",
   "mimetype": "text/x-python",
   "name": "python",
   "nbconvert_exporter": "python",
   "pygments_lexer": "ipython3",
   "version": "3.10.9"
  }
 },
 "nbformat": 4,
 "nbformat_minor": 2
}

{
  "cells": [
    {
      "cell_type": "markdown",
      "metadata": {
        "id": "SzrLpUgCw9-F"
      },
      "source": [
        "# 가위 바위 보 게임\n",
        "컴퓨터와 가위 바위 보를 하는 게임을 만들어보자.\n",
        "1. random 모듈을 사용하여 컴퓨터는 가위, 바위, 보중 하나를 랜덤으로 choice한다.\n",
        "    - print('가위 바위 보 게임!')\n",
        "    - computer = random.choice(['가위', '바위', '보'])\n",
        "2. 사용자에게 가위, 바위, 보중 하나를 입력받는다.\n",
        "3. if-elif-else를 적절히 활용하여, 플레이어가 이겼는지, 졌는지, 무승부인지 판단한다.\n",
        "\n",
        "프로세스 예시)\n",
        "- 가위 바위 보 중 하나를 입력해주세요: 가위\n",
        "- 컴퓨터 : 가위\n",
        "- 플레이어 : 가위\n",
        "- 무승부입니다.\n",
        "\n",
        " "
      ]
    },
    {
      "cell_type": "code",
      "execution_count": 1,
      "metadata": {
        "id": "9PJlacoVxCl9"
      },
      "outputs": [
        {
          "name": "stdout",
          "output_type": "stream",
          "text": [
            "가위 바위 보 게임\n",
            "--------------------------------------------------\n"
          ]
        }
      ],
      "source": [
        "# 가위 바위 보 게임\n",
        "\n",
        "import random as r\n",
        "\n",
        "print('가위 바위 보 게임')\n",
        "print('-'*50)\n",
        "\n",
        "# '가위', '바위', '보' 중 하나를 선택해서 com에 저장\n",
        "com = r.choice(['가위', '바위', '보'])"
      ]
    },
    {
      "cell_type": "code",
      "execution_count": 17,
      "metadata": {},
      "outputs": [
        {
          "name": "stdout",
          "output_type": "stream",
          "text": [
            "['바위']\n"
          ]
        },
        {
          "ename": "TypeError",
          "evalue": "'str' object is not callable",
          "output_type": "error",
          "traceback": [
            "\u001b[1;31m---------------------------------------------------------------------------\u001b[0m",
            "\u001b[1;31mTypeError\u001b[0m                                 Traceback (most recent call last)",
            "Cell \u001b[1;32mIn[17], line 5\u001b[0m\n\u001b[0;32m      2\u001b[0m com \u001b[38;5;241m=\u001b[39m r\u001b[38;5;241m.\u001b[39mchoice([\u001b[38;5;124m'\u001b[39m\u001b[38;5;124m가위\u001b[39m\u001b[38;5;124m'\u001b[39m, \u001b[38;5;124m'\u001b[39m\u001b[38;5;124m바위\u001b[39m\u001b[38;5;124m'\u001b[39m, \u001b[38;5;124m'\u001b[39m\u001b[38;5;124m보\u001b[39m\u001b[38;5;124m'\u001b[39m])\n\u001b[0;32m      4\u001b[0m \u001b[38;5;28;01mif\u001b[39;00m a \u001b[38;5;241m==\u001b[39m \u001b[38;5;124m\"\u001b[39m\u001b[38;5;124m가위\u001b[39m\u001b[38;5;124m\"\u001b[39m:\n\u001b[1;32m----> 5\u001b[0m     \u001b[38;5;28;01mif\u001b[39;00m \u001b[43mcom\u001b[49m\u001b[43m(\u001b[49m\u001b[38;5;28;43mprint\u001b[39;49m\u001b[43m(\u001b[49m\u001b[43m[\u001b[49m\u001b[38;5;124;43m'\u001b[39;49m\u001b[38;5;124;43m바위\u001b[39;49m\u001b[38;5;124;43m'\u001b[39;49m\u001b[43m]\u001b[49m\u001b[43m)\u001b[49m\u001b[43m)\u001b[49m:\n\u001b[0;32m      6\u001b[0m         \u001b[38;5;28mprint\u001b[39m(\u001b[38;5;124m'\u001b[39m\u001b[38;5;124m패배했습니다\u001b[39m\u001b[38;5;124m'\u001b[39m)\n\u001b[0;32m      7\u001b[0m     \u001b[38;5;28;01melif\u001b[39;00m com(\u001b[38;5;28mprint\u001b[39m([\u001b[38;5;124m'\u001b[39m\u001b[38;5;124m보\u001b[39m\u001b[38;5;124m'\u001b[39m])):\n",
            "\u001b[1;31mTypeError\u001b[0m: 'str' object is not callable"
          ]
        }
      ],
      "source": [
        "a = input('가위바위보를 입력하세요: ')\n",
        "com = r.choice(['가위', '바위', '보'])\n",
        "\n",
        "if a == \"가위\":\n",
        "    if com(print(['바위'])):\n",
        "        print('패배했습니다')\n",
        "    elif com(print(['보'])):\n",
        "        print('승리했습니다')\n",
        "    else:\n",
        "        print('무승부입니다')\n",
        "\n",
        "elif a == '바위':\n",
        "    if com(print(['보'])):\n",
        "        print('패배했습니다')\n",
        "    elif com(print(['가위'])):\n",
        "        print('승리했습니다')\n",
        "    else:\n",
        "        print('무승부입니다')\n",
        "\n",
        "else:\n",
        "    if com(print(['가위'])):\n",
        "        print('패배했습니다')\n",
        "    elif com(print(['바위'])):\n",
        "        print('승리했습니다')\n",
        "    else:\n",
        "        print('무승부입니다')\n",
        "\n"
      ]
    },
    {
      "cell_type": "code",
      "execution_count": 21,
      "metadata": {},
      "outputs": [
        {
          "name": "stdout",
          "output_type": "stream",
          "text": [
            "컴퓨터: 보\n",
            "플레이어: 가위\n",
            "올바른 문자를 입력해주세요.\n",
            "승리했습니다.\n"
          ]
        }
      ],
      "source": [
        "a = input('가위바위보를 입력하세요: ')\n",
        "com = r.choice(['가위', '바위', '보'])\n",
        "\n",
        "print('컴퓨터: %s' % com)\n",
        "print('플레이어: %s' % a)\n",
        "\n",
        "if a != '가위' or a != '바위' or a != '보':\n",
        "    print('올바른 문자를 입력해주세요.')\n",
        "\n",
        "if a == '가위':\n",
        "    if com == '가위':\n",
        "        print('무승부입니다.')\n",
        "    elif com == '바위':\n",
        "        print('패배했습니다.')\n",
        "    elif com == '보':\n",
        "        print('승리했습니다.')\n",
        "\n",
        "elif a == '바위':\n",
        "    if com == '가위':\n",
        "        print('승리했습니다.')\n",
        "    elif com == '바위':\n",
        "        print('무승부입니다.')\n",
        "    elif com == '보':\n",
        "        print('패배했습니다.')\n",
        "\n",
        "elif a == '보':\n",
        "    if com == '가위':\n",
        "        print('패배했습니다.')\n",
        "    elif com == '바위':\n",
        "        print('승리했습니다.')\n",
        "    elif com == '보':\n",
        "        print('무승부입니다.')\n"
      ]
    },
    {
      "cell_type": "markdown",
      "metadata": {
        "id": "ne6hunMDj04c"
      },
      "source": [
        "# 업다운 게임\n",
        " 범위를 지정해준 후, 범위 사이에 있는 랜덤 숫자를 맞춘다.\n",
        "\n",
        "정답은 random을 이용하여 무작위 숫자 입력.\n",
        "number = random.randint(1, 99)\n",
        "\n",
        "정답을 입력하면 프로그램 종료.\n",
        "1. 기회 10회 부여(1번 입력할 때 마다 기회 소모) 및 남은 횟수 출력\n",
        "2. 숫자를 입력할 때마다, 범위를 업데이트해서 보여주면 좋습니다.\n",
        "\n",
        "\n",
        "프로세스 예시)\n",
        "- 생각한 숫자를 입력하세요: (1 ~ 99)50\n",
        "- Down! (남은 기회: 9)\n",
        "- 생각한 숫자를 입력하세요: (1 ~ 50)\n"
      ]
    },
    {
      "cell_type": "code",
      "execution_count": null,
      "metadata": {
        "colab": {
          "base_uri": "https://localhost:8080/"
        },
        "id": "KxWhd55Yk02b",
        "outputId": "c9988537-22e9-48dc-e73e-fc91e4488187"
      },
      "outputs": [],
      "source": [
        "# 가위 바위 보 게임\n",
        "\n",
        "import random as r\n",
        "\n",
        "print('업다운 게임')\n",
        "print('='*50)\n",
        "\n",
        "number = r.randint(1, 99)        # number 변수에 1~99사이의 난수를 생성."
      ]
    },
    {
      "cell_type": "markdown",
      "metadata": {},
      "source": [
        "내가 직접 실행한 코드"
      ]
    },
    {
      "cell_type": "code",
      "execution_count": 43,
      "metadata": {},
      "outputs": [
        {
          "name": "stdout",
          "output_type": "stream",
          "text": [
            "업다운 게임\n",
            "==================================================\n",
            "DOWN! 남은기회 : 9번\n",
            "DOWN! 남은기회 : 8번\n",
            "UP! 남은기회 : 7번\n"
          ]
        },
        {
          "ename": "ValueError",
          "evalue": "invalid literal for int() with base 10: ''",
          "output_type": "error",
          "traceback": [
            "\u001b[1;31m---------------------------------------------------------------------------\u001b[0m",
            "\u001b[1;31mValueError\u001b[0m                                Traceback (most recent call last)",
            "Cell \u001b[1;32mIn[43], line 14\u001b[0m\n\u001b[0;32m     11\u001b[0m \u001b[38;5;28mmax\u001b[39m \u001b[38;5;241m=\u001b[39m \u001b[38;5;241m99\u001b[39m\n\u001b[0;32m     13\u001b[0m \u001b[38;5;28;01mwhile\u001b[39;00m chance \u001b[38;5;241m>\u001b[39m \u001b[38;5;241m0\u001b[39m:\n\u001b[1;32m---> 14\u001b[0m     player \u001b[38;5;241m=\u001b[39m \u001b[38;5;28;43mint\u001b[39;49m\u001b[43m(\u001b[49m\u001b[38;5;28;43minput\u001b[39;49m\u001b[43m(\u001b[49m\u001b[38;5;124;43mf\u001b[39;49m\u001b[38;5;124;43m'\u001b[39;49m\u001b[38;5;132;43;01m{\u001b[39;49;00m\u001b[38;5;28;43mmin\u001b[39;49m\u001b[38;5;132;43;01m}\u001b[39;49;00m\u001b[38;5;124;43m부터 \u001b[39;49m\u001b[38;5;132;43;01m{\u001b[39;49;00m\u001b[38;5;28;43mmax\u001b[39;49m\u001b[38;5;132;43;01m}\u001b[39;49;00m\u001b[38;5;124;43m사이 숫자를 입력하세요.\u001b[39;49m\u001b[38;5;124;43m'\u001b[39;49m\u001b[43m)\u001b[49m\u001b[43m)\u001b[49m\n\u001b[0;32m     15\u001b[0m     chance \u001b[38;5;241m-\u001b[39m\u001b[38;5;241m=\u001b[39m \u001b[38;5;241m1\u001b[39m\n\u001b[0;32m     17\u001b[0m     \u001b[38;5;28;01mif\u001b[39;00m player \u001b[38;5;241m>\u001b[39m number:\n",
            "\u001b[1;31mValueError\u001b[0m: invalid literal for int() with base 10: ''"
          ]
        }
      ],
      "source": [
        "import random as r\n",
        "\n",
        "print('업다운 게임')\n",
        "print('='*50)\n",
        "\n",
        "number = r.randint(1, 99)  \n",
        "player = int(input('1부터 99 사이 숫자를 입력하세요.'))\n",
        "chance = 10\n",
        "# 범위를 표시하기 위한 새로운 변수가 필요\n",
        "min = 1\n",
        "max = 99\n",
        "\n",
        "while chance > 0:\n",
        "    player = int(input(f'{min}부터 {max}사이 숫자를 입력하세요.'))\n",
        "    chance -= 1\n",
        "\n",
        "    if player > number:\n",
        "        print(f'DOWN! 남은기회 : {chance}번')\n",
        "        max = player - 1\n",
        "    elif player < number:\n",
        "        print(f'UP! 남은기회 : {chance}번')\n",
        "        min = player + 1\n",
        "    else:\n",
        "        print('정답입니다!')\n",
        "        break\n"
      ]
    },
    {
      "cell_type": "markdown",
      "metadata": {},
      "source": [
        "GPT 설명 코드\n"
      ]
    },
    {
      "cell_type": "code",
      "execution_count": 42,
      "metadata": {},
      "outputs": [
        {
          "name": "stdout",
          "output_type": "stream",
          "text": [
            "업다운 게임\n",
            "==================================================\n",
            "DOWN!\n",
            "DOWN!\n",
            "UP!\n",
            "DOWN!\n",
            "DOWN!\n",
            "UP!\n",
            "정답입니다!\n"
          ]
        }
      ],
      "source": [
        "import random as r\n",
        "\n",
        "print('업다운 게임')\n",
        "print('='*50)\n",
        "\n",
        "number = r.randint(1, 99)\n",
        "chance = 10  # 남은 기회\n",
        "min_val = 1\n",
        "max_val = 99\n",
        "\n",
        "while chance > 0:\n",
        "    player = int(input(f'{min_val}부터 {max_val} 사이 숫자를 입력하세요. (남은 기회: {chance}): '))\n",
        "    chance -= 1\n",
        "\n",
        "    if player > number:\n",
        "        print('DOWN!')\n",
        "        max_val = player - 1  # max 범위를 줄임\n",
        "    elif player < number:\n",
        "        print('UP!')\n",
        "        min_val = player + 1  # min 범위를 올림\n",
        "    else:\n",
        "        print('정답입니다!')\n",
        "        break\n",
        "\n",
        "    if chance == 0:\n",
        "        print(f'기회를 모두 사용했습니다. 정답은 {number}였습니다.')\n"
      ]
    },
    {
      "cell_type": "code",
      "execution_count": null,
      "metadata": {},
      "outputs": [],
      "source": []
    }
  ],
  "metadata": {
    "colab": {
      "provenance": []
    },
    "kernelspec": {
      "display_name": "Python 3",
      "name": "python3"
    },
    "language_info": {
      "codemirror_mode": {
        "name": "ipython",
        "version": 3
      },
      "file_extension": ".py",
      "mimetype": "text/x-python",
      "name": "python",
      "nbconvert_exporter": "python",
      "pygments_lexer": "ipython3",
      "version": "3.12.4"
    }
  },
  "nbformat": 4,
  "nbformat_minor": 0
}

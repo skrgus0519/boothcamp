{
 "cells": [
  {
   "cell_type": "markdown",
   "id": "e818cd7d",
   "metadata": {},
   "source": [
    "# 술에 취한 딱정벌레\n",
    "\n",
    "딱정벌레가 N X N 크기의 방을 움직이고 있다.\n",
    "\n",
    "가운데 점을 시작 위치로, 딱정벌레가 술에 취해 상하좌우 4방향을 무작위로 움직인다.\n",
    "\n",
    "딱정벌레가 방안의 모든 타일을 한 번 이상 지나가는데 걸리는 총 이동수는 얼마인가?"
   ]
  },
  {
   "cell_type": "code",
   "execution_count": 41,
   "id": "e8b2ca29",
   "metadata": {},
   "outputs": [],
   "source": [
    "# 현재 위치를 x, y라고 했을 때 시작위치 지정.\n",
    "# x : int(n / 2)\n",
    "# y : int(n / 2)\n",
    "# map[x][y]로 현재, 딱정벌레의 위치 파악\n",
    "\n"
   ]
  },
  {
   "cell_type": "markdown",
   "id": "70af8d5c",
   "metadata": {},
   "source": [
    "### 심화) 딱장벌레가 모든 타일을 지나갔을 때, 각각의 타일을 몇 번 지나갔는지 숫자로 표시하세요."
   ]
  },
  {
   "cell_type": "code",
   "execution_count": null,
   "id": "bed58306",
   "metadata": {},
   "outputs": [],
   "source": []
  }
 ],
 "metadata": {
  "kernelspec": {
   "display_name": "Python 3",
   "language": "python",
   "name": "python3"
  },
  "language_info": {
   "codemirror_mode": {
    "name": "ipython",
    "version": 3
   },
   "file_extension": ".py",
   "mimetype": "text/x-python",
   "name": "python",
   "nbconvert_exporter": "python",
   "pygments_lexer": "ipython3",
   "version": "3.8.8"
  }
 },
 "nbformat": 4,
 "nbformat_minor": 5
}
